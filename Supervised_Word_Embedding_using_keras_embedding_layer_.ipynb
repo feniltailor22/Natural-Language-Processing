{
  "nbformat": 4,
  "nbformat_minor": 0,
  "metadata": {
    "colab": {
      "name": "Supervised Word Embedding using keras embedding layer .ipynb",
      "provenance": [],
      "collapsed_sections": [],
      "authorship_tag": "ABX9TyN+whVb3B7dEbNjVYJRjhFt",
      "include_colab_link": true
    },
    "kernelspec": {
      "name": "python3",
      "display_name": "Python 3"
    },
    "language_info": {
      "name": "python"
    }
  },
  "cells": [
    {
      "cell_type": "markdown",
      "metadata": {
        "id": "view-in-github",
        "colab_type": "text"
      },
      "source": [
        "<a href=\"https://colab.research.google.com/github/feniltailor22/Natural-Language-Processing/blob/main/Supervised_Word_Embedding_using_keras_embedding_layer_.ipynb\" target=\"_parent\"><img src=\"https://colab.research.google.com/assets/colab-badge.svg\" alt=\"Open In Colab\"/></a>"
      ]
    },
    {
      "cell_type": "code",
      "metadata": {
        "id": "suk3H-mXdCaQ"
      },
      "source": [
        "import numpy as np"
      ],
      "execution_count": 1,
      "outputs": []
    },
    {
      "cell_type": "code",
      "metadata": {
        "id": "fviWyp5GhRtg"
      },
      "source": [
        "reviews = ['nice food',\n",
        "        'amazing restaurant',\n",
        "        'too good',\n",
        "        'just loved it!',\n",
        "        'will go again',\n",
        "        'horrible food',\n",
        "        'never go there',\n",
        "        'poor service',\n",
        "        'poor quality',\n",
        "        'needs improvement']"
      ],
      "execution_count": 2,
      "outputs": []
    },
    {
      "cell_type": "code",
      "metadata": {
        "id": "6Mq-JEIuhUj_"
      },
      "source": [
        "sentiment = np.array([1,1,1,1,1,0,0,0,0,0])"
      ],
      "execution_count": 3,
      "outputs": []
    },
    {
      "cell_type": "code",
      "metadata": {
        "id": "2UPGCYI8hWlF"
      },
      "source": [
        "from tensorflow.keras.preprocessing.text import one_hot"
      ],
      "execution_count": 5,
      "outputs": []
    },
    {
      "cell_type": "code",
      "metadata": {
        "colab": {
          "base_uri": "https://localhost:8080/"
        },
        "id": "fK0i20T4hhaR",
        "outputId": "f1146e33-f74e-4bdb-b865-62a927f23ab2"
      },
      "source": [
        "one_hot(input_text=reviews[1], n=30) #one_hot encodding for 'amazing restaurant'"
      ],
      "execution_count": 9,
      "outputs": [
        {
          "output_type": "execute_result",
          "data": {
            "text/plain": [
              "[28, 22]"
            ]
          },
          "metadata": {},
          "execution_count": 9
        }
      ]
    },
    {
      "cell_type": "code",
      "metadata": {
        "id": "ff1URmqjhuyy"
      },
      "source": [
        "#one_hot representation for reviews\n",
        "vocab_size= 30\n",
        "onehot_repr= [one_hot(input_text=words, n=vocab_size) for words in reviews]"
      ],
      "execution_count": 10,
      "outputs": []
    },
    {
      "cell_type": "code",
      "metadata": {
        "colab": {
          "base_uri": "https://localhost:8080/"
        },
        "id": "jSK2RtrBiQ1f",
        "outputId": "7e2b1256-d4f1-42da-cac4-49d0f345a8a1"
      },
      "source": [
        "onehot_repr"
      ],
      "execution_count": 11,
      "outputs": [
        {
          "output_type": "execute_result",
          "data": {
            "text/plain": [
              "[[11, 5],\n",
              " [28, 22],\n",
              " [25, 18],\n",
              " [9, 6, 5],\n",
              " [12, 11, 29],\n",
              " [4, 5],\n",
              " [2, 11, 7],\n",
              " [1, 9],\n",
              " [1, 17],\n",
              " [6, 13]]"
            ]
          },
          "metadata": {},
          "execution_count": 11
        }
      ]
    },
    {
      "cell_type": "code",
      "metadata": {
        "id": "lTCyHqaniRl-"
      },
      "source": [
        "#using padding technique\n",
        "from tensorflow.keras.preprocessing.sequence import pad_sequences"
      ],
      "execution_count": 12,
      "outputs": []
    },
    {
      "cell_type": "code",
      "metadata": {
        "id": "IjsanTWrigWw"
      },
      "source": [
        "max_length= 3\n",
        "padded_review= pad_sequences(sequences= onehot_repr, maxlen=max_length, padding='post')"
      ],
      "execution_count": 20,
      "outputs": []
    },
    {
      "cell_type": "code",
      "metadata": {
        "colab": {
          "base_uri": "https://localhost:8080/"
        },
        "id": "M-GYfoaTisOX",
        "outputId": "e5fc0f07-61e1-4e6b-fb12-b89a9616bedb"
      },
      "source": [
        "padded_review"
      ],
      "execution_count": 21,
      "outputs": [
        {
          "output_type": "execute_result",
          "data": {
            "text/plain": [
              "array([[11,  5,  0],\n",
              "       [28, 22,  0],\n",
              "       [25, 18,  0],\n",
              "       [ 9,  6,  5],\n",
              "       [12, 11, 29],\n",
              "       [ 4,  5,  0],\n",
              "       [ 2, 11,  7],\n",
              "       [ 1,  9,  0],\n",
              "       [ 1, 17,  0],\n",
              "       [ 6, 13,  0]], dtype=int32)"
            ]
          },
          "metadata": {},
          "execution_count": 21
        }
      ]
    },
    {
      "cell_type": "code",
      "metadata": {
        "id": "qwVtyh62it1x"
      },
      "source": [
        "#creating embedded layer"
      ],
      "execution_count": 17,
      "outputs": []
    },
    {
      "cell_type": "code",
      "metadata": {
        "id": "Yz2lM2C7jJrY"
      },
      "source": [
        "from tensorflow.keras.models import Sequential\n",
        "from tensorflow.keras.layers import Dense, Embedding, Flatten"
      ],
      "execution_count": 19,
      "outputs": []
    },
    {
      "cell_type": "code",
      "metadata": {
        "id": "4GXq2DWqjaZY"
      },
      "source": [
        "embeded_vector_size= 4\n",
        "\n",
        "model= Sequential()\n",
        "model.add(Embedding(input_dim=vocab_size, output_dim=embeded_vector_size, input_length=max_length, name='embedding'))\n",
        "model.add(Flatten())\n",
        "model.add(Dense(units=1, activation='sigmoid'))"
      ],
      "execution_count": 27,
      "outputs": []
    },
    {
      "cell_type": "code",
      "metadata": {
        "id": "NW0hb5f-kmca"
      },
      "source": [
        "X= padded_review\n",
        "y= sentiment"
      ],
      "execution_count": 28,
      "outputs": []
    },
    {
      "cell_type": "code",
      "metadata": {
        "id": "__Ux7DKzkpmi"
      },
      "source": [
        "model.compile(optimizer='adam', loss='binary_crossentropy', metrics=['accuracy'])"
      ],
      "execution_count": 29,
      "outputs": []
    },
    {
      "cell_type": "code",
      "metadata": {
        "colab": {
          "base_uri": "https://localhost:8080/"
        },
        "id": "8IY7rYQpk2r3",
        "outputId": "0897ef04-0ced-4fe9-d850-b10a7f2ec5c3"
      },
      "source": [
        "model.summary()"
      ],
      "execution_count": 30,
      "outputs": [
        {
          "output_type": "stream",
          "name": "stdout",
          "text": [
            "Model: \"sequential_2\"\n",
            "_________________________________________________________________\n",
            " Layer (type)                Output Shape              Param #   \n",
            "=================================================================\n",
            " embedding (Embedding)       (None, 3, 4)              120       \n",
            "                                                                 \n",
            " flatten_1 (Flatten)         (None, 12)                0         \n",
            "                                                                 \n",
            " dense_1 (Dense)             (None, 1)                 13        \n",
            "                                                                 \n",
            "=================================================================\n",
            "Total params: 133\n",
            "Trainable params: 133\n",
            "Non-trainable params: 0\n",
            "_________________________________________________________________\n"
          ]
        }
      ]
    },
    {
      "cell_type": "code",
      "metadata": {
        "colab": {
          "base_uri": "https://localhost:8080/"
        },
        "id": "YNz1UtRkk5Vn",
        "outputId": "2e2ad97f-ea1f-4a4a-f6d4-9f7bfa4fe885"
      },
      "source": [
        "model.fit(X, y, epochs=50, verbose=True)"
      ],
      "execution_count": 31,
      "outputs": [
        {
          "output_type": "stream",
          "name": "stdout",
          "text": [
            "Epoch 1/50\n",
            "1/1 [==============================] - 1s 647ms/step - loss: 0.6918 - accuracy: 0.4000\n",
            "Epoch 2/50\n",
            "1/1 [==============================] - 0s 7ms/step - loss: 0.6903 - accuracy: 0.4000\n",
            "Epoch 3/50\n",
            "1/1 [==============================] - 0s 5ms/step - loss: 0.6889 - accuracy: 0.6000\n",
            "Epoch 4/50\n",
            "1/1 [==============================] - 0s 4ms/step - loss: 0.6874 - accuracy: 0.6000\n",
            "Epoch 5/50\n",
            "1/1 [==============================] - 0s 4ms/step - loss: 0.6860 - accuracy: 0.7000\n",
            "Epoch 6/50\n",
            "1/1 [==============================] - 0s 4ms/step - loss: 0.6845 - accuracy: 0.7000\n",
            "Epoch 7/50\n",
            "1/1 [==============================] - 0s 7ms/step - loss: 0.6831 - accuracy: 0.7000\n",
            "Epoch 8/50\n",
            "1/1 [==============================] - 0s 8ms/step - loss: 0.6817 - accuracy: 0.8000\n",
            "Epoch 9/50\n",
            "1/1 [==============================] - 0s 6ms/step - loss: 0.6802 - accuracy: 0.8000\n",
            "Epoch 10/50\n",
            "1/1 [==============================] - 0s 6ms/step - loss: 0.6788 - accuracy: 0.8000\n",
            "Epoch 11/50\n",
            "1/1 [==============================] - 0s 5ms/step - loss: 0.6774 - accuracy: 0.8000\n",
            "Epoch 12/50\n",
            "1/1 [==============================] - 0s 4ms/step - loss: 0.6760 - accuracy: 0.8000\n",
            "Epoch 13/50\n",
            "1/1 [==============================] - 0s 5ms/step - loss: 0.6745 - accuracy: 0.8000\n",
            "Epoch 14/50\n",
            "1/1 [==============================] - 0s 8ms/step - loss: 0.6731 - accuracy: 0.8000\n",
            "Epoch 15/50\n",
            "1/1 [==============================] - 0s 4ms/step - loss: 0.6717 - accuracy: 0.8000\n",
            "Epoch 16/50\n",
            "1/1 [==============================] - 0s 7ms/step - loss: 0.6703 - accuracy: 0.8000\n",
            "Epoch 17/50\n",
            "1/1 [==============================] - 0s 4ms/step - loss: 0.6688 - accuracy: 0.9000\n",
            "Epoch 18/50\n",
            "1/1 [==============================] - 0s 5ms/step - loss: 0.6674 - accuracy: 0.9000\n",
            "Epoch 19/50\n",
            "1/1 [==============================] - 0s 8ms/step - loss: 0.6659 - accuracy: 0.9000\n",
            "Epoch 20/50\n",
            "1/1 [==============================] - 0s 9ms/step - loss: 0.6645 - accuracy: 0.9000\n",
            "Epoch 21/50\n",
            "1/1 [==============================] - 0s 10ms/step - loss: 0.6630 - accuracy: 0.9000\n",
            "Epoch 22/50\n",
            "1/1 [==============================] - 0s 18ms/step - loss: 0.6616 - accuracy: 0.9000\n",
            "Epoch 23/50\n",
            "1/1 [==============================] - 0s 11ms/step - loss: 0.6601 - accuracy: 0.9000\n",
            "Epoch 24/50\n",
            "1/1 [==============================] - 0s 11ms/step - loss: 0.6587 - accuracy: 0.9000\n",
            "Epoch 25/50\n",
            "1/1 [==============================] - 0s 13ms/step - loss: 0.6572 - accuracy: 0.9000\n",
            "Epoch 26/50\n",
            "1/1 [==============================] - 0s 7ms/step - loss: 0.6557 - accuracy: 0.9000\n",
            "Epoch 27/50\n",
            "1/1 [==============================] - 0s 9ms/step - loss: 0.6542 - accuracy: 0.9000\n",
            "Epoch 28/50\n",
            "1/1 [==============================] - 0s 8ms/step - loss: 0.6527 - accuracy: 0.9000\n",
            "Epoch 29/50\n",
            "1/1 [==============================] - 0s 8ms/step - loss: 0.6512 - accuracy: 0.9000\n",
            "Epoch 30/50\n",
            "1/1 [==============================] - 0s 5ms/step - loss: 0.6497 - accuracy: 0.9000\n",
            "Epoch 31/50\n",
            "1/1 [==============================] - 0s 6ms/step - loss: 0.6482 - accuracy: 0.9000\n",
            "Epoch 32/50\n",
            "1/1 [==============================] - 0s 5ms/step - loss: 0.6467 - accuracy: 1.0000\n",
            "Epoch 33/50\n",
            "1/1 [==============================] - 0s 5ms/step - loss: 0.6451 - accuracy: 1.0000\n",
            "Epoch 34/50\n",
            "1/1 [==============================] - 0s 5ms/step - loss: 0.6436 - accuracy: 1.0000\n",
            "Epoch 35/50\n",
            "1/1 [==============================] - 0s 5ms/step - loss: 0.6420 - accuracy: 1.0000\n",
            "Epoch 36/50\n",
            "1/1 [==============================] - 0s 7ms/step - loss: 0.6405 - accuracy: 1.0000\n",
            "Epoch 37/50\n",
            "1/1 [==============================] - 0s 5ms/step - loss: 0.6389 - accuracy: 1.0000\n",
            "Epoch 38/50\n",
            "1/1 [==============================] - 0s 5ms/step - loss: 0.6373 - accuracy: 1.0000\n",
            "Epoch 39/50\n",
            "1/1 [==============================] - 0s 5ms/step - loss: 0.6357 - accuracy: 1.0000\n",
            "Epoch 40/50\n",
            "1/1 [==============================] - 0s 5ms/step - loss: 0.6342 - accuracy: 1.0000\n",
            "Epoch 41/50\n",
            "1/1 [==============================] - 0s 4ms/step - loss: 0.6325 - accuracy: 1.0000\n",
            "Epoch 42/50\n",
            "1/1 [==============================] - 0s 6ms/step - loss: 0.6309 - accuracy: 1.0000\n",
            "Epoch 43/50\n",
            "1/1 [==============================] - 0s 6ms/step - loss: 0.6293 - accuracy: 1.0000\n",
            "Epoch 44/50\n",
            "1/1 [==============================] - 0s 6ms/step - loss: 0.6277 - accuracy: 1.0000\n",
            "Epoch 45/50\n",
            "1/1 [==============================] - 0s 4ms/step - loss: 0.6260 - accuracy: 1.0000\n",
            "Epoch 46/50\n",
            "1/1 [==============================] - 0s 5ms/step - loss: 0.6244 - accuracy: 1.0000\n",
            "Epoch 47/50\n",
            "1/1 [==============================] - 0s 4ms/step - loss: 0.6227 - accuracy: 1.0000\n",
            "Epoch 48/50\n",
            "1/1 [==============================] - 0s 5ms/step - loss: 0.6211 - accuracy: 1.0000\n",
            "Epoch 49/50\n",
            "1/1 [==============================] - 0s 5ms/step - loss: 0.6194 - accuracy: 1.0000\n",
            "Epoch 50/50\n",
            "1/1 [==============================] - 0s 5ms/step - loss: 0.6177 - accuracy: 1.0000\n"
          ]
        },
        {
          "output_type": "execute_result",
          "data": {
            "text/plain": [
              "<keras.callbacks.History at 0x7f327ece5ed0>"
            ]
          },
          "metadata": {},
          "execution_count": 31
        }
      ]
    },
    {
      "cell_type": "code",
      "metadata": {
        "id": "ypX-qTtvlNcH"
      },
      "source": [
        "#Model Evaluation"
      ],
      "execution_count": 32,
      "outputs": []
    },
    {
      "cell_type": "code",
      "metadata": {
        "colab": {
          "base_uri": "https://localhost:8080/"
        },
        "id": "3w7k5J1Mlje7",
        "outputId": "f0ebcdb0-7b5b-40e9-8a87-62226c7fdc31"
      },
      "source": [
        "loss, accuracy= model.evaluate(X, y)"
      ],
      "execution_count": 33,
      "outputs": [
        {
          "output_type": "stream",
          "name": "stdout",
          "text": [
            "1/1 [==============================] - 0s 136ms/step - loss: 0.6160 - accuracy: 1.0000\n"
          ]
        }
      ]
    },
    {
      "cell_type": "code",
      "metadata": {
        "colab": {
          "base_uri": "https://localhost:8080/"
        },
        "id": "hszbUahWlnu3",
        "outputId": "3ee4583d-2de5-413e-8722-829f2177be0c"
      },
      "source": [
        "weights= model.get_layer('embedding').get_weights()[0]\n",
        "weights"
      ],
      "execution_count": 35,
      "outputs": [
        {
          "output_type": "execute_result",
          "data": {
            "text/plain": [
              "array([[-0.00073416, -0.04780095, -0.00569542, -0.02828285],\n",
              "       [ 0.04911275,  0.0297338 , -0.08970113,  0.08752171],\n",
              "       [ 0.08416596,  0.02779771, -0.00995093,  0.02206796],\n",
              "       [ 0.04548539,  0.01605791,  0.01834258, -0.03245442],\n",
              "       [ 0.02956433,  0.03365615, -0.09751176,  0.02517744],\n",
              "       [-0.06714116,  0.03590309,  0.07602085,  0.06097637],\n",
              "       [ 0.02994568,  0.0478372 , -0.05828598,  0.06999695],\n",
              "       [ 0.03557074, -0.04210439, -0.06056326, -0.06073248],\n",
              "       [-0.02905966,  0.03632471, -0.02964665,  0.04952915],\n",
              "       [-0.01042839, -0.0637282 ,  0.08526726, -0.08136596],\n",
              "       [ 0.01620114,  0.04991091, -0.04053932,  0.04209733],\n",
              "       [-0.08536921, -0.05905231,  0.07963379, -0.03199415],\n",
              "       [-0.04362666, -0.02589244,  0.05221628, -0.01247211],\n",
              "       [-0.0436419 , -0.01619812,  0.0685927 , -0.09020635],\n",
              "       [ 0.02719184, -0.02814922, -0.04096632,  0.02812753],\n",
              "       [ 0.01455304,  0.00206977, -0.00400553,  0.01498479],\n",
              "       [-0.02446978, -0.03918738,  0.01470045,  0.01796282],\n",
              "       [-0.07812583, -0.06694695,  0.03172786, -0.09129182],\n",
              "       [ 0.0554884 ,  0.02360327, -0.02679167,  0.04673212],\n",
              "       [ 0.04299719,  0.03905663,  0.04795453,  0.0045541 ],\n",
              "       [-0.03645207,  0.04630939,  0.00272482,  0.01011147],\n",
              "       [-0.0335871 , -0.04291811, -0.02413657, -0.01195091],\n",
              "       [ 0.0303569 ,  0.06206805, -0.06103965,  0.06888855],\n",
              "       [ 0.02237907,  0.04661131,  0.00872455, -0.03496487],\n",
              "       [-0.00113387, -0.04981575, -0.01472411,  0.01419412],\n",
              "       [-0.00333904, -0.04260298,  0.01850809, -0.01896126],\n",
              "       [-0.00706184,  0.00246044, -0.00791817,  0.02986464],\n",
              "       [ 0.02600123, -0.0474271 ,  0.03733022, -0.01512967],\n",
              "       [-0.08799181, -0.00514849,  0.07281898, -0.05434617],\n",
              "       [-0.01268672,  0.00481525,  0.02101125,  0.04077718]],\n",
              "      dtype=float32)"
            ]
          },
          "metadata": {},
          "execution_count": 35
        }
      ]
    },
    {
      "cell_type": "code",
      "metadata": {
        "colab": {
          "base_uri": "https://localhost:8080/"
        },
        "id": "MbZEFR3umHH5",
        "outputId": "97fc1784-93db-496f-eeda-ca6419228950"
      },
      "source": [
        "len(weights)"
      ],
      "execution_count": 36,
      "outputs": [
        {
          "output_type": "execute_result",
          "data": {
            "text/plain": [
              "30"
            ]
          },
          "metadata": {},
          "execution_count": 36
        }
      ]
    },
    {
      "cell_type": "code",
      "metadata": {
        "colab": {
          "base_uri": "https://localhost:8080/"
        },
        "id": "MxwDMAM7mWYe",
        "outputId": "742c81cb-6bd6-43b6-f1c8-889fbbcfcdf2"
      },
      "source": [
        "#onehot_repr for nice= 11 and amazing= 28\n",
        "#finding similarities between two words\n",
        "array_vec_1= weights[11].reshape(-1,1)\n",
        "array_vec_1"
      ],
      "execution_count": 56,
      "outputs": [
        {
          "output_type": "execute_result",
          "data": {
            "text/plain": [
              "array([[-0.08536921],\n",
              "       [-0.05905231],\n",
              "       [ 0.07963379],\n",
              "       [-0.03199415]], dtype=float32)"
            ]
          },
          "metadata": {},
          "execution_count": 56
        }
      ]
    },
    {
      "cell_type": "code",
      "metadata": {
        "colab": {
          "base_uri": "https://localhost:8080/"
        },
        "id": "Yz1jwbMdnbsL",
        "outputId": "825a2420-362e-4caa-ec11-a750d1777522"
      },
      "source": [
        "array_vec_2= weights[28].reshape(-1,1)\n",
        "array_vec_2"
      ],
      "execution_count": 57,
      "outputs": [
        {
          "output_type": "execute_result",
          "data": {
            "text/plain": [
              "array([[-0.08799181],\n",
              "       [-0.00514849],\n",
              "       [ 0.07281898],\n",
              "       [-0.05434617]], dtype=float32)"
            ]
          },
          "metadata": {},
          "execution_count": 57
        }
      ]
    }
  ]
}