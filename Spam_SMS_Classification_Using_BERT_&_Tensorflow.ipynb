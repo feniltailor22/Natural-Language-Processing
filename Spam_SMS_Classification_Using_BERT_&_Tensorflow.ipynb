{
  "nbformat": 4,
  "nbformat_minor": 0,
  "metadata": {
    "colab": {
      "name": "Spam SMS Classification Using BERT & Tensorflow.ipynb",
      "provenance": [],
      "authorship_tag": "ABX9TyN7Ytq89wMUuuwsfSGXBbyG",
      "include_colab_link": true
    },
    "kernelspec": {
      "name": "python3",
      "display_name": "Python 3"
    },
    "language_info": {
      "name": "python"
    },
    "accelerator": "GPU"
  },
  "cells": [
    {
      "cell_type": "markdown",
      "metadata": {
        "id": "view-in-github",
        "colab_type": "text"
      },
      "source": [
        "<a href=\"https://colab.research.google.com/github/feniltailor22/Natural-Language-Processing/blob/main/Spam_SMS_Classification_Using_BERT_%26_Tensorflow.ipynb\" target=\"_parent\"><img src=\"https://colab.research.google.com/assets/colab-badge.svg\" alt=\"Open In Colab\"/></a>"
      ]
    },
    {
      "cell_type": "code",
      "execution_count": 1,
      "metadata": {
        "colab": {
          "base_uri": "https://localhost:8080/"
        },
        "id": "f7R22zkP1rQh",
        "outputId": "727eedc4-85fb-47d7-b4bf-1340cfa1203c"
      },
      "outputs": [
        {
          "output_type": "stream",
          "name": "stdout",
          "text": [
            "Collecting tensorflow_text\n",
            "  Downloading tensorflow_text-2.7.3-cp37-cp37m-manylinux2010_x86_64.whl (4.9 MB)\n",
            "\u001b[K     |████████████████████████████████| 4.9 MB 12.4 MB/s \n",
            "\u001b[?25hRequirement already satisfied: tensorflow-hub>=0.8.0 in /usr/local/lib/python3.7/dist-packages (from tensorflow_text) (0.12.0)\n",
            "Requirement already satisfied: tensorflow<2.8,>=2.7.0 in /usr/local/lib/python3.7/dist-packages (from tensorflow_text) (2.7.0)\n",
            "Requirement already satisfied: keras<2.8,>=2.7.0rc0 in /usr/local/lib/python3.7/dist-packages (from tensorflow<2.8,>=2.7.0->tensorflow_text) (2.7.0)\n",
            "Requirement already satisfied: grpcio<2.0,>=1.24.3 in /usr/local/lib/python3.7/dist-packages (from tensorflow<2.8,>=2.7.0->tensorflow_text) (1.42.0)\n",
            "Requirement already satisfied: tensorboard~=2.6 in /usr/local/lib/python3.7/dist-packages (from tensorflow<2.8,>=2.7.0->tensorflow_text) (2.7.0)\n",
            "Requirement already satisfied: termcolor>=1.1.0 in /usr/local/lib/python3.7/dist-packages (from tensorflow<2.8,>=2.7.0->tensorflow_text) (1.1.0)\n",
            "Requirement already satisfied: absl-py>=0.4.0 in /usr/local/lib/python3.7/dist-packages (from tensorflow<2.8,>=2.7.0->tensorflow_text) (0.12.0)\n",
            "Requirement already satisfied: numpy>=1.14.5 in /usr/local/lib/python3.7/dist-packages (from tensorflow<2.8,>=2.7.0->tensorflow_text) (1.19.5)\n",
            "Requirement already satisfied: libclang>=9.0.1 in /usr/local/lib/python3.7/dist-packages (from tensorflow<2.8,>=2.7.0->tensorflow_text) (12.0.0)\n",
            "Requirement already satisfied: astunparse>=1.6.0 in /usr/local/lib/python3.7/dist-packages (from tensorflow<2.8,>=2.7.0->tensorflow_text) (1.6.3)\n",
            "Requirement already satisfied: flatbuffers<3.0,>=1.12 in /usr/local/lib/python3.7/dist-packages (from tensorflow<2.8,>=2.7.0->tensorflow_text) (2.0)\n",
            "Requirement already satisfied: h5py>=2.9.0 in /usr/local/lib/python3.7/dist-packages (from tensorflow<2.8,>=2.7.0->tensorflow_text) (3.1.0)\n",
            "Requirement already satisfied: google-pasta>=0.1.1 in /usr/local/lib/python3.7/dist-packages (from tensorflow<2.8,>=2.7.0->tensorflow_text) (0.2.0)\n",
            "Requirement already satisfied: six>=1.12.0 in /usr/local/lib/python3.7/dist-packages (from tensorflow<2.8,>=2.7.0->tensorflow_text) (1.15.0)\n",
            "Requirement already satisfied: opt-einsum>=2.3.2 in /usr/local/lib/python3.7/dist-packages (from tensorflow<2.8,>=2.7.0->tensorflow_text) (3.3.0)\n",
            "Requirement already satisfied: wrapt>=1.11.0 in /usr/local/lib/python3.7/dist-packages (from tensorflow<2.8,>=2.7.0->tensorflow_text) (1.13.3)\n",
            "Requirement already satisfied: tensorflow-estimator<2.8,~=2.7.0rc0 in /usr/local/lib/python3.7/dist-packages (from tensorflow<2.8,>=2.7.0->tensorflow_text) (2.7.0)\n",
            "Requirement already satisfied: typing-extensions>=3.6.6 in /usr/local/lib/python3.7/dist-packages (from tensorflow<2.8,>=2.7.0->tensorflow_text) (3.10.0.2)\n",
            "Requirement already satisfied: wheel<1.0,>=0.32.0 in /usr/local/lib/python3.7/dist-packages (from tensorflow<2.8,>=2.7.0->tensorflow_text) (0.37.0)\n",
            "Requirement already satisfied: protobuf>=3.9.2 in /usr/local/lib/python3.7/dist-packages (from tensorflow<2.8,>=2.7.0->tensorflow_text) (3.17.3)\n",
            "Requirement already satisfied: gast<0.5.0,>=0.2.1 in /usr/local/lib/python3.7/dist-packages (from tensorflow<2.8,>=2.7.0->tensorflow_text) (0.4.0)\n",
            "Requirement already satisfied: tensorflow-io-gcs-filesystem>=0.21.0 in /usr/local/lib/python3.7/dist-packages (from tensorflow<2.8,>=2.7.0->tensorflow_text) (0.22.0)\n",
            "Requirement already satisfied: keras-preprocessing>=1.1.1 in /usr/local/lib/python3.7/dist-packages (from tensorflow<2.8,>=2.7.0->tensorflow_text) (1.1.2)\n",
            "Requirement already satisfied: cached-property in /usr/local/lib/python3.7/dist-packages (from h5py>=2.9.0->tensorflow<2.8,>=2.7.0->tensorflow_text) (1.5.2)\n",
            "Requirement already satisfied: requests<3,>=2.21.0 in /usr/local/lib/python3.7/dist-packages (from tensorboard~=2.6->tensorflow<2.8,>=2.7.0->tensorflow_text) (2.23.0)\n",
            "Requirement already satisfied: werkzeug>=0.11.15 in /usr/local/lib/python3.7/dist-packages (from tensorboard~=2.6->tensorflow<2.8,>=2.7.0->tensorflow_text) (1.0.1)\n",
            "Requirement already satisfied: markdown>=2.6.8 in /usr/local/lib/python3.7/dist-packages (from tensorboard~=2.6->tensorflow<2.8,>=2.7.0->tensorflow_text) (3.3.6)\n",
            "Requirement already satisfied: tensorboard-data-server<0.7.0,>=0.6.0 in /usr/local/lib/python3.7/dist-packages (from tensorboard~=2.6->tensorflow<2.8,>=2.7.0->tensorflow_text) (0.6.1)\n",
            "Requirement already satisfied: google-auth<3,>=1.6.3 in /usr/local/lib/python3.7/dist-packages (from tensorboard~=2.6->tensorflow<2.8,>=2.7.0->tensorflow_text) (1.35.0)\n",
            "Requirement already satisfied: google-auth-oauthlib<0.5,>=0.4.1 in /usr/local/lib/python3.7/dist-packages (from tensorboard~=2.6->tensorflow<2.8,>=2.7.0->tensorflow_text) (0.4.6)\n",
            "Requirement already satisfied: tensorboard-plugin-wit>=1.6.0 in /usr/local/lib/python3.7/dist-packages (from tensorboard~=2.6->tensorflow<2.8,>=2.7.0->tensorflow_text) (1.8.0)\n",
            "Requirement already satisfied: setuptools>=41.0.0 in /usr/local/lib/python3.7/dist-packages (from tensorboard~=2.6->tensorflow<2.8,>=2.7.0->tensorflow_text) (57.4.0)\n",
            "Requirement already satisfied: cachetools<5.0,>=2.0.0 in /usr/local/lib/python3.7/dist-packages (from google-auth<3,>=1.6.3->tensorboard~=2.6->tensorflow<2.8,>=2.7.0->tensorflow_text) (4.2.4)\n",
            "Requirement already satisfied: rsa<5,>=3.1.4 in /usr/local/lib/python3.7/dist-packages (from google-auth<3,>=1.6.3->tensorboard~=2.6->tensorflow<2.8,>=2.7.0->tensorflow_text) (4.8)\n",
            "Requirement already satisfied: pyasn1-modules>=0.2.1 in /usr/local/lib/python3.7/dist-packages (from google-auth<3,>=1.6.3->tensorboard~=2.6->tensorflow<2.8,>=2.7.0->tensorflow_text) (0.2.8)\n",
            "Requirement already satisfied: requests-oauthlib>=0.7.0 in /usr/local/lib/python3.7/dist-packages (from google-auth-oauthlib<0.5,>=0.4.1->tensorboard~=2.6->tensorflow<2.8,>=2.7.0->tensorflow_text) (1.3.0)\n",
            "Requirement already satisfied: importlib-metadata>=4.4 in /usr/local/lib/python3.7/dist-packages (from markdown>=2.6.8->tensorboard~=2.6->tensorflow<2.8,>=2.7.0->tensorflow_text) (4.8.2)\n",
            "Requirement already satisfied: zipp>=0.5 in /usr/local/lib/python3.7/dist-packages (from importlib-metadata>=4.4->markdown>=2.6.8->tensorboard~=2.6->tensorflow<2.8,>=2.7.0->tensorflow_text) (3.6.0)\n",
            "Requirement already satisfied: pyasn1<0.5.0,>=0.4.6 in /usr/local/lib/python3.7/dist-packages (from pyasn1-modules>=0.2.1->google-auth<3,>=1.6.3->tensorboard~=2.6->tensorflow<2.8,>=2.7.0->tensorflow_text) (0.4.8)\n",
            "Requirement already satisfied: chardet<4,>=3.0.2 in /usr/local/lib/python3.7/dist-packages (from requests<3,>=2.21.0->tensorboard~=2.6->tensorflow<2.8,>=2.7.0->tensorflow_text) (3.0.4)\n",
            "Requirement already satisfied: idna<3,>=2.5 in /usr/local/lib/python3.7/dist-packages (from requests<3,>=2.21.0->tensorboard~=2.6->tensorflow<2.8,>=2.7.0->tensorflow_text) (2.10)\n",
            "Requirement already satisfied: urllib3!=1.25.0,!=1.25.1,<1.26,>=1.21.1 in /usr/local/lib/python3.7/dist-packages (from requests<3,>=2.21.0->tensorboard~=2.6->tensorflow<2.8,>=2.7.0->tensorflow_text) (1.24.3)\n",
            "Requirement already satisfied: certifi>=2017.4.17 in /usr/local/lib/python3.7/dist-packages (from requests<3,>=2.21.0->tensorboard~=2.6->tensorflow<2.8,>=2.7.0->tensorflow_text) (2021.10.8)\n",
            "Requirement already satisfied: oauthlib>=3.0.0 in /usr/local/lib/python3.7/dist-packages (from requests-oauthlib>=0.7.0->google-auth-oauthlib<0.5,>=0.4.1->tensorboard~=2.6->tensorflow<2.8,>=2.7.0->tensorflow_text) (3.1.1)\n",
            "Installing collected packages: tensorflow-text\n",
            "Successfully installed tensorflow-text-2.7.3\n"
          ]
        }
      ],
      "source": [
        "import pandas as pd\n",
        "\n",
        "import tensorflow as tf\n",
        "import tensorflow_hub as hub\n",
        "\n",
        "!pip install tensorflow_text\n",
        "import tensorflow_text as tf_text"
      ]
    },
    {
      "cell_type": "code",
      "source": [
        "df= pd.read_csv('SMSSpamCollection', sep='\\t', names=[\"label\", \"message\"])"
      ],
      "metadata": {
        "id": "WUQlHj_a21S_"
      },
      "execution_count": 2,
      "outputs": []
    },
    {
      "cell_type": "code",
      "source": [
        "df.head()"
      ],
      "metadata": {
        "colab": {
          "base_uri": "https://localhost:8080/",
          "height": 206
        },
        "id": "YxWlZTJE26mc",
        "outputId": "c2aaca40-234e-41fa-8d70-2d4aeee0756b"
      },
      "execution_count": 3,
      "outputs": [
        {
          "output_type": "execute_result",
          "data": {
            "text/html": [
              "<div>\n",
              "<style scoped>\n",
              "    .dataframe tbody tr th:only-of-type {\n",
              "        vertical-align: middle;\n",
              "    }\n",
              "\n",
              "    .dataframe tbody tr th {\n",
              "        vertical-align: top;\n",
              "    }\n",
              "\n",
              "    .dataframe thead th {\n",
              "        text-align: right;\n",
              "    }\n",
              "</style>\n",
              "<table border=\"1\" class=\"dataframe\">\n",
              "  <thead>\n",
              "    <tr style=\"text-align: right;\">\n",
              "      <th></th>\n",
              "      <th>label</th>\n",
              "      <th>message</th>\n",
              "    </tr>\n",
              "  </thead>\n",
              "  <tbody>\n",
              "    <tr>\n",
              "      <th>0</th>\n",
              "      <td>ham</td>\n",
              "      <td>Go until jurong point, crazy.. Available only ...</td>\n",
              "    </tr>\n",
              "    <tr>\n",
              "      <th>1</th>\n",
              "      <td>ham</td>\n",
              "      <td>Ok lar... Joking wif u oni...</td>\n",
              "    </tr>\n",
              "    <tr>\n",
              "      <th>2</th>\n",
              "      <td>spam</td>\n",
              "      <td>Free entry in 2 a wkly comp to win FA Cup fina...</td>\n",
              "    </tr>\n",
              "    <tr>\n",
              "      <th>3</th>\n",
              "      <td>ham</td>\n",
              "      <td>U dun say so early hor... U c already then say...</td>\n",
              "    </tr>\n",
              "    <tr>\n",
              "      <th>4</th>\n",
              "      <td>ham</td>\n",
              "      <td>Nah I don't think he goes to usf, he lives aro...</td>\n",
              "    </tr>\n",
              "  </tbody>\n",
              "</table>\n",
              "</div>"
            ],
            "text/plain": [
              "  label                                            message\n",
              "0   ham  Go until jurong point, crazy.. Available only ...\n",
              "1   ham                      Ok lar... Joking wif u oni...\n",
              "2  spam  Free entry in 2 a wkly comp to win FA Cup fina...\n",
              "3   ham  U dun say so early hor... U c already then say...\n",
              "4   ham  Nah I don't think he goes to usf, he lives aro..."
            ]
          },
          "metadata": {},
          "execution_count": 3
        }
      ]
    },
    {
      "cell_type": "code",
      "source": [
        "df.groupby(by='label').describe()"
      ],
      "metadata": {
        "colab": {
          "base_uri": "https://localhost:8080/",
          "height": 175
        },
        "id": "EkoNjx8Y28R3",
        "outputId": "2ef5b3c9-14ae-4278-e090-7bd840b37fbd"
      },
      "execution_count": 4,
      "outputs": [
        {
          "output_type": "execute_result",
          "data": {
            "text/html": [
              "<div>\n",
              "<style scoped>\n",
              "    .dataframe tbody tr th:only-of-type {\n",
              "        vertical-align: middle;\n",
              "    }\n",
              "\n",
              "    .dataframe tbody tr th {\n",
              "        vertical-align: top;\n",
              "    }\n",
              "\n",
              "    .dataframe thead tr th {\n",
              "        text-align: left;\n",
              "    }\n",
              "\n",
              "    .dataframe thead tr:last-of-type th {\n",
              "        text-align: right;\n",
              "    }\n",
              "</style>\n",
              "<table border=\"1\" class=\"dataframe\">\n",
              "  <thead>\n",
              "    <tr>\n",
              "      <th></th>\n",
              "      <th colspan=\"4\" halign=\"left\">message</th>\n",
              "    </tr>\n",
              "    <tr>\n",
              "      <th></th>\n",
              "      <th>count</th>\n",
              "      <th>unique</th>\n",
              "      <th>top</th>\n",
              "      <th>freq</th>\n",
              "    </tr>\n",
              "    <tr>\n",
              "      <th>label</th>\n",
              "      <th></th>\n",
              "      <th></th>\n",
              "      <th></th>\n",
              "      <th></th>\n",
              "    </tr>\n",
              "  </thead>\n",
              "  <tbody>\n",
              "    <tr>\n",
              "      <th>ham</th>\n",
              "      <td>4825</td>\n",
              "      <td>4516</td>\n",
              "      <td>Sorry, I'll call later</td>\n",
              "      <td>30</td>\n",
              "    </tr>\n",
              "    <tr>\n",
              "      <th>spam</th>\n",
              "      <td>747</td>\n",
              "      <td>653</td>\n",
              "      <td>Please call our customer service representativ...</td>\n",
              "      <td>4</td>\n",
              "    </tr>\n",
              "  </tbody>\n",
              "</table>\n",
              "</div>"
            ],
            "text/plain": [
              "      message                                                               \n",
              "        count unique                                                top freq\n",
              "label                                                                       \n",
              "ham      4825   4516                             Sorry, I'll call later   30\n",
              "spam      747    653  Please call our customer service representativ...    4"
            ]
          },
          "metadata": {},
          "execution_count": 4
        }
      ]
    },
    {
      "cell_type": "code",
      "source": [
        "df['label'].value_counts()"
      ],
      "metadata": {
        "colab": {
          "base_uri": "https://localhost:8080/"
        },
        "id": "IaJljYaV3Fj2",
        "outputId": "668dfe41-6509-4bdf-84d3-3efb636ef901"
      },
      "execution_count": 5,
      "outputs": [
        {
          "output_type": "execute_result",
          "data": {
            "text/plain": [
              "ham     4825\n",
              "spam     747\n",
              "Name: label, dtype: int64"
            ]
          },
          "metadata": {},
          "execution_count": 5
        }
      ]
    },
    {
      "cell_type": "code",
      "source": [
        "747/4825"
      ],
      "metadata": {
        "colab": {
          "base_uri": "https://localhost:8080/"
        },
        "id": "FA345Z2Q3Rcc",
        "outputId": "bcaf06a6-5185-48f4-997a-109bbcee5054"
      },
      "execution_count": 6,
      "outputs": [
        {
          "output_type": "execute_result",
          "data": {
            "text/plain": [
              "0.15481865284974095"
            ]
          },
          "metadata": {},
          "execution_count": 6
        }
      ]
    },
    {
      "cell_type": "code",
      "source": [
        "#15% spam emails, 85% ham emails: This indicates class imbalance"
      ],
      "metadata": {
        "id": "7QMHarY53U6d"
      },
      "execution_count": 7,
      "outputs": []
    },
    {
      "cell_type": "code",
      "source": [
        "#To handle the class imbalance we are doing Down Sampling here.\n",
        "#That is reducing the Ham Messages to 747 and descarding the rest of messages."
      ],
      "metadata": {
        "id": "4f9SDGLX49xx"
      },
      "execution_count": 8,
      "outputs": []
    },
    {
      "cell_type": "code",
      "source": [
        "df_spam= df[df['label']=='spam']"
      ],
      "metadata": {
        "id": "0-Zc6oOb5O-W"
      },
      "execution_count": 9,
      "outputs": []
    },
    {
      "cell_type": "code",
      "source": [
        "df_spam.head()"
      ],
      "metadata": {
        "colab": {
          "base_uri": "https://localhost:8080/",
          "height": 206
        },
        "id": "PyVQE9565uky",
        "outputId": "72339b4c-6d55-4171-9877-64f5c35abaaf"
      },
      "execution_count": 10,
      "outputs": [
        {
          "output_type": "execute_result",
          "data": {
            "text/html": [
              "<div>\n",
              "<style scoped>\n",
              "    .dataframe tbody tr th:only-of-type {\n",
              "        vertical-align: middle;\n",
              "    }\n",
              "\n",
              "    .dataframe tbody tr th {\n",
              "        vertical-align: top;\n",
              "    }\n",
              "\n",
              "    .dataframe thead th {\n",
              "        text-align: right;\n",
              "    }\n",
              "</style>\n",
              "<table border=\"1\" class=\"dataframe\">\n",
              "  <thead>\n",
              "    <tr style=\"text-align: right;\">\n",
              "      <th></th>\n",
              "      <th>label</th>\n",
              "      <th>message</th>\n",
              "    </tr>\n",
              "  </thead>\n",
              "  <tbody>\n",
              "    <tr>\n",
              "      <th>2</th>\n",
              "      <td>spam</td>\n",
              "      <td>Free entry in 2 a wkly comp to win FA Cup fina...</td>\n",
              "    </tr>\n",
              "    <tr>\n",
              "      <th>5</th>\n",
              "      <td>spam</td>\n",
              "      <td>FreeMsg Hey there darling it's been 3 week's n...</td>\n",
              "    </tr>\n",
              "    <tr>\n",
              "      <th>8</th>\n",
              "      <td>spam</td>\n",
              "      <td>WINNER!! As a valued network customer you have...</td>\n",
              "    </tr>\n",
              "    <tr>\n",
              "      <th>9</th>\n",
              "      <td>spam</td>\n",
              "      <td>Had your mobile 11 months or more? U R entitle...</td>\n",
              "    </tr>\n",
              "    <tr>\n",
              "      <th>11</th>\n",
              "      <td>spam</td>\n",
              "      <td>SIX chances to win CASH! From 100 to 20,000 po...</td>\n",
              "    </tr>\n",
              "  </tbody>\n",
              "</table>\n",
              "</div>"
            ],
            "text/plain": [
              "   label                                            message\n",
              "2   spam  Free entry in 2 a wkly comp to win FA Cup fina...\n",
              "5   spam  FreeMsg Hey there darling it's been 3 week's n...\n",
              "8   spam  WINNER!! As a valued network customer you have...\n",
              "9   spam  Had your mobile 11 months or more? U R entitle...\n",
              "11  spam  SIX chances to win CASH! From 100 to 20,000 po..."
            ]
          },
          "metadata": {},
          "execution_count": 10
        }
      ]
    },
    {
      "cell_type": "code",
      "source": [
        "df_spam.shape"
      ],
      "metadata": {
        "colab": {
          "base_uri": "https://localhost:8080/"
        },
        "id": "E-ypAkpq5vcc",
        "outputId": "30550da1-dfd9-45c9-9e44-917dbc543020"
      },
      "execution_count": 11,
      "outputs": [
        {
          "output_type": "execute_result",
          "data": {
            "text/plain": [
              "(747, 2)"
            ]
          },
          "metadata": {},
          "execution_count": 11
        }
      ]
    },
    {
      "cell_type": "code",
      "source": [
        "df_ham= df[df['label']=='ham']\n",
        "df_ham.head()"
      ],
      "metadata": {
        "colab": {
          "base_uri": "https://localhost:8080/",
          "height": 206
        },
        "id": "XJSURVp-51FV",
        "outputId": "23e7dde6-3f81-4f7f-8196-815b44a7b61d"
      },
      "execution_count": 12,
      "outputs": [
        {
          "output_type": "execute_result",
          "data": {
            "text/html": [
              "<div>\n",
              "<style scoped>\n",
              "    .dataframe tbody tr th:only-of-type {\n",
              "        vertical-align: middle;\n",
              "    }\n",
              "\n",
              "    .dataframe tbody tr th {\n",
              "        vertical-align: top;\n",
              "    }\n",
              "\n",
              "    .dataframe thead th {\n",
              "        text-align: right;\n",
              "    }\n",
              "</style>\n",
              "<table border=\"1\" class=\"dataframe\">\n",
              "  <thead>\n",
              "    <tr style=\"text-align: right;\">\n",
              "      <th></th>\n",
              "      <th>label</th>\n",
              "      <th>message</th>\n",
              "    </tr>\n",
              "  </thead>\n",
              "  <tbody>\n",
              "    <tr>\n",
              "      <th>0</th>\n",
              "      <td>ham</td>\n",
              "      <td>Go until jurong point, crazy.. Available only ...</td>\n",
              "    </tr>\n",
              "    <tr>\n",
              "      <th>1</th>\n",
              "      <td>ham</td>\n",
              "      <td>Ok lar... Joking wif u oni...</td>\n",
              "    </tr>\n",
              "    <tr>\n",
              "      <th>3</th>\n",
              "      <td>ham</td>\n",
              "      <td>U dun say so early hor... U c already then say...</td>\n",
              "    </tr>\n",
              "    <tr>\n",
              "      <th>4</th>\n",
              "      <td>ham</td>\n",
              "      <td>Nah I don't think he goes to usf, he lives aro...</td>\n",
              "    </tr>\n",
              "    <tr>\n",
              "      <th>6</th>\n",
              "      <td>ham</td>\n",
              "      <td>Even my brother is not like to speak with me. ...</td>\n",
              "    </tr>\n",
              "  </tbody>\n",
              "</table>\n",
              "</div>"
            ],
            "text/plain": [
              "  label                                            message\n",
              "0   ham  Go until jurong point, crazy.. Available only ...\n",
              "1   ham                      Ok lar... Joking wif u oni...\n",
              "3   ham  U dun say so early hor... U c already then say...\n",
              "4   ham  Nah I don't think he goes to usf, he lives aro...\n",
              "6   ham  Even my brother is not like to speak with me. ..."
            ]
          },
          "metadata": {},
          "execution_count": 12
        }
      ]
    },
    {
      "cell_type": "code",
      "source": [
        "df_ham.shape"
      ],
      "metadata": {
        "colab": {
          "base_uri": "https://localhost:8080/"
        },
        "id": "DcwStK3C58XR",
        "outputId": "7d95d60e-c7d0-4beb-8b77-d81dfc5ed56e"
      },
      "execution_count": 13,
      "outputs": [
        {
          "output_type": "execute_result",
          "data": {
            "text/plain": [
              "(4825, 2)"
            ]
          },
          "metadata": {},
          "execution_count": 13
        }
      ]
    },
    {
      "cell_type": "code",
      "source": [
        "df_ham_downsampled= df_ham.sample(df_spam.shape[0])\n",
        "#df_spam.shape[0]= 747"
      ],
      "metadata": {
        "id": "8NsFaijt5_CF"
      },
      "execution_count": 14,
      "outputs": []
    },
    {
      "cell_type": "code",
      "source": [
        "df_ham_downsampled.head()"
      ],
      "metadata": {
        "colab": {
          "base_uri": "https://localhost:8080/",
          "height": 206
        },
        "id": "S101K8pa6ZxB",
        "outputId": "c4127ecf-b9e2-4da9-ac7c-58850bea1763"
      },
      "execution_count": 15,
      "outputs": [
        {
          "output_type": "execute_result",
          "data": {
            "text/html": [
              "<div>\n",
              "<style scoped>\n",
              "    .dataframe tbody tr th:only-of-type {\n",
              "        vertical-align: middle;\n",
              "    }\n",
              "\n",
              "    .dataframe tbody tr th {\n",
              "        vertical-align: top;\n",
              "    }\n",
              "\n",
              "    .dataframe thead th {\n",
              "        text-align: right;\n",
              "    }\n",
              "</style>\n",
              "<table border=\"1\" class=\"dataframe\">\n",
              "  <thead>\n",
              "    <tr style=\"text-align: right;\">\n",
              "      <th></th>\n",
              "      <th>label</th>\n",
              "      <th>message</th>\n",
              "    </tr>\n",
              "  </thead>\n",
              "  <tbody>\n",
              "    <tr>\n",
              "      <th>2232</th>\n",
              "      <td>ham</td>\n",
              "      <td>K, wen ur free come to my home and also tel vi...</td>\n",
              "    </tr>\n",
              "    <tr>\n",
              "      <th>5344</th>\n",
              "      <td>ham</td>\n",
              "      <td>When you guys planning on coming over?</td>\n",
              "    </tr>\n",
              "    <tr>\n",
              "      <th>3608</th>\n",
              "      <td>ham</td>\n",
              "      <td>I have no idea where you are</td>\n",
              "    </tr>\n",
              "    <tr>\n",
              "      <th>2933</th>\n",
              "      <td>ham</td>\n",
              "      <td>Only 2% students solved this CAT question in '...</td>\n",
              "    </tr>\n",
              "    <tr>\n",
              "      <th>1552</th>\n",
              "      <td>ham</td>\n",
              "      <td>In e msg jus now. U said thanks for gift.</td>\n",
              "    </tr>\n",
              "  </tbody>\n",
              "</table>\n",
              "</div>"
            ],
            "text/plain": [
              "     label                                            message\n",
              "2232   ham  K, wen ur free come to my home and also tel vi...\n",
              "5344   ham             When you guys planning on coming over?\n",
              "3608   ham                       I have no idea where you are\n",
              "2933   ham  Only 2% students solved this CAT question in '...\n",
              "1552   ham          In e msg jus now. U said thanks for gift."
            ]
          },
          "metadata": {},
          "execution_count": 15
        }
      ]
    },
    {
      "cell_type": "code",
      "source": [
        "df_ham_downsampled.shape"
      ],
      "metadata": {
        "colab": {
          "base_uri": "https://localhost:8080/"
        },
        "id": "q_c6JQ-_6bxv",
        "outputId": "e4bf7815-cf1c-442b-8701-00b552a8c415"
      },
      "execution_count": 16,
      "outputs": [
        {
          "output_type": "execute_result",
          "data": {
            "text/plain": [
              "(747, 2)"
            ]
          },
          "metadata": {},
          "execution_count": 16
        }
      ]
    },
    {
      "cell_type": "code",
      "source": [
        "df_balanced= pd.concat([df_spam, df_ham_downsampled])"
      ],
      "metadata": {
        "id": "AsGeFR6I6hRE"
      },
      "execution_count": 17,
      "outputs": []
    },
    {
      "cell_type": "code",
      "source": [
        "df_balanced.shape"
      ],
      "metadata": {
        "colab": {
          "base_uri": "https://localhost:8080/"
        },
        "id": "g9wsKKPH6wIr",
        "outputId": "0a8cb9a5-c768-4c08-ca14-df294526cd83"
      },
      "execution_count": 18,
      "outputs": [
        {
          "output_type": "execute_result",
          "data": {
            "text/plain": [
              "(1494, 2)"
            ]
          },
          "metadata": {},
          "execution_count": 18
        }
      ]
    },
    {
      "cell_type": "code",
      "source": [
        "df_balanced['label'].describe()"
      ],
      "metadata": {
        "colab": {
          "base_uri": "https://localhost:8080/"
        },
        "id": "yQHNONgi6yIa",
        "outputId": "929996e9-e02a-421a-dbc4-b6f7ff3de487"
      },
      "execution_count": 19,
      "outputs": [
        {
          "output_type": "execute_result",
          "data": {
            "text/plain": [
              "count     1494\n",
              "unique       2\n",
              "top        ham\n",
              "freq       747\n",
              "Name: label, dtype: object"
            ]
          },
          "metadata": {},
          "execution_count": 19
        }
      ]
    },
    {
      "cell_type": "code",
      "source": [
        "df_balanced['label'].value_counts()"
      ],
      "metadata": {
        "colab": {
          "base_uri": "https://localhost:8080/"
        },
        "id": "_Rc-YxfU68yC",
        "outputId": "0b625f26-006a-41b0-85c6-eab6caaf02e5"
      },
      "execution_count": 20,
      "outputs": [
        {
          "output_type": "execute_result",
          "data": {
            "text/plain": [
              "ham     747\n",
              "spam    747\n",
              "Name: label, dtype: int64"
            ]
          },
          "metadata": {},
          "execution_count": 20
        }
      ]
    },
    {
      "cell_type": "code",
      "source": [
        "df_balanced['spam']= df_balanced['label'].apply(lambda x:1 if x=='spam' else 0)"
      ],
      "metadata": {
        "id": "9GHyG0wH7CVG"
      },
      "execution_count": 21,
      "outputs": []
    },
    {
      "cell_type": "code",
      "source": [
        "df_balanced"
      ],
      "metadata": {
        "colab": {
          "base_uri": "https://localhost:8080/",
          "height": 424
        },
        "id": "EuMarJKP8OLK",
        "outputId": "ed22a39c-48f0-4c67-dcd7-fa717c26b623"
      },
      "execution_count": 22,
      "outputs": [
        {
          "output_type": "execute_result",
          "data": {
            "text/html": [
              "<div>\n",
              "<style scoped>\n",
              "    .dataframe tbody tr th:only-of-type {\n",
              "        vertical-align: middle;\n",
              "    }\n",
              "\n",
              "    .dataframe tbody tr th {\n",
              "        vertical-align: top;\n",
              "    }\n",
              "\n",
              "    .dataframe thead th {\n",
              "        text-align: right;\n",
              "    }\n",
              "</style>\n",
              "<table border=\"1\" class=\"dataframe\">\n",
              "  <thead>\n",
              "    <tr style=\"text-align: right;\">\n",
              "      <th></th>\n",
              "      <th>label</th>\n",
              "      <th>message</th>\n",
              "      <th>spam</th>\n",
              "    </tr>\n",
              "  </thead>\n",
              "  <tbody>\n",
              "    <tr>\n",
              "      <th>2</th>\n",
              "      <td>spam</td>\n",
              "      <td>Free entry in 2 a wkly comp to win FA Cup fina...</td>\n",
              "      <td>1</td>\n",
              "    </tr>\n",
              "    <tr>\n",
              "      <th>5</th>\n",
              "      <td>spam</td>\n",
              "      <td>FreeMsg Hey there darling it's been 3 week's n...</td>\n",
              "      <td>1</td>\n",
              "    </tr>\n",
              "    <tr>\n",
              "      <th>8</th>\n",
              "      <td>spam</td>\n",
              "      <td>WINNER!! As a valued network customer you have...</td>\n",
              "      <td>1</td>\n",
              "    </tr>\n",
              "    <tr>\n",
              "      <th>9</th>\n",
              "      <td>spam</td>\n",
              "      <td>Had your mobile 11 months or more? U R entitle...</td>\n",
              "      <td>1</td>\n",
              "    </tr>\n",
              "    <tr>\n",
              "      <th>11</th>\n",
              "      <td>spam</td>\n",
              "      <td>SIX chances to win CASH! From 100 to 20,000 po...</td>\n",
              "      <td>1</td>\n",
              "    </tr>\n",
              "    <tr>\n",
              "      <th>...</th>\n",
              "      <td>...</td>\n",
              "      <td>...</td>\n",
              "      <td>...</td>\n",
              "    </tr>\n",
              "    <tr>\n",
              "      <th>1588</th>\n",
              "      <td>ham</td>\n",
              "      <td>Dont search love, let love find U. Thats why i...</td>\n",
              "      <td>0</td>\n",
              "    </tr>\n",
              "    <tr>\n",
              "      <th>5544</th>\n",
              "      <td>ham</td>\n",
              "      <td>I'm taking derek &amp;amp; taylor to walmart, if I...</td>\n",
              "      <td>0</td>\n",
              "    </tr>\n",
              "    <tr>\n",
              "      <th>5040</th>\n",
              "      <td>ham</td>\n",
              "      <td>Pls clarify back if an open return ticket that...</td>\n",
              "      <td>0</td>\n",
              "    </tr>\n",
              "    <tr>\n",
              "      <th>4978</th>\n",
              "      <td>ham</td>\n",
              "      <td>A boy was late 2 home. His father: \"POWER OF F...</td>\n",
              "      <td>0</td>\n",
              "    </tr>\n",
              "    <tr>\n",
              "      <th>5134</th>\n",
              "      <td>ham</td>\n",
              "      <td>Sday only joined.so training we started today:)</td>\n",
              "      <td>0</td>\n",
              "    </tr>\n",
              "  </tbody>\n",
              "</table>\n",
              "<p>1494 rows × 3 columns</p>\n",
              "</div>"
            ],
            "text/plain": [
              "     label                                            message  spam\n",
              "2     spam  Free entry in 2 a wkly comp to win FA Cup fina...     1\n",
              "5     spam  FreeMsg Hey there darling it's been 3 week's n...     1\n",
              "8     spam  WINNER!! As a valued network customer you have...     1\n",
              "9     spam  Had your mobile 11 months or more? U R entitle...     1\n",
              "11    spam  SIX chances to win CASH! From 100 to 20,000 po...     1\n",
              "...    ...                                                ...   ...\n",
              "1588   ham  Dont search love, let love find U. Thats why i...     0\n",
              "5544   ham  I'm taking derek &amp; taylor to walmart, if I...     0\n",
              "5040   ham  Pls clarify back if an open return ticket that...     0\n",
              "4978   ham  A boy was late 2 home. His father: \"POWER OF F...     0\n",
              "5134   ham    Sday only joined.so training we started today:)     0\n",
              "\n",
              "[1494 rows x 3 columns]"
            ]
          },
          "metadata": {},
          "execution_count": 22
        }
      ]
    },
    {
      "cell_type": "code",
      "source": [
        "from sklearn.model_selection import train_test_split\n",
        "\n",
        "X_train, X_test, y_train, y_test = train_test_split(df_balanced['message'], df_balanced['spam'], stratify=df_balanced['spam'])\n",
        "\n",
        "#stratify= data is split in a stratified fashion, using this as the class labels"
      ],
      "metadata": {
        "id": "YjIzKDQ48fhy"
      },
      "execution_count": 23,
      "outputs": []
    },
    {
      "cell_type": "code",
      "source": [
        "#Now lets import BERT model and get embeding vectors for few sample statements"
      ],
      "metadata": {
        "id": "0s1Y0Stl80e9"
      },
      "execution_count": 24,
      "outputs": []
    },
    {
      "cell_type": "code",
      "source": [
        "bert_preprocess = hub.KerasLayer(\"https://tfhub.dev/tensorflow/bert_en_uncased_preprocess/3\")\n",
        "bert_encoder = hub.KerasLayer(\"https://tfhub.dev/tensorflow/bert_en_uncased_L-12_H-768_A-12/4\")"
      ],
      "metadata": {
        "id": "m-mhHD4u9eqg"
      },
      "execution_count": 25,
      "outputs": []
    },
    {
      "cell_type": "code",
      "source": [
        "X_train.head()"
      ],
      "metadata": {
        "colab": {
          "base_uri": "https://localhost:8080/"
        },
        "id": "INbod6GQ9iaJ",
        "outputId": "0e963164-b8d6-4b5e-a16c-a9b256aca3ab"
      },
      "execution_count": 26,
      "outputs": [
        {
          "output_type": "execute_result",
          "data": {
            "text/plain": [
              "2670    we tried to contact you re your response to ou...\n",
              "2823    ROMCAPspam Everyone around should be respondin...\n",
              "4834    New Mobiles from 2004, MUST GO! Txt: NOKIA to ...\n",
              "1683    HI BABE U R MOST LIKELY TO BE IN BED BUT IM SO...\n",
              "2032    I noe la... U wana pei bf oso rite... K lor, o...\n",
              "Name: message, dtype: object"
            ]
          },
          "metadata": {},
          "execution_count": 26
        }
      ]
    },
    {
      "cell_type": "code",
      "source": [
        "#Creating a function that takes a sentence as an input and returns 768 size vector as an output.\n",
        "\n",
        "def get_sentence_embedding(sentences):\n",
        "  preprocess_text= bert_preprocess(sentences)\n",
        "  return bert_encoder(preprocess_text)['pooled_output'] #word embedding for entire sentence "
      ],
      "metadata": {
        "id": "ek4QnnGx90Ma"
      },
      "execution_count": 27,
      "outputs": []
    },
    {
      "cell_type": "code",
      "source": [
        "get_sentence_embedding([\n",
        "    \"500$ discount. hurry up\", \n",
        "    \"Bhavin, are you up for a volleybal game tomorrow?\"]\n",
        ")"
      ],
      "metadata": {
        "colab": {
          "base_uri": "https://localhost:8080/"
        },
        "id": "ZwMJQvHx-yEv",
        "outputId": "8178ddbf-bf8a-44bc-9ec3-24910fd21d32"
      },
      "execution_count": 28,
      "outputs": [
        {
          "output_type": "execute_result",
          "data": {
            "text/plain": [
              "<tf.Tensor: shape=(2, 768), dtype=float32, numpy=\n",
              "array([[-0.8435166 , -0.5132724 , -0.88845706, ..., -0.7474883 ,\n",
              "        -0.7531471 ,  0.91964483],\n",
              "       [-0.8720836 , -0.50544   , -0.9444667 , ..., -0.8584748 ,\n",
              "        -0.71745366,  0.88082993]], dtype=float32)>"
            ]
          },
          "metadata": {},
          "execution_count": 28
        }
      ]
    },
    {
      "cell_type": "code",
      "source": [
        "#Get embeding vectors for few sample words. Compare them using cosine similarity"
      ],
      "metadata": {
        "id": "zN0g5Fpd-1Zb"
      },
      "execution_count": 29,
      "outputs": []
    },
    {
      "cell_type": "code",
      "source": [
        "e = get_sentence_embedding([\n",
        "    \"banana\", \n",
        "    \"grapes\",\n",
        "    \"mango\",\n",
        "    \"jeff bezos\",\n",
        "    \"elon musk\",\n",
        "    \"bill gates\"\n",
        "])"
      ],
      "metadata": {
        "id": "2wjGFlyW_JHS"
      },
      "execution_count": 30,
      "outputs": []
    },
    {
      "cell_type": "code",
      "source": [
        "from sklearn.metrics.pairwise import cosine_similarity"
      ],
      "metadata": {
        "id": "FEewao4U_MFW"
      },
      "execution_count": 31,
      "outputs": []
    },
    {
      "cell_type": "code",
      "source": [
        "cosine_similarity([e[0]],[e[1]])"
      ],
      "metadata": {
        "colab": {
          "base_uri": "https://localhost:8080/"
        },
        "id": "xmSb6AmV_Xpo",
        "outputId": "f6e19ebb-d7e2-426b-c056-069e3f3201be"
      },
      "execution_count": 32,
      "outputs": [
        {
          "output_type": "execute_result",
          "data": {
            "text/plain": [
              "array([[0.99110895]], dtype=float32)"
            ]
          },
          "metadata": {},
          "execution_count": 32
        }
      ]
    },
    {
      "cell_type": "code",
      "source": [
        "#Values near to 1 means they are similar. 0 means they are very different. Above you can use comparing \"banana\" vs \"grapes\" you get 0.99 similarity as they both are fruits"
      ],
      "metadata": {
        "id": "xxmNdcM2_ZUE"
      },
      "execution_count": 33,
      "outputs": []
    },
    {
      "cell_type": "code",
      "source": [
        "cosine_similarity([e[3]],[e[4]])"
      ],
      "metadata": {
        "colab": {
          "base_uri": "https://localhost:8080/"
        },
        "id": "ERgVsudx_dt8",
        "outputId": "81ca5799-7b15-4a00-d190-8fce575f1c54"
      },
      "execution_count": 34,
      "outputs": [
        {
          "output_type": "execute_result",
          "data": {
            "text/plain": [
              "array([[0.9872036]], dtype=float32)"
            ]
          },
          "metadata": {},
          "execution_count": 34
        }
      ]
    },
    {
      "cell_type": "code",
      "source": [
        "#Jeff bezos and Elon musk are more similar then Jeff bezos and banana as indicated above"
      ],
      "metadata": {
        "id": "7nbbv6SsAggU"
      },
      "execution_count": 35,
      "outputs": []
    },
    {
      "cell_type": "code",
      "source": [
        "cosine_similarity([e[0]],[e[3]])"
      ],
      "metadata": {
        "colab": {
          "base_uri": "https://localhost:8080/"
        },
        "id": "0kLwxpRrAkFk",
        "outputId": "6f74315d-fc2f-48f9-8472-a8d2ff29b81b"
      },
      "execution_count": 36,
      "outputs": [
        {
          "output_type": "execute_result",
          "data": {
            "text/plain": [
              "array([[0.8470383]], dtype=float32)"
            ]
          },
          "metadata": {},
          "execution_count": 36
        }
      ]
    },
    {
      "cell_type": "code",
      "source": [
        "#Comparing banana with jeff bezos you still get 0.84 but it is not as close as 0.99 that we got with grapes."
      ],
      "metadata": {
        "id": "BmFn1AH-Almh"
      },
      "execution_count": 37,
      "outputs": []
    },
    {
      "cell_type": "code",
      "source": [
        "#Build Model\n",
        "\n",
        "#There are two types of models you can build in tensorflow.\n",
        "# (1) Sequential (2) Functional\n",
        "\n",
        "# below we will build functional model"
      ],
      "metadata": {
        "id": "J6NAx7ZKBD-m"
      },
      "execution_count": 38,
      "outputs": []
    },
    {
      "cell_type": "code",
      "source": [
        "# Bert layers\n",
        "text_input= tf.keras.layers.Input(shape=(), dtype=tf.string, name='text')\n",
        "preprocess_text =bert_preprocess(text_input)\n",
        "outputs =bert_encoder(preprocess_text)\n",
        "\n",
        "# Neural network layers\n",
        "l = tf.keras.layers.Dropout(0.1, name=\"dropout\")(outputs['pooled_output'])\n",
        "l = tf.keras.layers.Dense(1, activation='sigmoid', name=\"output\")(l)\n",
        "\n",
        "# Use inputs and outputs to construct a final model\n",
        "model = tf.keras.Model(inputs=[text_input], outputs = [l])"
      ],
      "metadata": {
        "id": "zTQpRLavBi9i"
      },
      "execution_count": 39,
      "outputs": []
    },
    {
      "cell_type": "code",
      "source": [
        "model.summary()"
      ],
      "metadata": {
        "colab": {
          "base_uri": "https://localhost:8080/"
        },
        "id": "Lh2Rlef4C0Zz",
        "outputId": "ceb258cd-2824-4234-c0ea-bfff6cf666a7"
      },
      "execution_count": 40,
      "outputs": [
        {
          "output_type": "stream",
          "name": "stdout",
          "text": [
            "Model: \"model\"\n",
            "__________________________________________________________________________________________________\n",
            " Layer (type)                   Output Shape         Param #     Connected to                     \n",
            "==================================================================================================\n",
            " text (InputLayer)              [(None,)]            0           []                               \n",
            "                                                                                                  \n",
            " keras_layer (KerasLayer)       {'input_word_ids':   0           ['text[0][0]']                   \n",
            "                                (None, 128),                                                      \n",
            "                                 'input_type_ids':                                                \n",
            "                                (None, 128),                                                      \n",
            "                                 'input_mask': (Non                                               \n",
            "                                e, 128)}                                                          \n",
            "                                                                                                  \n",
            " keras_layer_1 (KerasLayer)     {'default': (None,   109482241   ['keras_layer[0][0]',            \n",
            "                                768),                             'keras_layer[0][1]',            \n",
            "                                 'sequence_output':               'keras_layer[0][2]']            \n",
            "                                 (None, 128, 768),                                                \n",
            "                                 'pooled_output': (                                               \n",
            "                                None, 768),                                                       \n",
            "                                 'encoder_outputs':                                               \n",
            "                                 [(None, 128, 768),                                               \n",
            "                                 (None, 128, 768),                                                \n",
            "                                 (None, 128, 768),                                                \n",
            "                                 (None, 128, 768),                                                \n",
            "                                 (None, 128, 768),                                                \n",
            "                                 (None, 128, 768),                                                \n",
            "                                 (None, 128, 768),                                                \n",
            "                                 (None, 128, 768),                                                \n",
            "                                 (None, 128, 768),                                                \n",
            "                                 (None, 128, 768),                                                \n",
            "                                 (None, 128, 768),                                                \n",
            "                                 (None, 128, 768)]}                                               \n",
            "                                                                                                  \n",
            " dropout (Dropout)              (None, 768)          0           ['keras_layer_1[0][13]']         \n",
            "                                                                                                  \n",
            " output (Dense)                 (None, 1)            769         ['dropout[0][0]']                \n",
            "                                                                                                  \n",
            "==================================================================================================\n",
            "Total params: 109,483,010\n",
            "Trainable params: 769\n",
            "Non-trainable params: 109,482,241\n",
            "__________________________________________________________________________________________________\n"
          ]
        }
      ]
    },
    {
      "cell_type": "code",
      "source": [
        "METRICS = [\n",
        "      tf.keras.metrics.BinaryAccuracy(name='accuracy'),\n",
        "      tf.keras.metrics.Precision(name='precision'),\n",
        "      tf.keras.metrics.Recall(name='recall')\n",
        "]\n",
        "\n",
        "model.compile(optimizer='adam',\n",
        "              loss='binary_crossentropy',\n",
        "              metrics=METRICS)"
      ],
      "metadata": {
        "id": "y2sy13WLC4H_"
      },
      "execution_count": 41,
      "outputs": []
    },
    {
      "cell_type": "code",
      "source": [
        "model.fit(X_train, y_train, epochs=10)"
      ],
      "metadata": {
        "colab": {
          "base_uri": "https://localhost:8080/"
        },
        "id": "12zYxga4CXbC",
        "outputId": "8f6843a4-9787-4c37-f29c-1ecc622de32f"
      },
      "execution_count": 42,
      "outputs": [
        {
          "output_type": "stream",
          "name": "stdout",
          "text": [
            "Epoch 1/10\n",
            "35/35 [==============================] - 33s 622ms/step - loss: 0.5760 - accuracy: 0.7366 - precision: 0.7387 - recall: 0.7321\n",
            "Epoch 2/10\n",
            "35/35 [==============================] - 22s 624ms/step - loss: 0.4716 - accuracy: 0.8321 - precision: 0.8286 - recall: 0.8375\n",
            "Epoch 3/10\n",
            "35/35 [==============================] - 22s 624ms/step - loss: 0.4076 - accuracy: 0.8813 - precision: 0.8819 - recall: 0.8804\n",
            "Epoch 4/10\n",
            "35/35 [==============================] - 22s 628ms/step - loss: 0.3691 - accuracy: 0.8821 - precision: 0.8768 - recall: 0.8893\n",
            "Epoch 5/10\n",
            "35/35 [==============================] - 22s 632ms/step - loss: 0.3431 - accuracy: 0.8911 - precision: 0.8789 - recall: 0.9071\n",
            "Epoch 6/10\n",
            "35/35 [==============================] - 22s 632ms/step - loss: 0.3277 - accuracy: 0.8893 - precision: 0.8798 - recall: 0.9018\n",
            "Epoch 7/10\n",
            "35/35 [==============================] - 22s 639ms/step - loss: 0.3029 - accuracy: 0.9036 - precision: 0.8844 - recall: 0.9286\n",
            "Epoch 8/10\n",
            "35/35 [==============================] - 22s 637ms/step - loss: 0.2910 - accuracy: 0.9036 - precision: 0.8937 - recall: 0.9161\n",
            "Epoch 9/10\n",
            "35/35 [==============================] - 22s 637ms/step - loss: 0.2721 - accuracy: 0.9107 - precision: 0.9007 - recall: 0.9232\n",
            "Epoch 10/10\n",
            "35/35 [==============================] - 22s 633ms/step - loss: 0.2628 - accuracy: 0.9205 - precision: 0.9183 - recall: 0.9232\n"
          ]
        },
        {
          "output_type": "execute_result",
          "data": {
            "text/plain": [
              "<keras.callbacks.History at 0x7f52d75d2410>"
            ]
          },
          "metadata": {},
          "execution_count": 42
        }
      ]
    },
    {
      "cell_type": "code",
      "source": [
        "model.evaluate(X_test, y_test)"
      ],
      "metadata": {
        "colab": {
          "base_uri": "https://localhost:8080/"
        },
        "id": "kH1ikvbvDju5",
        "outputId": "811744ee-eef2-43cc-d9ff-f3d15c9cae8b"
      },
      "execution_count": 43,
      "outputs": [
        {
          "output_type": "stream",
          "name": "stdout",
          "text": [
            "12/12 [==============================] - 9s 613ms/step - loss: 0.2734 - accuracy: 0.9118 - precision: 0.8812 - recall: 0.9519\n"
          ]
        },
        {
          "output_type": "execute_result",
          "data": {
            "text/plain": [
              "[0.27335962653160095,\n",
              " 0.9117646813392639,\n",
              " 0.8811880946159363,\n",
              " 0.9518716335296631]"
            ]
          },
          "metadata": {},
          "execution_count": 43
        }
      ]
    },
    {
      "cell_type": "code",
      "source": [
        "y_predicted = model.predict(X_test)\n",
        "y_predicted"
      ],
      "metadata": {
        "colab": {
          "base_uri": "https://localhost:8080/"
        },
        "id": "vtVdt7k0Dl7o",
        "outputId": "fbbfa23a-9e73-4f76-9652-109a23eef9a9"
      },
      "execution_count": 44,
      "outputs": [
        {
          "output_type": "execute_result",
          "data": {
            "text/plain": [
              "array([[0.9646564 ],\n",
              "       [0.979935  ],\n",
              "       [0.9017511 ],\n",
              "       [0.9525932 ],\n",
              "       [0.86457944],\n",
              "       [0.9709551 ],\n",
              "       [0.12718144],\n",
              "       [0.86304724],\n",
              "       [0.9366654 ],\n",
              "       [0.03119833],\n",
              "       [0.6926738 ],\n",
              "       [0.9400277 ],\n",
              "       [0.1100765 ],\n",
              "       [0.11097459],\n",
              "       [0.48077586],\n",
              "       [0.24476038],\n",
              "       [0.11124694],\n",
              "       [0.9167892 ],\n",
              "       [0.30973598],\n",
              "       [0.9448888 ],\n",
              "       [0.900297  ],\n",
              "       [0.95106757],\n",
              "       [0.87551576],\n",
              "       [0.012553  ],\n",
              "       [0.03685003],\n",
              "       [0.66998655],\n",
              "       [0.7722783 ],\n",
              "       [0.8199729 ],\n",
              "       [0.92830986],\n",
              "       [0.89065987],\n",
              "       [0.93163353],\n",
              "       [0.86623895],\n",
              "       [0.9028459 ],\n",
              "       [0.8729961 ],\n",
              "       [0.02319634],\n",
              "       [0.06123212],\n",
              "       [0.3601931 ],\n",
              "       [0.6190118 ],\n",
              "       [0.6625245 ],\n",
              "       [0.9379399 ],\n",
              "       [0.8601962 ],\n",
              "       [0.280581  ],\n",
              "       [0.82447785],\n",
              "       [0.8899642 ],\n",
              "       [0.5535648 ],\n",
              "       [0.3781192 ],\n",
              "       [0.1599547 ],\n",
              "       [0.06650181],\n",
              "       [0.10281222],\n",
              "       [0.7636468 ],\n",
              "       [0.06170337],\n",
              "       [0.9395171 ],\n",
              "       [0.96429074],\n",
              "       [0.06323265],\n",
              "       [0.7297861 ],\n",
              "       [0.10847269],\n",
              "       [0.04620627],\n",
              "       [0.9647804 ],\n",
              "       [0.29735985],\n",
              "       [0.98758674],\n",
              "       [0.8875626 ],\n",
              "       [0.40787077],\n",
              "       [0.95139825],\n",
              "       [0.94649327],\n",
              "       [0.84868014],\n",
              "       [0.82262355],\n",
              "       [0.31835884],\n",
              "       [0.5107794 ],\n",
              "       [0.9622724 ],\n",
              "       [0.9395088 ],\n",
              "       [0.16475621],\n",
              "       [0.63935804],\n",
              "       [0.95842564],\n",
              "       [0.941246  ],\n",
              "       [0.19556773],\n",
              "       [0.33162236],\n",
              "       [0.21090741],\n",
              "       [0.77112323],\n",
              "       [0.94474244],\n",
              "       [0.09649673],\n",
              "       [0.15346548],\n",
              "       [0.94752604],\n",
              "       [0.92083836],\n",
              "       [0.7171426 ],\n",
              "       [0.06123212],\n",
              "       [0.36991864],\n",
              "       [0.13022801],\n",
              "       [0.14985617],\n",
              "       [0.87825006],\n",
              "       [0.03820304],\n",
              "       [0.87488514],\n",
              "       [0.90677506],\n",
              "       [0.02420884],\n",
              "       [0.96874803],\n",
              "       [0.24299687],\n",
              "       [0.78954846],\n",
              "       [0.07387849],\n",
              "       [0.09533968],\n",
              "       [0.93886375],\n",
              "       [0.8783519 ],\n",
              "       [0.7973513 ],\n",
              "       [0.22875114],\n",
              "       [0.34952095],\n",
              "       [0.88923085],\n",
              "       [0.912839  ],\n",
              "       [0.90793604],\n",
              "       [0.20172383],\n",
              "       [0.02158932],\n",
              "       [0.23629999],\n",
              "       [0.9437583 ],\n",
              "       [0.9582878 ],\n",
              "       [0.9345756 ],\n",
              "       [0.02456128],\n",
              "       [0.81637806],\n",
              "       [0.5348451 ],\n",
              "       [0.4140756 ],\n",
              "       [0.9570208 ],\n",
              "       [0.78220457],\n",
              "       [0.17660938],\n",
              "       [0.05075708],\n",
              "       [0.19437236],\n",
              "       [0.2199907 ],\n",
              "       [0.08516876],\n",
              "       [0.11931847],\n",
              "       [0.9531847 ],\n",
              "       [0.5851087 ],\n",
              "       [0.95797527],\n",
              "       [0.0733071 ],\n",
              "       [0.97779524],\n",
              "       [0.1324137 ],\n",
              "       [0.35682568],\n",
              "       [0.20480904],\n",
              "       [0.85778403],\n",
              "       [0.23425569],\n",
              "       [0.31924233],\n",
              "       [0.02953659],\n",
              "       [0.594982  ],\n",
              "       [0.02359077],\n",
              "       [0.8975955 ],\n",
              "       [0.14529493],\n",
              "       [0.9486734 ],\n",
              "       [0.39685732],\n",
              "       [0.26186094],\n",
              "       [0.65512556],\n",
              "       [0.79670197],\n",
              "       [0.8787071 ],\n",
              "       [0.1714483 ],\n",
              "       [0.06712075],\n",
              "       [0.10195107],\n",
              "       [0.48822784],\n",
              "       [0.9542965 ],\n",
              "       [0.10547907],\n",
              "       [0.51972646],\n",
              "       [0.8519871 ],\n",
              "       [0.08173674],\n",
              "       [0.2761989 ],\n",
              "       [0.06925298],\n",
              "       [0.9229276 ],\n",
              "       [0.06475881],\n",
              "       [0.23159689],\n",
              "       [0.42221513],\n",
              "       [0.04951623],\n",
              "       [0.9407262 ],\n",
              "       [0.16081078],\n",
              "       [0.8672439 ],\n",
              "       [0.9258797 ],\n",
              "       [0.44915518],\n",
              "       [0.82681316],\n",
              "       [0.6562549 ],\n",
              "       [0.95817333],\n",
              "       [0.95595616],\n",
              "       [0.02219667],\n",
              "       [0.8014549 ],\n",
              "       [0.8970623 ],\n",
              "       [0.3274361 ],\n",
              "       [0.5761602 ],\n",
              "       [0.05339554],\n",
              "       [0.84226406],\n",
              "       [0.93228716],\n",
              "       [0.10600901],\n",
              "       [0.07196669],\n",
              "       [0.3592525 ],\n",
              "       [0.2114137 ],\n",
              "       [0.9227862 ],\n",
              "       [0.12757482],\n",
              "       [0.34251472],\n",
              "       [0.11326391],\n",
              "       [0.05936678],\n",
              "       [0.12557177],\n",
              "       [0.9650949 ],\n",
              "       [0.620137  ],\n",
              "       [0.7062432 ],\n",
              "       [0.14457272],\n",
              "       [0.9832756 ],\n",
              "       [0.16562612],\n",
              "       [0.07003784],\n",
              "       [0.3369437 ],\n",
              "       [0.76570964],\n",
              "       [0.05712907],\n",
              "       [0.9456507 ],\n",
              "       [0.23579821],\n",
              "       [0.9637822 ],\n",
              "       [0.8414462 ],\n",
              "       [0.81637806],\n",
              "       [0.30079222],\n",
              "       [0.07765964],\n",
              "       [0.7806567 ],\n",
              "       [0.8862095 ],\n",
              "       [0.9248878 ],\n",
              "       [0.9468469 ],\n",
              "       [0.02436074],\n",
              "       [0.77447355],\n",
              "       [0.75915176],\n",
              "       [0.66494316],\n",
              "       [0.88475955],\n",
              "       [0.79337925],\n",
              "       [0.12929358],\n",
              "       [0.6924392 ],\n",
              "       [0.800144  ],\n",
              "       [0.7876247 ],\n",
              "       [0.06011491],\n",
              "       [0.02771132],\n",
              "       [0.9749849 ],\n",
              "       [0.25528237],\n",
              "       [0.98264253],\n",
              "       [0.32588917],\n",
              "       [0.15123755],\n",
              "       [0.10852089],\n",
              "       [0.34642604],\n",
              "       [0.8357417 ],\n",
              "       [0.8038518 ],\n",
              "       [0.91049707],\n",
              "       [0.2824164 ],\n",
              "       [0.10180573],\n",
              "       [0.19655742],\n",
              "       [0.72484696],\n",
              "       [0.80328876],\n",
              "       [0.5876535 ],\n",
              "       [0.8914334 ],\n",
              "       [0.86664635],\n",
              "       [0.18083407],\n",
              "       [0.80908567],\n",
              "       [0.23337458],\n",
              "       [0.7377724 ],\n",
              "       [0.03184677],\n",
              "       [0.58534956],\n",
              "       [0.9625224 ],\n",
              "       [0.95208913],\n",
              "       [0.07803356],\n",
              "       [0.8355799 ],\n",
              "       [0.96679986],\n",
              "       [0.9113238 ],\n",
              "       [0.853017  ],\n",
              "       [0.0151608 ],\n",
              "       [0.06895367],\n",
              "       [0.98967755],\n",
              "       [0.2507762 ],\n",
              "       [0.04986061],\n",
              "       [0.12647931],\n",
              "       [0.94585603],\n",
              "       [0.7633532 ],\n",
              "       [0.97048426],\n",
              "       [0.9736734 ],\n",
              "       [0.80754125],\n",
              "       [0.92875636],\n",
              "       [0.8729961 ],\n",
              "       [0.943605  ],\n",
              "       [0.81336933],\n",
              "       [0.66531867],\n",
              "       [0.1798107 ],\n",
              "       [0.15103728],\n",
              "       [0.94647926],\n",
              "       [0.01355688],\n",
              "       [0.645957  ],\n",
              "       [0.1908179 ],\n",
              "       [0.04580408],\n",
              "       [0.878233  ],\n",
              "       [0.0883214 ],\n",
              "       [0.46709698],\n",
              "       [0.19058478],\n",
              "       [0.76636726],\n",
              "       [0.2416585 ],\n",
              "       [0.9175037 ],\n",
              "       [0.48889843],\n",
              "       [0.8849182 ],\n",
              "       [0.29856062],\n",
              "       [0.62118757],\n",
              "       [0.39735627],\n",
              "       [0.58427906],\n",
              "       [0.4038039 ],\n",
              "       [0.72565186],\n",
              "       [0.85553336],\n",
              "       [0.6224663 ],\n",
              "       [0.48416555],\n",
              "       [0.5467303 ],\n",
              "       [0.12995417],\n",
              "       [0.9646564 ],\n",
              "       [0.62426376],\n",
              "       [0.14553963],\n",
              "       [0.90501785],\n",
              "       [0.29282063],\n",
              "       [0.9704264 ],\n",
              "       [0.57876855],\n",
              "       [0.20165901],\n",
              "       [0.23105958],\n",
              "       [0.33879688],\n",
              "       [0.02631544],\n",
              "       [0.2525772 ],\n",
              "       [0.47686633],\n",
              "       [0.09657802],\n",
              "       [0.9812522 ],\n",
              "       [0.82771504],\n",
              "       [0.02621716],\n",
              "       [0.7165236 ],\n",
              "       [0.38750345],\n",
              "       [0.11815661],\n",
              "       [0.01806025],\n",
              "       [0.85371065],\n",
              "       [0.15646908],\n",
              "       [0.39245135],\n",
              "       [0.42899582],\n",
              "       [0.9211328 ],\n",
              "       [0.9868031 ],\n",
              "       [0.8615245 ],\n",
              "       [0.6970751 ],\n",
              "       [0.9049063 ],\n",
              "       [0.8509163 ],\n",
              "       [0.7062432 ],\n",
              "       [0.03744061],\n",
              "       [0.98631686],\n",
              "       [0.14799057],\n",
              "       [0.85371065],\n",
              "       [0.07197034],\n",
              "       [0.9839982 ],\n",
              "       [0.15865456],\n",
              "       [0.10500289],\n",
              "       [0.36087143],\n",
              "       [0.971092  ],\n",
              "       [0.01963744],\n",
              "       [0.8329888 ],\n",
              "       [0.8389414 ],\n",
              "       [0.9675127 ],\n",
              "       [0.05745772],\n",
              "       [0.15433626],\n",
              "       [0.2904752 ],\n",
              "       [0.08507026],\n",
              "       [0.05204942],\n",
              "       [0.7566691 ],\n",
              "       [0.9869682 ],\n",
              "       [0.93053055],\n",
              "       [0.76452684],\n",
              "       [0.46909988],\n",
              "       [0.97264737],\n",
              "       [0.86309594],\n",
              "       [0.66989285],\n",
              "       [0.43132913],\n",
              "       [0.01722842],\n",
              "       [0.92157793],\n",
              "       [0.15844636],\n",
              "       [0.33288142],\n",
              "       [0.6628575 ],\n",
              "       [0.877016  ],\n",
              "       [0.19921829],\n",
              "       [0.2312175 ],\n",
              "       [0.85611975],\n",
              "       [0.9020925 ],\n",
              "       [0.14924663],\n",
              "       [0.08040342],\n",
              "       [0.8126575 ],\n",
              "       [0.97401184],\n",
              "       [0.10886502],\n",
              "       [0.9075489 ],\n",
              "       [0.7613491 ],\n",
              "       [0.7689105 ]], dtype=float32)"
            ]
          },
          "metadata": {},
          "execution_count": 44
        }
      ]
    },
    {
      "cell_type": "code",
      "source": [
        "y_predicted = y_predicted.flatten()\n",
        "y_predicted"
      ],
      "metadata": {
        "colab": {
          "base_uri": "https://localhost:8080/"
        },
        "id": "lg7TgBD7GFKK",
        "outputId": "545c4477-fdf6-4024-f41c-37d378d1f2d9"
      },
      "execution_count": 45,
      "outputs": [
        {
          "output_type": "execute_result",
          "data": {
            "text/plain": [
              "array([0.9646564 , 0.979935  , 0.9017511 , 0.9525932 , 0.86457944,\n",
              "       0.9709551 , 0.12718144, 0.86304724, 0.9366654 , 0.03119833,\n",
              "       0.6926738 , 0.9400277 , 0.1100765 , 0.11097459, 0.48077586,\n",
              "       0.24476038, 0.11124694, 0.9167892 , 0.30973598, 0.9448888 ,\n",
              "       0.900297  , 0.95106757, 0.87551576, 0.012553  , 0.03685003,\n",
              "       0.66998655, 0.7722783 , 0.8199729 , 0.92830986, 0.89065987,\n",
              "       0.93163353, 0.86623895, 0.9028459 , 0.8729961 , 0.02319634,\n",
              "       0.06123212, 0.3601931 , 0.6190118 , 0.6625245 , 0.9379399 ,\n",
              "       0.8601962 , 0.280581  , 0.82447785, 0.8899642 , 0.5535648 ,\n",
              "       0.3781192 , 0.1599547 , 0.06650181, 0.10281222, 0.7636468 ,\n",
              "       0.06170337, 0.9395171 , 0.96429074, 0.06323265, 0.7297861 ,\n",
              "       0.10847269, 0.04620627, 0.9647804 , 0.29735985, 0.98758674,\n",
              "       0.8875626 , 0.40787077, 0.95139825, 0.94649327, 0.84868014,\n",
              "       0.82262355, 0.31835884, 0.5107794 , 0.9622724 , 0.9395088 ,\n",
              "       0.16475621, 0.63935804, 0.95842564, 0.941246  , 0.19556773,\n",
              "       0.33162236, 0.21090741, 0.77112323, 0.94474244, 0.09649673,\n",
              "       0.15346548, 0.94752604, 0.92083836, 0.7171426 , 0.06123212,\n",
              "       0.36991864, 0.13022801, 0.14985617, 0.87825006, 0.03820304,\n",
              "       0.87488514, 0.90677506, 0.02420884, 0.96874803, 0.24299687,\n",
              "       0.78954846, 0.07387849, 0.09533968, 0.93886375, 0.8783519 ,\n",
              "       0.7973513 , 0.22875114, 0.34952095, 0.88923085, 0.912839  ,\n",
              "       0.90793604, 0.20172383, 0.02158932, 0.23629999, 0.9437583 ,\n",
              "       0.9582878 , 0.9345756 , 0.02456128, 0.81637806, 0.5348451 ,\n",
              "       0.4140756 , 0.9570208 , 0.78220457, 0.17660938, 0.05075708,\n",
              "       0.19437236, 0.2199907 , 0.08516876, 0.11931847, 0.9531847 ,\n",
              "       0.5851087 , 0.95797527, 0.0733071 , 0.97779524, 0.1324137 ,\n",
              "       0.35682568, 0.20480904, 0.85778403, 0.23425569, 0.31924233,\n",
              "       0.02953659, 0.594982  , 0.02359077, 0.8975955 , 0.14529493,\n",
              "       0.9486734 , 0.39685732, 0.26186094, 0.65512556, 0.79670197,\n",
              "       0.8787071 , 0.1714483 , 0.06712075, 0.10195107, 0.48822784,\n",
              "       0.9542965 , 0.10547907, 0.51972646, 0.8519871 , 0.08173674,\n",
              "       0.2761989 , 0.06925298, 0.9229276 , 0.06475881, 0.23159689,\n",
              "       0.42221513, 0.04951623, 0.9407262 , 0.16081078, 0.8672439 ,\n",
              "       0.9258797 , 0.44915518, 0.82681316, 0.6562549 , 0.95817333,\n",
              "       0.95595616, 0.02219667, 0.8014549 , 0.8970623 , 0.3274361 ,\n",
              "       0.5761602 , 0.05339554, 0.84226406, 0.93228716, 0.10600901,\n",
              "       0.07196669, 0.3592525 , 0.2114137 , 0.9227862 , 0.12757482,\n",
              "       0.34251472, 0.11326391, 0.05936678, 0.12557177, 0.9650949 ,\n",
              "       0.620137  , 0.7062432 , 0.14457272, 0.9832756 , 0.16562612,\n",
              "       0.07003784, 0.3369437 , 0.76570964, 0.05712907, 0.9456507 ,\n",
              "       0.23579821, 0.9637822 , 0.8414462 , 0.81637806, 0.30079222,\n",
              "       0.07765964, 0.7806567 , 0.8862095 , 0.9248878 , 0.9468469 ,\n",
              "       0.02436074, 0.77447355, 0.75915176, 0.66494316, 0.88475955,\n",
              "       0.79337925, 0.12929358, 0.6924392 , 0.800144  , 0.7876247 ,\n",
              "       0.06011491, 0.02771132, 0.9749849 , 0.25528237, 0.98264253,\n",
              "       0.32588917, 0.15123755, 0.10852089, 0.34642604, 0.8357417 ,\n",
              "       0.8038518 , 0.91049707, 0.2824164 , 0.10180573, 0.19655742,\n",
              "       0.72484696, 0.80328876, 0.5876535 , 0.8914334 , 0.86664635,\n",
              "       0.18083407, 0.80908567, 0.23337458, 0.7377724 , 0.03184677,\n",
              "       0.58534956, 0.9625224 , 0.95208913, 0.07803356, 0.8355799 ,\n",
              "       0.96679986, 0.9113238 , 0.853017  , 0.0151608 , 0.06895367,\n",
              "       0.98967755, 0.2507762 , 0.04986061, 0.12647931, 0.94585603,\n",
              "       0.7633532 , 0.97048426, 0.9736734 , 0.80754125, 0.92875636,\n",
              "       0.8729961 , 0.943605  , 0.81336933, 0.66531867, 0.1798107 ,\n",
              "       0.15103728, 0.94647926, 0.01355688, 0.645957  , 0.1908179 ,\n",
              "       0.04580408, 0.878233  , 0.0883214 , 0.46709698, 0.19058478,\n",
              "       0.76636726, 0.2416585 , 0.9175037 , 0.48889843, 0.8849182 ,\n",
              "       0.29856062, 0.62118757, 0.39735627, 0.58427906, 0.4038039 ,\n",
              "       0.72565186, 0.85553336, 0.6224663 , 0.48416555, 0.5467303 ,\n",
              "       0.12995417, 0.9646564 , 0.62426376, 0.14553963, 0.90501785,\n",
              "       0.29282063, 0.9704264 , 0.57876855, 0.20165901, 0.23105958,\n",
              "       0.33879688, 0.02631544, 0.2525772 , 0.47686633, 0.09657802,\n",
              "       0.9812522 , 0.82771504, 0.02621716, 0.7165236 , 0.38750345,\n",
              "       0.11815661, 0.01806025, 0.85371065, 0.15646908, 0.39245135,\n",
              "       0.42899582, 0.9211328 , 0.9868031 , 0.8615245 , 0.6970751 ,\n",
              "       0.9049063 , 0.8509163 , 0.7062432 , 0.03744061, 0.98631686,\n",
              "       0.14799057, 0.85371065, 0.07197034, 0.9839982 , 0.15865456,\n",
              "       0.10500289, 0.36087143, 0.971092  , 0.01963744, 0.8329888 ,\n",
              "       0.8389414 , 0.9675127 , 0.05745772, 0.15433626, 0.2904752 ,\n",
              "       0.08507026, 0.05204942, 0.7566691 , 0.9869682 , 0.93053055,\n",
              "       0.76452684, 0.46909988, 0.97264737, 0.86309594, 0.66989285,\n",
              "       0.43132913, 0.01722842, 0.92157793, 0.15844636, 0.33288142,\n",
              "       0.6628575 , 0.877016  , 0.19921829, 0.2312175 , 0.85611975,\n",
              "       0.9020925 , 0.14924663, 0.08040342, 0.8126575 , 0.97401184,\n",
              "       0.10886502, 0.9075489 , 0.7613491 , 0.7689105 ], dtype=float32)"
            ]
          },
          "metadata": {},
          "execution_count": 45
        }
      ]
    },
    {
      "cell_type": "code",
      "source": [
        "import numpy as np\n",
        "\n",
        "y_predicted = np.where(y_predicted > 0.5, 1, 0)\n",
        "y_predicted"
      ],
      "metadata": {
        "colab": {
          "base_uri": "https://localhost:8080/"
        },
        "id": "1S4kOgcBGOQb",
        "outputId": "2de358f4-3e3a-40d8-976c-1a044abd1a7e"
      },
      "execution_count": 46,
      "outputs": [
        {
          "output_type": "execute_result",
          "data": {
            "text/plain": [
              "array([1, 1, 1, 1, 1, 1, 0, 1, 1, 0, 1, 1, 0, 0, 0, 0, 0, 1, 0, 1, 1, 1,\n",
              "       1, 0, 0, 1, 1, 1, 1, 1, 1, 1, 1, 1, 0, 0, 0, 1, 1, 1, 1, 0, 1, 1,\n",
              "       1, 0, 0, 0, 0, 1, 0, 1, 1, 0, 1, 0, 0, 1, 0, 1, 1, 0, 1, 1, 1, 1,\n",
              "       0, 1, 1, 1, 0, 1, 1, 1, 0, 0, 0, 1, 1, 0, 0, 1, 1, 1, 0, 0, 0, 0,\n",
              "       1, 0, 1, 1, 0, 1, 0, 1, 0, 0, 1, 1, 1, 0, 0, 1, 1, 1, 0, 0, 0, 1,\n",
              "       1, 1, 0, 1, 1, 0, 1, 1, 0, 0, 0, 0, 0, 0, 1, 1, 1, 0, 1, 0, 0, 0,\n",
              "       1, 0, 0, 0, 1, 0, 1, 0, 1, 0, 0, 1, 1, 1, 0, 0, 0, 0, 1, 0, 1, 1,\n",
              "       0, 0, 0, 1, 0, 0, 0, 0, 1, 0, 1, 1, 0, 1, 1, 1, 1, 0, 1, 1, 0, 1,\n",
              "       0, 1, 1, 0, 0, 0, 0, 1, 0, 0, 0, 0, 0, 1, 1, 1, 0, 1, 0, 0, 0, 1,\n",
              "       0, 1, 0, 1, 1, 1, 0, 0, 1, 1, 1, 1, 0, 1, 1, 1, 1, 1, 0, 1, 1, 1,\n",
              "       0, 0, 1, 0, 1, 0, 0, 0, 0, 1, 1, 1, 0, 0, 0, 1, 1, 1, 1, 1, 0, 1,\n",
              "       0, 1, 0, 1, 1, 1, 0, 1, 1, 1, 1, 0, 0, 1, 0, 0, 0, 1, 1, 1, 1, 1,\n",
              "       1, 1, 1, 1, 1, 0, 0, 1, 0, 1, 0, 0, 1, 0, 0, 0, 1, 0, 1, 0, 1, 0,\n",
              "       1, 0, 1, 0, 1, 1, 1, 0, 1, 0, 1, 1, 0, 1, 0, 1, 1, 0, 0, 0, 0, 0,\n",
              "       0, 0, 1, 1, 0, 1, 0, 0, 0, 1, 0, 0, 0, 1, 1, 1, 1, 1, 1, 1, 0, 1,\n",
              "       0, 1, 0, 1, 0, 0, 0, 1, 0, 1, 1, 1, 0, 0, 0, 0, 0, 1, 1, 1, 1, 0,\n",
              "       1, 1, 1, 0, 0, 1, 0, 0, 1, 1, 0, 0, 1, 1, 0, 0, 1, 1, 0, 1, 1, 1])"
            ]
          },
          "metadata": {},
          "execution_count": 46
        }
      ]
    },
    {
      "cell_type": "code",
      "source": [
        "from sklearn.metrics import confusion_matrix, classification_report"
      ],
      "metadata": {
        "id": "2aqpG5o0GRjX"
      },
      "execution_count": 47,
      "outputs": []
    },
    {
      "cell_type": "code",
      "source": [
        "print(classification_report(y_test, y_predicted))"
      ],
      "metadata": {
        "colab": {
          "base_uri": "https://localhost:8080/"
        },
        "id": "MdOOi5dRGWvc",
        "outputId": "aa7277b8-061f-4a5f-f3fa-053ba37bcbe5"
      },
      "execution_count": 48,
      "outputs": [
        {
          "output_type": "stream",
          "name": "stdout",
          "text": [
            "              precision    recall  f1-score   support\n",
            "\n",
            "           0       0.95      0.87      0.91       187\n",
            "           1       0.88      0.95      0.92       187\n",
            "\n",
            "    accuracy                           0.91       374\n",
            "   macro avg       0.91      0.91      0.91       374\n",
            "weighted avg       0.91      0.91      0.91       374\n",
            "\n"
          ]
        }
      ]
    },
    {
      "cell_type": "code",
      "source": [
        "print(confusion_matrix(y_test, y_predicted))"
      ],
      "metadata": {
        "colab": {
          "base_uri": "https://localhost:8080/"
        },
        "id": "BHPCr5zVGg2h",
        "outputId": "5b24263f-c878-47a2-faae-c18b009d8664"
      },
      "execution_count": 49,
      "outputs": [
        {
          "output_type": "stream",
          "name": "stdout",
          "text": [
            "[[163  24]\n",
            " [  9 178]]\n"
          ]
        }
      ]
    },
    {
      "cell_type": "code",
      "source": [
        "#Inference"
      ],
      "metadata": {
        "id": "mU9rBkqYGlPo"
      },
      "execution_count": 50,
      "outputs": []
    },
    {
      "cell_type": "code",
      "source": [
        "reviews = [\n",
        "    'Enter a chance to win $5000, hurry up, offer valid until march 31, 2021',\n",
        "    'You are awarded a SiPix Digital Camera! call 09061221061 from landline. Delivery within 28days. T Cs Box177. M221BP. 2yr warranty. 150ppm. 16 . p pÂ£3.99',\n",
        "    'it to 80488. Your 500 free text messages are valid until 31 December 2005.',\n",
        "    'Hey Sam, Are you coming for a cricket game tomorrow',\n",
        "    \"Why don't you wait 'til at least wednesday to see if you get your .\"\n",
        "]"
      ],
      "metadata": {
        "id": "W2niSHuWG5QU"
      },
      "execution_count": 51,
      "outputs": []
    },
    {
      "cell_type": "code",
      "source": [
        "model.predict(reviews)"
      ],
      "metadata": {
        "colab": {
          "base_uri": "https://localhost:8080/"
        },
        "id": "IBtWGGn1G8D4",
        "outputId": "1608fb98-b97e-4cd4-ab2c-93aa4bc24b47"
      },
      "execution_count": 52,
      "outputs": [
        {
          "output_type": "execute_result",
          "data": {
            "text/plain": [
              "array([[0.80428255],\n",
              "       [0.89321536],\n",
              "       [0.8488006 ],\n",
              "       [0.25549832],\n",
              "       [0.12810624]], dtype=float32)"
            ]
          },
          "metadata": {},
          "execution_count": 52
        }
      ]
    }
  ]
}