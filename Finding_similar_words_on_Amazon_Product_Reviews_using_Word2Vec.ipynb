{
  "nbformat": 4,
  "nbformat_minor": 0,
  "metadata": {
    "colab": {
      "name": "Finding similar words on Amazon Product Reviews using Word2Vec.ipynb",
      "provenance": [],
      "collapsed_sections": [],
      "mount_file_id": "1BBhNr4iSq-_LtEeQnMvpsGy5Y7WLue91",
      "authorship_tag": "ABX9TyNymcmeEHub7vuDkrExJWTb",
      "include_colab_link": true
    },
    "kernelspec": {
      "name": "python3",
      "display_name": "Python 3"
    },
    "language_info": {
      "name": "python"
    }
  },
  "cells": [
    {
      "cell_type": "markdown",
      "metadata": {
        "id": "view-in-github",
        "colab_type": "text"
      },
      "source": [
        "<a href=\"https://colab.research.google.com/github/feniltailor22/Natural-Language-Processing/blob/main/Finding_similar_words_on_Amazon_Product_Reviews_using_Word2Vec.ipynb\" target=\"_parent\"><img src=\"https://colab.research.google.com/assets/colab-badge.svg\" alt=\"Open In Colab\"/></a>"
      ]
    },
    {
      "cell_type": "code",
      "metadata": {
        "id": "0bgzKaPGuIZx"
      },
      "source": [
        "import gensim\n",
        "import pandas as pd"
      ],
      "execution_count": 2,
      "outputs": []
    },
    {
      "cell_type": "code",
      "metadata": {
        "id": "ThE9I5u4onxW"
      },
      "source": [
        "df= pd.read_json('Cell_Phones_and_Accessories_5.json', lines=True)"
      ],
      "execution_count": 4,
      "outputs": []
    },
    {
      "cell_type": "code",
      "metadata": {
        "colab": {
          "base_uri": "https://localhost:8080/",
          "height": 293
        },
        "id": "A6mEomMao5lJ",
        "outputId": "36ed62d1-a8b6-465e-e739-bc5767a07528"
      },
      "source": [
        "df.head()"
      ],
      "execution_count": 5,
      "outputs": [
        {
          "output_type": "execute_result",
          "data": {
            "text/html": [
              "<div>\n",
              "<style scoped>\n",
              "    .dataframe tbody tr th:only-of-type {\n",
              "        vertical-align: middle;\n",
              "    }\n",
              "\n",
              "    .dataframe tbody tr th {\n",
              "        vertical-align: top;\n",
              "    }\n",
              "\n",
              "    .dataframe thead th {\n",
              "        text-align: right;\n",
              "    }\n",
              "</style>\n",
              "<table border=\"1\" class=\"dataframe\">\n",
              "  <thead>\n",
              "    <tr style=\"text-align: right;\">\n",
              "      <th></th>\n",
              "      <th>reviewerID</th>\n",
              "      <th>asin</th>\n",
              "      <th>reviewerName</th>\n",
              "      <th>helpful</th>\n",
              "      <th>reviewText</th>\n",
              "      <th>overall</th>\n",
              "      <th>summary</th>\n",
              "      <th>unixReviewTime</th>\n",
              "      <th>reviewTime</th>\n",
              "    </tr>\n",
              "  </thead>\n",
              "  <tbody>\n",
              "    <tr>\n",
              "      <th>0</th>\n",
              "      <td>A30TL5EWN6DFXT</td>\n",
              "      <td>120401325X</td>\n",
              "      <td>christina</td>\n",
              "      <td>[0, 0]</td>\n",
              "      <td>They look good and stick good! I just don't li...</td>\n",
              "      <td>4</td>\n",
              "      <td>Looks Good</td>\n",
              "      <td>1400630400</td>\n",
              "      <td>05 21, 2014</td>\n",
              "    </tr>\n",
              "    <tr>\n",
              "      <th>1</th>\n",
              "      <td>ASY55RVNIL0UD</td>\n",
              "      <td>120401325X</td>\n",
              "      <td>emily l.</td>\n",
              "      <td>[0, 0]</td>\n",
              "      <td>These stickers work like the review says they ...</td>\n",
              "      <td>5</td>\n",
              "      <td>Really great product.</td>\n",
              "      <td>1389657600</td>\n",
              "      <td>01 14, 2014</td>\n",
              "    </tr>\n",
              "    <tr>\n",
              "      <th>2</th>\n",
              "      <td>A2TMXE2AFO7ONB</td>\n",
              "      <td>120401325X</td>\n",
              "      <td>Erica</td>\n",
              "      <td>[0, 0]</td>\n",
              "      <td>These are awesome and make my phone look so st...</td>\n",
              "      <td>5</td>\n",
              "      <td>LOVE LOVE LOVE</td>\n",
              "      <td>1403740800</td>\n",
              "      <td>06 26, 2014</td>\n",
              "    </tr>\n",
              "    <tr>\n",
              "      <th>3</th>\n",
              "      <td>AWJ0WZQYMYFQ4</td>\n",
              "      <td>120401325X</td>\n",
              "      <td>JM</td>\n",
              "      <td>[4, 4]</td>\n",
              "      <td>Item arrived in great time and was in perfect ...</td>\n",
              "      <td>4</td>\n",
              "      <td>Cute!</td>\n",
              "      <td>1382313600</td>\n",
              "      <td>10 21, 2013</td>\n",
              "    </tr>\n",
              "    <tr>\n",
              "      <th>4</th>\n",
              "      <td>ATX7CZYFXI1KW</td>\n",
              "      <td>120401325X</td>\n",
              "      <td>patrice m rogoza</td>\n",
              "      <td>[2, 3]</td>\n",
              "      <td>awesome! stays on, and looks great. can be use...</td>\n",
              "      <td>5</td>\n",
              "      <td>leopard home button sticker for iphone 4s</td>\n",
              "      <td>1359849600</td>\n",
              "      <td>02 3, 2013</td>\n",
              "    </tr>\n",
              "  </tbody>\n",
              "</table>\n",
              "</div>"
            ],
            "text/plain": [
              "       reviewerID        asin  ... unixReviewTime   reviewTime\n",
              "0  A30TL5EWN6DFXT  120401325X  ...     1400630400  05 21, 2014\n",
              "1   ASY55RVNIL0UD  120401325X  ...     1389657600  01 14, 2014\n",
              "2  A2TMXE2AFO7ONB  120401325X  ...     1403740800  06 26, 2014\n",
              "3   AWJ0WZQYMYFQ4  120401325X  ...     1382313600  10 21, 2013\n",
              "4   ATX7CZYFXI1KW  120401325X  ...     1359849600   02 3, 2013\n",
              "\n",
              "[5 rows x 9 columns]"
            ]
          },
          "metadata": {},
          "execution_count": 5
        }
      ]
    },
    {
      "cell_type": "code",
      "metadata": {
        "colab": {
          "base_uri": "https://localhost:8080/"
        },
        "id": "VlyYl76hrBAg",
        "outputId": "3b060fa8-3f18-4f7d-eb72-f916677c957f"
      },
      "source": [
        "df.info"
      ],
      "execution_count": 6,
      "outputs": [
        {
          "output_type": "execute_result",
          "data": {
            "text/plain": [
              "<bound method DataFrame.info of             reviewerID        asin  ... unixReviewTime   reviewTime\n",
              "0       A30TL5EWN6DFXT  120401325X  ...     1400630400  05 21, 2014\n",
              "1        ASY55RVNIL0UD  120401325X  ...     1389657600  01 14, 2014\n",
              "2       A2TMXE2AFO7ONB  120401325X  ...     1403740800  06 26, 2014\n",
              "3        AWJ0WZQYMYFQ4  120401325X  ...     1382313600  10 21, 2013\n",
              "4        ATX7CZYFXI1KW  120401325X  ...     1359849600   02 3, 2013\n",
              "...                ...         ...  ...            ...          ...\n",
              "194434  A1YMNTFLNDYQ1F  B00LORXVUE  ...     1405900800  07 21, 2014\n",
              "194435  A15TX8B2L8B20S  B00LORXVUE  ...     1405900800  07 21, 2014\n",
              "194436  A3JI7QRZO1QG8X  B00LORXVUE  ...     1405900800  07 21, 2014\n",
              "194437  A1NHB2VC68YQNM  B00LORXVUE  ...     1405814400  07 20, 2014\n",
              "194438  A1AG6U022WHXBF  B00LORXVUE  ...     1405900800  07 21, 2014\n",
              "\n",
              "[194439 rows x 9 columns]>"
            ]
          },
          "metadata": {},
          "execution_count": 6
        }
      ]
    },
    {
      "cell_type": "code",
      "metadata": {
        "colab": {
          "base_uri": "https://localhost:8080/"
        },
        "id": "LFwKFbPTrY2j",
        "outputId": "177471e4-6d11-484f-8b7b-fa6fd2a5e02a"
      },
      "source": [
        "#we will only work upon reviewText.\n",
        "df.reviewText"
      ],
      "execution_count": 7,
      "outputs": [
        {
          "output_type": "execute_result",
          "data": {
            "text/plain": [
              "0         They look good and stick good! I just don't li...\n",
              "1         These stickers work like the review says they ...\n",
              "2         These are awesome and make my phone look so st...\n",
              "3         Item arrived in great time and was in perfect ...\n",
              "4         awesome! stays on, and looks great. can be use...\n",
              "                                ...                        \n",
              "194434    Works great just like my original one. I reall...\n",
              "194435    Great product. Great packaging. High quality a...\n",
              "194436    This is a great cable, just as good as the mor...\n",
              "194437    I really like it becasue it works well with my...\n",
              "194438    product as described, I have wasted a lot of m...\n",
              "Name: reviewText, Length: 194439, dtype: object"
            ]
          },
          "metadata": {},
          "execution_count": 7
        }
      ]
    },
    {
      "cell_type": "code",
      "metadata": {
        "colab": {
          "base_uri": "https://localhost:8080/",
          "height": 53
        },
        "id": "PXBA8TTuri3k",
        "outputId": "d612090d-cb44-46d6-9087-d5deb00d7b64"
      },
      "source": [
        "df.reviewText[0]"
      ],
      "execution_count": 8,
      "outputs": [
        {
          "output_type": "execute_result",
          "data": {
            "application/vnd.google.colaboratory.intrinsic+json": {
              "type": "string"
            },
            "text/plain": [
              "\"They look good and stick good! I just don't like the rounded shape because I was always bumping it and Siri kept popping up and it was irritating. I just won't buy a product like this again\""
            ]
          },
          "metadata": {},
          "execution_count": 8
        }
      ]
    },
    {
      "cell_type": "code",
      "metadata": {
        "id": "bC9XETtoxGmK",
        "colab": {
          "base_uri": "https://localhost:8080/"
        },
        "outputId": "74c31228-1d94-49fb-d055-4452cbda16b3"
      },
      "source": [
        "#preprocessing the text data\n",
        "gensim.utils.simple_preprocess(df.reviewText[0])\n",
        "\n",
        "#It tokenize each word, remove common words and punctuation marks."
      ],
      "execution_count": 9,
      "outputs": [
        {
          "output_type": "execute_result",
          "data": {
            "text/plain": [
              "['they',\n",
              " 'look',\n",
              " 'good',\n",
              " 'and',\n",
              " 'stick',\n",
              " 'good',\n",
              " 'just',\n",
              " 'don',\n",
              " 'like',\n",
              " 'the',\n",
              " 'rounded',\n",
              " 'shape',\n",
              " 'because',\n",
              " 'was',\n",
              " 'always',\n",
              " 'bumping',\n",
              " 'it',\n",
              " 'and',\n",
              " 'siri',\n",
              " 'kept',\n",
              " 'popping',\n",
              " 'up',\n",
              " 'and',\n",
              " 'it',\n",
              " 'was',\n",
              " 'irritating',\n",
              " 'just',\n",
              " 'won',\n",
              " 'buy',\n",
              " 'product',\n",
              " 'like',\n",
              " 'this',\n",
              " 'again']"
            ]
          },
          "metadata": {},
          "execution_count": 9
        }
      ]
    },
    {
      "cell_type": "code",
      "metadata": {
        "colab": {
          "base_uri": "https://localhost:8080/"
        },
        "id": "XmoBo_YXxL3r",
        "outputId": "7e1107ac-58ed-4105-fa45-4ca51a07f811"
      },
      "source": [
        "review_text = df.reviewText.apply(gensim.utils.simple_preprocess)\n",
        "review_text"
      ],
      "execution_count": 10,
      "outputs": [
        {
          "output_type": "execute_result",
          "data": {
            "text/plain": [
              "0         [they, look, good, and, stick, good, just, don...\n",
              "1         [these, stickers, work, like, the, review, say...\n",
              "2         [these, are, awesome, and, make, my, phone, lo...\n",
              "3         [item, arrived, in, great, time, and, was, in,...\n",
              "4         [awesome, stays, on, and, looks, great, can, b...\n",
              "                                ...                        \n",
              "194434    [works, great, just, like, my, original, one, ...\n",
              "194435    [great, product, great, packaging, high, quali...\n",
              "194436    [this, is, great, cable, just, as, good, as, t...\n",
              "194437    [really, like, it, becasue, it, works, well, w...\n",
              "194438    [product, as, described, have, wasted, lot, of...\n",
              "Name: reviewText, Length: 194439, dtype: object"
            ]
          },
          "metadata": {},
          "execution_count": 10
        }
      ]
    },
    {
      "cell_type": "code",
      "metadata": {
        "id": "n6k_J7xsxljn"
      },
      "source": [
        "model= gensim.models.Word2Vec(\n",
        "    window=10,\n",
        "    min_count=2,\n",
        "    workers=4\n",
        ")\n",
        "#Train the model for reviews. Use a window of size 10 i.e. 10 words before the present word and 10 words ahead. \n",
        "#A sentence with at least 2 words should only be considered, configure this using min_count parameter.\n",
        "#Workers define how many CPU threads to be used."
      ],
      "execution_count": 14,
      "outputs": []
    },
    {
      "cell_type": "code",
      "metadata": {
        "id": "tz_mKdod1GEB"
      },
      "source": [
        "model.build_vocab(review_text, progress_per=1000)\n",
        "#Build vocabulary from a sequence of sentences.\n",
        "#progress_per indicates how many words to process before showing/updating the progress."
      ],
      "execution_count": 16,
      "outputs": []
    },
    {
      "cell_type": "code",
      "metadata": {
        "colab": {
          "base_uri": "https://localhost:8080/"
        },
        "id": "GrLpa_UO2aVg",
        "outputId": "ffc30bba-b165-4b39-ed7e-8df739c19519"
      },
      "source": [
        "model.corpus_count\n",
        "#total number of examples in the model"
      ],
      "execution_count": 17,
      "outputs": [
        {
          "output_type": "execute_result",
          "data": {
            "text/plain": [
              "194439"
            ]
          },
          "metadata": {},
          "execution_count": 17
        }
      ]
    },
    {
      "cell_type": "code",
      "metadata": {
        "colab": {
          "base_uri": "https://localhost:8080/"
        },
        "id": "Nvgrw3XY2ksx",
        "outputId": "3044713b-912a-4389-d5ff-d80e3a9617f3"
      },
      "source": [
        "model.epochs"
      ],
      "execution_count": 18,
      "outputs": [
        {
          "output_type": "execute_result",
          "data": {
            "text/plain": [
              "5"
            ]
          },
          "metadata": {},
          "execution_count": 18
        }
      ]
    },
    {
      "cell_type": "code",
      "metadata": {
        "colab": {
          "base_uri": "https://localhost:8080/"
        },
        "id": "u6wnb4Ri13uQ",
        "outputId": "7f2f592a-d8b3-4652-f50e-d0f4c9c9188c"
      },
      "source": [
        "model.train(sentences=review_text, total_examples=model.corpus_count, epochs=model.epochs)"
      ],
      "execution_count": 19,
      "outputs": [
        {
          "output_type": "execute_result",
          "data": {
            "text/plain": [
              "(61504387, 83868975)"
            ]
          },
          "metadata": {},
          "execution_count": 19
        }
      ]
    },
    {
      "cell_type": "code",
      "metadata": {
        "id": "grck3SXd2qXQ"
      },
      "source": [
        "#Finding Similar Words and Similarity between words"
      ],
      "execution_count": 20,
      "outputs": []
    },
    {
      "cell_type": "code",
      "metadata": {
        "colab": {
          "base_uri": "https://localhost:8080/"
        },
        "id": "pPDejLxf3I1s",
        "outputId": "a2565a4f-2e81-474f-81e7-f90b3b386cd0"
      },
      "source": [
        "model.wv.most_similar('bad')"
      ],
      "execution_count": 21,
      "outputs": [
        {
          "output_type": "execute_result",
          "data": {
            "text/plain": [
              "[('terrible', 0.6710002422332764),\n",
              " ('shabby', 0.600274920463562),\n",
              " ('horrible', 0.5969902276992798),\n",
              " ('good', 0.5881203413009644),\n",
              " ('funny', 0.5417051315307617),\n",
              " ('okay', 0.5337775945663452),\n",
              " ('disappointing', 0.5274943113327026),\n",
              " ('awful', 0.5166720747947693),\n",
              " ('legit', 0.5135170221328735),\n",
              " ('poor', 0.511223316192627)]"
            ]
          },
          "metadata": {},
          "execution_count": 21
        }
      ]
    },
    {
      "cell_type": "code",
      "metadata": {
        "colab": {
          "base_uri": "https://localhost:8080/"
        },
        "id": "leTtqJ9I3OBN",
        "outputId": "81edb531-5b3f-40cb-c1e9-458ff78f141e"
      },
      "source": [
        "model.wv.similarity(w1='cheap', w2='inexpensive')\n",
        "#Compute cosine similarity between two words."
      ],
      "execution_count": 24,
      "outputs": [
        {
          "output_type": "execute_result",
          "data": {
            "text/plain": [
              "0.55602884"
            ]
          },
          "metadata": {},
          "execution_count": 24
        }
      ]
    },
    {
      "cell_type": "code",
      "metadata": {
        "colab": {
          "base_uri": "https://localhost:8080/"
        },
        "id": "_Nfb5-TM3uKO",
        "outputId": "37703b73-eee0-49e2-a77e-7c084e9100a9"
      },
      "source": [
        "model.wv.similarity(w1='great', w2='good')"
      ],
      "execution_count": 25,
      "outputs": [
        {
          "output_type": "execute_result",
          "data": {
            "text/plain": [
              "0.78129226"
            ]
          },
          "metadata": {},
          "execution_count": 25
        }
      ]
    },
    {
      "cell_type": "code",
      "metadata": {
        "colab": {
          "base_uri": "https://localhost:8080/"
        },
        "id": "kJx8xDQi4a24",
        "outputId": "1cd756ac-59fe-4581-f582-7608a8f081a2"
      },
      "source": [
        "model.wv.similarity(w1='great', w2='aweful')"
      ],
      "execution_count": 26,
      "outputs": [
        {
          "output_type": "execute_result",
          "data": {
            "text/plain": [
              "0.1571721"
            ]
          },
          "metadata": {},
          "execution_count": 26
        }
      ]
    }
  ]
}