{
  "nbformat": 4,
  "nbformat_minor": 0,
  "metadata": {
    "colab": {
      "name": "Word2Vec in a Paragraph.ipynb",
      "provenance": [],
      "collapsed_sections": [],
      "authorship_tag": "ABX9TyMMnrEPsxit7FbN5WKxlHyb",
      "include_colab_link": true
    },
    "kernelspec": {
      "display_name": "Python 3",
      "name": "python3"
    },
    "language_info": {
      "name": "python"
    }
  },
  "cells": [
    {
      "cell_type": "markdown",
      "metadata": {
        "id": "view-in-github",
        "colab_type": "text"
      },
      "source": [
        "<a href=\"https://colab.research.google.com/github/feniltailor22/Natural-Language-Processing/blob/main/Word2Vec_in_a_Paragraph.ipynb\" target=\"_parent\"><img src=\"https://colab.research.google.com/assets/colab-badge.svg\" alt=\"Open In Colab\"/></a>"
      ]
    },
    {
      "cell_type": "code",
      "metadata": {
        "id": "nZ6Kn-yEEGM6"
      },
      "source": [
        "#Word2Vec model basically represented as a vector of 32 or more dimensions instead of single number.\n",
        "#Here the semantic information and relation between different words is also preserved.  "
      ],
      "execution_count": null,
      "outputs": []
    },
    {
      "cell_type": "code",
      "metadata": {
        "id": "GHRnJein1xqm"
      },
      "source": [
        "import nltk\n",
        "import string"
      ],
      "execution_count": null,
      "outputs": []
    },
    {
      "cell_type": "code",
      "metadata": {
        "colab": {
          "base_uri": "https://localhost:8080/"
        },
        "id": "hukyq6H-9OWh",
        "outputId": "ffcab92b-be44-4e82-c6ce-5943b2178954"
      },
      "source": [
        "nltk.download('punkt')"
      ],
      "execution_count": null,
      "outputs": [
        {
          "output_type": "stream",
          "name": "stdout",
          "text": [
            "[nltk_data] Downloading package punkt to /root/nltk_data...\n",
            "[nltk_data]   Package punkt is already up-to-date!\n"
          ]
        },
        {
          "output_type": "execute_result",
          "data": {
            "text/plain": [
              "True"
            ]
          },
          "metadata": {},
          "execution_count": 2
        }
      ]
    },
    {
      "cell_type": "code",
      "metadata": {
        "id": "8v4aqsl712VG"
      },
      "source": [
        "from gensim.models import Word2Vec\n",
        "from nltk.corpus import stopwords"
      ],
      "execution_count": null,
      "outputs": []
    },
    {
      "cell_type": "code",
      "metadata": {
        "id": "hcPuEoVP16Cv"
      },
      "source": [
        "import re #regular expression"
      ],
      "execution_count": null,
      "outputs": []
    },
    {
      "cell_type": "code",
      "metadata": {
        "id": "wxx2ZFtk2fav"
      },
      "source": [
        "paragraph = \"\"\"I have three visions for India. In 3000 years of our history, people from all over \n",
        "               the world have come and invaded us, captured our lands, conquered our minds. \n",
        "               From Alexander onwards, the Greeks, the Turks, the Moguls, the Portuguese, the British,\n",
        "               the French, the Dutch, all of them came and looted us, took over what was ours. \n",
        "               Yet we have not done this to any other nation. We have not conquered anyone. \n",
        "               We have not grabbed their land, their culture, \n",
        "               their history and tried to enforce our way of life on them. \n",
        "               Why? Because we respect the freedom of others.That is why my \n",
        "               first vision is that of freedom. I believe that India got its first vision of \n",
        "               this in 1857, when we started the War of Independence. It is this freedom that\n",
        "               we must protect and nurture and build on. If we are not free, no one will respect us.\n",
        "               My second vision for India’s development. For fifty years we have been a developing nation.\n",
        "               It is time we see ourselves as a developed nation. We are among the top 5 nations of the world\n",
        "               in terms of GDP. We have a 10 percent growth rate in most areas. Our poverty levels are falling.\n",
        "               Our achievements are being globally recognised today. Yet we lack the self-confidence to\n",
        "               see ourselves as a developed nation, self-reliant and self-assured. Isn’t this incorrect?\n",
        "               I have a third vision. India must stand up to the world. Because I believe that unless India \n",
        "               stands up to the world, no one will respect us. Only strength respects strength. We must be \n",
        "               strong not only as a military power but also as an economic power. Both must go hand-in-hand. \n",
        "               My good fortune was to have worked with three great minds. Dr. Vikram Sarabhai of the Dept. of \n",
        "               space, Professor Satish Dhawan, who succeeded him and Dr. Brahm Prakash, father of nuclear material.\n",
        "               I was lucky to have worked with all three of them closely and consider this the great opportunity of my life. \n",
        "               I see four milestones in my career\"\"\""
      ],
      "execution_count": null,
      "outputs": []
    },
    {
      "cell_type": "code",
      "metadata": {
        "id": "j6H-TvrH2jyc"
      },
      "source": [
        "#preprocessing the data"
      ],
      "execution_count": null,
      "outputs": []
    },
    {
      "cell_type": "code",
      "metadata": {
        "id": "NxbBfl3S2xFK",
        "colab": {
          "base_uri": "https://localhost:8080/",
          "height": 140
        },
        "outputId": "d5831901-5af8-49ca-e938-24986bc9307a"
      },
      "source": [
        "text = re.sub(r'\\[[0-9]*\\]',' ',paragraph) #joining the line with space\n",
        "text"
      ],
      "execution_count": null,
      "outputs": [
        {
          "output_type": "execute_result",
          "data": {
            "application/vnd.google.colaboratory.intrinsic+json": {
              "type": "string"
            },
            "text/plain": [
              "'I have three visions for India. In 3000 years of our history, people from all over \\n               the world have come and invaded us, captured our lands, conquered our minds. \\n               From Alexander onwards, the Greeks, the Turks, the Moguls, the Portuguese, the British,\\n               the French, the Dutch, all of them came and looted us, took over what was ours. \\n               Yet we have not done this to any other nation. We have not conquered anyone. \\n               We have not grabbed their land, their culture, \\n               their history and tried to enforce our way of life on them. \\n               Why? Because we respect the freedom of others.That is why my \\n               first vision is that of freedom. I believe that India got its first vision of \\n               this in 1857, when we started the War of Independence. It is this freedom that\\n               we must protect and nurture and build on. If we are not free, no one will respect us.\\n               My second vision for India’s development. For fifty years we have been a developing nation.\\n               It is time we see ourselves as a developed nation. We are among the top 5 nations of the world\\n               in terms of GDP. We have a 10 percent growth rate in most areas. Our poverty levels are falling.\\n               Our achievements are being globally recognised today. Yet we lack the self-confidence to\\n               see ourselves as a developed nation, self-reliant and self-assured. Isn’t this incorrect?\\n               I have a third vision. India must stand up to the world. Because I believe that unless India \\n               stands up to the world, no one will respect us. Only strength respects strength. We must be \\n               strong not only as a military power but also as an economic power. Both must go hand-in-hand. \\n               My good fortune was to have worked with three great minds. Dr. Vikram Sarabhai of the Dept. of \\n               space, Professor Satish Dhawan, who succeeded him and Dr. Brahm Prakash, father of nuclear material.\\n               I was lucky to have worked with all three of them closely and consider this the great opportunity of my life. \\n               I see four milestones in my career'"
            ]
          },
          "metadata": {},
          "execution_count": 7
        }
      ]
    },
    {
      "cell_type": "code",
      "metadata": {
        "id": "uA5-1uLj3TyS",
        "colab": {
          "base_uri": "https://localhost:8080/",
          "height": 140
        },
        "outputId": "fab17f3a-0795-4db8-a801-4113ee22afb0"
      },
      "source": [
        "text = re.sub(r'\\s+',' ',text) #removing the space \n",
        "text"
      ],
      "execution_count": null,
      "outputs": [
        {
          "output_type": "execute_result",
          "data": {
            "application/vnd.google.colaboratory.intrinsic+json": {
              "type": "string"
            },
            "text/plain": [
              "'I have three visions for India. In 3000 years of our history, people from all over the world have come and invaded us, captured our lands, conquered our minds. From Alexander onwards, the Greeks, the Turks, the Moguls, the Portuguese, the British, the French, the Dutch, all of them came and looted us, took over what was ours. Yet we have not done this to any other nation. We have not conquered anyone. We have not grabbed their land, their culture, their history and tried to enforce our way of life on them. Why? Because we respect the freedom of others.That is why my first vision is that of freedom. I believe that India got its first vision of this in 1857, when we started the War of Independence. It is this freedom that we must protect and nurture and build on. If we are not free, no one will respect us. My second vision for India’s development. For fifty years we have been a developing nation. It is time we see ourselves as a developed nation. We are among the top 5 nations of the world in terms of GDP. We have a 10 percent growth rate in most areas. Our poverty levels are falling. Our achievements are being globally recognised today. Yet we lack the self-confidence to see ourselves as a developed nation, self-reliant and self-assured. Isn’t this incorrect? I have a third vision. India must stand up to the world. Because I believe that unless India stands up to the world, no one will respect us. Only strength respects strength. We must be strong not only as a military power but also as an economic power. Both must go hand-in-hand. My good fortune was to have worked with three great minds. Dr. Vikram Sarabhai of the Dept. of space, Professor Satish Dhawan, who succeeded him and Dr. Brahm Prakash, father of nuclear material. I was lucky to have worked with all three of them closely and consider this the great opportunity of my life. I see four milestones in my career'"
            ]
          },
          "metadata": {},
          "execution_count": 8
        }
      ]
    },
    {
      "cell_type": "code",
      "metadata": {
        "colab": {
          "base_uri": "https://localhost:8080/",
          "height": 140
        },
        "id": "MTRnEtuV8Bcu",
        "outputId": "225e02e2-72e9-4a9d-e14f-d1294e20dfc8"
      },
      "source": [
        "text = text.lower() #convert paragragh to lower case\n",
        "text"
      ],
      "execution_count": null,
      "outputs": [
        {
          "output_type": "execute_result",
          "data": {
            "application/vnd.google.colaboratory.intrinsic+json": {
              "type": "string"
            },
            "text/plain": [
              "'i have three visions for india. in 3000 years of our history, people from all over the world have come and invaded us, captured our lands, conquered our minds. from alexander onwards, the greeks, the turks, the moguls, the portuguese, the british, the french, the dutch, all of them came and looted us, took over what was ours. yet we have not done this to any other nation. we have not conquered anyone. we have not grabbed their land, their culture, their history and tried to enforce our way of life on them. why? because we respect the freedom of others.that is why my first vision is that of freedom. i believe that india got its first vision of this in 1857, when we started the war of independence. it is this freedom that we must protect and nurture and build on. if we are not free, no one will respect us. my second vision for india’s development. for fifty years we have been a developing nation. it is time we see ourselves as a developed nation. we are among the top 5 nations of the world in terms of gdp. we have a 10 percent growth rate in most areas. our poverty levels are falling. our achievements are being globally recognised today. yet we lack the self-confidence to see ourselves as a developed nation, self-reliant and self-assured. isn’t this incorrect? i have a third vision. india must stand up to the world. because i believe that unless india stands up to the world, no one will respect us. only strength respects strength. we must be strong not only as a military power but also as an economic power. both must go hand-in-hand. my good fortune was to have worked with three great minds. dr. vikram sarabhai of the dept. of space, professor satish dhawan, who succeeded him and dr. brahm prakash, father of nuclear material. i was lucky to have worked with all three of them closely and consider this the great opportunity of my life. i see four milestones in my career'"
            ]
          },
          "metadata": {},
          "execution_count": 9
        }
      ]
    },
    {
      "cell_type": "code",
      "metadata": {
        "colab": {
          "base_uri": "https://localhost:8080/",
          "height": 140
        },
        "id": "3nqLlXZV8G_B",
        "outputId": "f928e87a-6ee1-4bcb-8571-9be290a254bb"
      },
      "source": [
        "text = re.sub(r'\\d',' ',text) #digit removed\n",
        "text"
      ],
      "execution_count": null,
      "outputs": [
        {
          "output_type": "execute_result",
          "data": {
            "application/vnd.google.colaboratory.intrinsic+json": {
              "type": "string"
            },
            "text/plain": [
              "'i have three visions for india. in      years of our history, people from all over the world have come and invaded us, captured our lands, conquered our minds. from alexander onwards, the greeks, the turks, the moguls, the portuguese, the british, the french, the dutch, all of them came and looted us, took over what was ours. yet we have not done this to any other nation. we have not conquered anyone. we have not grabbed their land, their culture, their history and tried to enforce our way of life on them. why? because we respect the freedom of others.that is why my first vision is that of freedom. i believe that india got its first vision of this in     , when we started the war of independence. it is this freedom that we must protect and nurture and build on. if we are not free, no one will respect us. my second vision for india’s development. for fifty years we have been a developing nation. it is time we see ourselves as a developed nation. we are among the top   nations of the world in terms of gdp. we have a    percent growth rate in most areas. our poverty levels are falling. our achievements are being globally recognised today. yet we lack the self-confidence to see ourselves as a developed nation, self-reliant and self-assured. isn’t this incorrect? i have a third vision. india must stand up to the world. because i believe that unless india stands up to the world, no one will respect us. only strength respects strength. we must be strong not only as a military power but also as an economic power. both must go hand-in-hand. my good fortune was to have worked with three great minds. dr. vikram sarabhai of the dept. of space, professor satish dhawan, who succeeded him and dr. brahm prakash, father of nuclear material. i was lucky to have worked with all three of them closely and consider this the great opportunity of my life. i see four milestones in my career'"
            ]
          },
          "metadata": {},
          "execution_count": 10
        }
      ]
    },
    {
      "cell_type": "code",
      "metadata": {
        "colab": {
          "base_uri": "https://localhost:8080/",
          "height": 140
        },
        "id": "32Dzn96P8LoT",
        "outputId": "97506dc8-a3fe-43e4-8247-e93f0143c801"
      },
      "source": [
        "text = re.sub(r'\\s+',' ',text) #removing the space \n",
        "text"
      ],
      "execution_count": null,
      "outputs": [
        {
          "output_type": "execute_result",
          "data": {
            "application/vnd.google.colaboratory.intrinsic+json": {
              "type": "string"
            },
            "text/plain": [
              "'i have three visions for india. in years of our history, people from all over the world have come and invaded us, captured our lands, conquered our minds. from alexander onwards, the greeks, the turks, the moguls, the portuguese, the british, the french, the dutch, all of them came and looted us, took over what was ours. yet we have not done this to any other nation. we have not conquered anyone. we have not grabbed their land, their culture, their history and tried to enforce our way of life on them. why? because we respect the freedom of others.that is why my first vision is that of freedom. i believe that india got its first vision of this in , when we started the war of independence. it is this freedom that we must protect and nurture and build on. if we are not free, no one will respect us. my second vision for india’s development. for fifty years we have been a developing nation. it is time we see ourselves as a developed nation. we are among the top nations of the world in terms of gdp. we have a percent growth rate in most areas. our poverty levels are falling. our achievements are being globally recognised today. yet we lack the self-confidence to see ourselves as a developed nation, self-reliant and self-assured. isn’t this incorrect? i have a third vision. india must stand up to the world. because i believe that unless india stands up to the world, no one will respect us. only strength respects strength. we must be strong not only as a military power but also as an economic power. both must go hand-in-hand. my good fortune was to have worked with three great minds. dr. vikram sarabhai of the dept. of space, professor satish dhawan, who succeeded him and dr. brahm prakash, father of nuclear material. i was lucky to have worked with all three of them closely and consider this the great opportunity of my life. i see four milestones in my career'"
            ]
          },
          "metadata": {},
          "execution_count": 11
        }
      ]
    },
    {
      "cell_type": "code",
      "metadata": {
        "id": "Yw0bE_OZ8lPH"
      },
      "source": [
        "#Converting paragraph into sentences (tokenization)\n",
        "sentences= nltk.sent_tokenize(text)"
      ],
      "execution_count": null,
      "outputs": []
    },
    {
      "cell_type": "code",
      "metadata": {
        "colab": {
          "base_uri": "https://localhost:8080/"
        },
        "id": "0BWD8bR79Btg",
        "outputId": "3fbefc78-61b2-4ebd-fd61-b1febaaa54d8"
      },
      "source": [
        "sentences"
      ],
      "execution_count": null,
      "outputs": [
        {
          "output_type": "execute_result",
          "data": {
            "text/plain": [
              "['i have three visions for india.',\n",
              " 'in years of our history, people from all over the world have come and invaded us, captured our lands, conquered our minds.',\n",
              " 'from alexander onwards, the greeks, the turks, the moguls, the portuguese, the british, the french, the dutch, all of them came and looted us, took over what was ours.',\n",
              " 'yet we have not done this to any other nation.',\n",
              " 'we have not conquered anyone.',\n",
              " 'we have not grabbed their land, their culture, their history and tried to enforce our way of life on them.',\n",
              " 'why?',\n",
              " 'because we respect the freedom of others.that is why my first vision is that of freedom.',\n",
              " 'i believe that india got its first vision of this in , when we started the war of independence.',\n",
              " 'it is this freedom that we must protect and nurture and build on.',\n",
              " 'if we are not free, no one will respect us.',\n",
              " 'my second vision for india’s development.',\n",
              " 'for fifty years we have been a developing nation.',\n",
              " 'it is time we see ourselves as a developed nation.',\n",
              " 'we are among the top nations of the world in terms of gdp.',\n",
              " 'we have a percent growth rate in most areas.',\n",
              " 'our poverty levels are falling.',\n",
              " 'our achievements are being globally recognised today.',\n",
              " 'yet we lack the self-confidence to see ourselves as a developed nation, self-reliant and self-assured.',\n",
              " 'isn’t this incorrect?',\n",
              " 'i have a third vision.',\n",
              " 'india must stand up to the world.',\n",
              " 'because i believe that unless india stands up to the world, no one will respect us.',\n",
              " 'only strength respects strength.',\n",
              " 'we must be strong not only as a military power but also as an economic power.',\n",
              " 'both must go hand-in-hand.',\n",
              " 'my good fortune was to have worked with three great minds.',\n",
              " 'dr. vikram sarabhai of the dept.',\n",
              " 'of space, professor satish dhawan, who succeeded him and dr. brahm prakash, father of nuclear material.',\n",
              " 'i was lucky to have worked with all three of them closely and consider this the great opportunity of my life.',\n",
              " 'i see four milestones in my career']"
            ]
          },
          "metadata": {},
          "execution_count": 13
        }
      ]
    },
    {
      "cell_type": "code",
      "metadata": {
        "id": "D2wOPvRM_E71"
      },
      "source": [
        "#converting sentences in words\n",
        "sentences = [nltk.word_tokenize(sentence) for sentence in sentences]"
      ],
      "execution_count": null,
      "outputs": []
    },
    {
      "cell_type": "code",
      "metadata": {
        "colab": {
          "base_uri": "https://localhost:8080/"
        },
        "id": "sWLt2tPF_GJr",
        "outputId": "11083306-81fb-42dc-f537-c6f688540e54"
      },
      "source": [
        "sentences"
      ],
      "execution_count": null,
      "outputs": [
        {
          "output_type": "execute_result",
          "data": {
            "text/plain": [
              "[['i', 'have', 'three', 'visions', 'for', 'india', '.'],\n",
              " ['in',\n",
              "  'years',\n",
              "  'of',\n",
              "  'our',\n",
              "  'history',\n",
              "  ',',\n",
              "  'people',\n",
              "  'from',\n",
              "  'all',\n",
              "  'over',\n",
              "  'the',\n",
              "  'world',\n",
              "  'have',\n",
              "  'come',\n",
              "  'and',\n",
              "  'invaded',\n",
              "  'us',\n",
              "  ',',\n",
              "  'captured',\n",
              "  'our',\n",
              "  'lands',\n",
              "  ',',\n",
              "  'conquered',\n",
              "  'our',\n",
              "  'minds',\n",
              "  '.'],\n",
              " ['from',\n",
              "  'alexander',\n",
              "  'onwards',\n",
              "  ',',\n",
              "  'the',\n",
              "  'greeks',\n",
              "  ',',\n",
              "  'the',\n",
              "  'turks',\n",
              "  ',',\n",
              "  'the',\n",
              "  'moguls',\n",
              "  ',',\n",
              "  'the',\n",
              "  'portuguese',\n",
              "  ',',\n",
              "  'the',\n",
              "  'british',\n",
              "  ',',\n",
              "  'the',\n",
              "  'french',\n",
              "  ',',\n",
              "  'the',\n",
              "  'dutch',\n",
              "  ',',\n",
              "  'all',\n",
              "  'of',\n",
              "  'them',\n",
              "  'came',\n",
              "  'and',\n",
              "  'looted',\n",
              "  'us',\n",
              "  ',',\n",
              "  'took',\n",
              "  'over',\n",
              "  'what',\n",
              "  'was',\n",
              "  'ours',\n",
              "  '.'],\n",
              " ['yet',\n",
              "  'we',\n",
              "  'have',\n",
              "  'not',\n",
              "  'done',\n",
              "  'this',\n",
              "  'to',\n",
              "  'any',\n",
              "  'other',\n",
              "  'nation',\n",
              "  '.'],\n",
              " ['we', 'have', 'not', 'conquered', 'anyone', '.'],\n",
              " ['we',\n",
              "  'have',\n",
              "  'not',\n",
              "  'grabbed',\n",
              "  'their',\n",
              "  'land',\n",
              "  ',',\n",
              "  'their',\n",
              "  'culture',\n",
              "  ',',\n",
              "  'their',\n",
              "  'history',\n",
              "  'and',\n",
              "  'tried',\n",
              "  'to',\n",
              "  'enforce',\n",
              "  'our',\n",
              "  'way',\n",
              "  'of',\n",
              "  'life',\n",
              "  'on',\n",
              "  'them',\n",
              "  '.'],\n",
              " ['why', '?'],\n",
              " ['because',\n",
              "  'we',\n",
              "  'respect',\n",
              "  'the',\n",
              "  'freedom',\n",
              "  'of',\n",
              "  'others.that',\n",
              "  'is',\n",
              "  'why',\n",
              "  'my',\n",
              "  'first',\n",
              "  'vision',\n",
              "  'is',\n",
              "  'that',\n",
              "  'of',\n",
              "  'freedom',\n",
              "  '.'],\n",
              " ['i',\n",
              "  'believe',\n",
              "  'that',\n",
              "  'india',\n",
              "  'got',\n",
              "  'its',\n",
              "  'first',\n",
              "  'vision',\n",
              "  'of',\n",
              "  'this',\n",
              "  'in',\n",
              "  ',',\n",
              "  'when',\n",
              "  'we',\n",
              "  'started',\n",
              "  'the',\n",
              "  'war',\n",
              "  'of',\n",
              "  'independence',\n",
              "  '.'],\n",
              " ['it',\n",
              "  'is',\n",
              "  'this',\n",
              "  'freedom',\n",
              "  'that',\n",
              "  'we',\n",
              "  'must',\n",
              "  'protect',\n",
              "  'and',\n",
              "  'nurture',\n",
              "  'and',\n",
              "  'build',\n",
              "  'on',\n",
              "  '.'],\n",
              " ['if',\n",
              "  'we',\n",
              "  'are',\n",
              "  'not',\n",
              "  'free',\n",
              "  ',',\n",
              "  'no',\n",
              "  'one',\n",
              "  'will',\n",
              "  'respect',\n",
              "  'us',\n",
              "  '.'],\n",
              " ['my', 'second', 'vision', 'for', 'india', '’', 's', 'development', '.'],\n",
              " ['for',\n",
              "  'fifty',\n",
              "  'years',\n",
              "  'we',\n",
              "  'have',\n",
              "  'been',\n",
              "  'a',\n",
              "  'developing',\n",
              "  'nation',\n",
              "  '.'],\n",
              " ['it',\n",
              "  'is',\n",
              "  'time',\n",
              "  'we',\n",
              "  'see',\n",
              "  'ourselves',\n",
              "  'as',\n",
              "  'a',\n",
              "  'developed',\n",
              "  'nation',\n",
              "  '.'],\n",
              " ['we',\n",
              "  'are',\n",
              "  'among',\n",
              "  'the',\n",
              "  'top',\n",
              "  'nations',\n",
              "  'of',\n",
              "  'the',\n",
              "  'world',\n",
              "  'in',\n",
              "  'terms',\n",
              "  'of',\n",
              "  'gdp',\n",
              "  '.'],\n",
              " ['we', 'have', 'a', 'percent', 'growth', 'rate', 'in', 'most', 'areas', '.'],\n",
              " ['our', 'poverty', 'levels', 'are', 'falling', '.'],\n",
              " ['our',\n",
              "  'achievements',\n",
              "  'are',\n",
              "  'being',\n",
              "  'globally',\n",
              "  'recognised',\n",
              "  'today',\n",
              "  '.'],\n",
              " ['yet',\n",
              "  'we',\n",
              "  'lack',\n",
              "  'the',\n",
              "  'self-confidence',\n",
              "  'to',\n",
              "  'see',\n",
              "  'ourselves',\n",
              "  'as',\n",
              "  'a',\n",
              "  'developed',\n",
              "  'nation',\n",
              "  ',',\n",
              "  'self-reliant',\n",
              "  'and',\n",
              "  'self-assured',\n",
              "  '.'],\n",
              " ['isn', '’', 't', 'this', 'incorrect', '?'],\n",
              " ['i', 'have', 'a', 'third', 'vision', '.'],\n",
              " ['india', 'must', 'stand', 'up', 'to', 'the', 'world', '.'],\n",
              " ['because',\n",
              "  'i',\n",
              "  'believe',\n",
              "  'that',\n",
              "  'unless',\n",
              "  'india',\n",
              "  'stands',\n",
              "  'up',\n",
              "  'to',\n",
              "  'the',\n",
              "  'world',\n",
              "  ',',\n",
              "  'no',\n",
              "  'one',\n",
              "  'will',\n",
              "  'respect',\n",
              "  'us',\n",
              "  '.'],\n",
              " ['only', 'strength', 'respects', 'strength', '.'],\n",
              " ['we',\n",
              "  'must',\n",
              "  'be',\n",
              "  'strong',\n",
              "  'not',\n",
              "  'only',\n",
              "  'as',\n",
              "  'a',\n",
              "  'military',\n",
              "  'power',\n",
              "  'but',\n",
              "  'also',\n",
              "  'as',\n",
              "  'an',\n",
              "  'economic',\n",
              "  'power',\n",
              "  '.'],\n",
              " ['both', 'must', 'go', 'hand-in-hand', '.'],\n",
              " ['my',\n",
              "  'good',\n",
              "  'fortune',\n",
              "  'was',\n",
              "  'to',\n",
              "  'have',\n",
              "  'worked',\n",
              "  'with',\n",
              "  'three',\n",
              "  'great',\n",
              "  'minds',\n",
              "  '.'],\n",
              " ['dr.', 'vikram', 'sarabhai', 'of', 'the', 'dept', '.'],\n",
              " ['of',\n",
              "  'space',\n",
              "  ',',\n",
              "  'professor',\n",
              "  'satish',\n",
              "  'dhawan',\n",
              "  ',',\n",
              "  'who',\n",
              "  'succeeded',\n",
              "  'him',\n",
              "  'and',\n",
              "  'dr.',\n",
              "  'brahm',\n",
              "  'prakash',\n",
              "  ',',\n",
              "  'father',\n",
              "  'of',\n",
              "  'nuclear',\n",
              "  'material',\n",
              "  '.'],\n",
              " ['i',\n",
              "  'was',\n",
              "  'lucky',\n",
              "  'to',\n",
              "  'have',\n",
              "  'worked',\n",
              "  'with',\n",
              "  'all',\n",
              "  'three',\n",
              "  'of',\n",
              "  'them',\n",
              "  'closely',\n",
              "  'and',\n",
              "  'consider',\n",
              "  'this',\n",
              "  'the',\n",
              "  'great',\n",
              "  'opportunity',\n",
              "  'of',\n",
              "  'my',\n",
              "  'life',\n",
              "  '.'],\n",
              " ['i', 'see', 'four', 'milestones', 'in', 'my', 'career']]"
            ]
          },
          "metadata": {},
          "execution_count": 29
        }
      ]
    },
    {
      "cell_type": "code",
      "metadata": {
        "id": "pNLR03IR-M2k"
      },
      "source": [
        "#removing stopwords from sentences\n",
        "for i in range(len(sentences)):\n",
        "  sentences[i] = [word for word in sentences[i] if word not in stopwords.words('english')]"
      ],
      "execution_count": null,
      "outputs": []
    },
    {
      "cell_type": "code",
      "metadata": {
        "colab": {
          "base_uri": "https://localhost:8080/"
        },
        "id": "kJjK0Zqc_tc3",
        "outputId": "6a7b89ad-9695-48db-e20d-06c9fb2a5c35"
      },
      "source": [
        "sentences"
      ],
      "execution_count": null,
      "outputs": [
        {
          "output_type": "execute_result",
          "data": {
            "text/plain": [
              "[['three', 'visions', 'india', '.'],\n",
              " ['years',\n",
              "  'history',\n",
              "  ',',\n",
              "  'people',\n",
              "  'world',\n",
              "  'come',\n",
              "  'invaded',\n",
              "  'us',\n",
              "  ',',\n",
              "  'captured',\n",
              "  'lands',\n",
              "  ',',\n",
              "  'conquered',\n",
              "  'minds',\n",
              "  '.'],\n",
              " ['alexander',\n",
              "  'onwards',\n",
              "  ',',\n",
              "  'greeks',\n",
              "  ',',\n",
              "  'turks',\n",
              "  ',',\n",
              "  'moguls',\n",
              "  ',',\n",
              "  'portuguese',\n",
              "  ',',\n",
              "  'british',\n",
              "  ',',\n",
              "  'french',\n",
              "  ',',\n",
              "  'dutch',\n",
              "  ',',\n",
              "  'came',\n",
              "  'looted',\n",
              "  'us',\n",
              "  ',',\n",
              "  'took',\n",
              "  '.'],\n",
              " ['yet', 'done', 'nation', '.'],\n",
              " ['conquered', 'anyone', '.'],\n",
              " ['grabbed',\n",
              "  'land',\n",
              "  ',',\n",
              "  'culture',\n",
              "  ',',\n",
              "  'history',\n",
              "  'tried',\n",
              "  'enforce',\n",
              "  'way',\n",
              "  'life',\n",
              "  '.'],\n",
              " ['?'],\n",
              " ['respect', 'freedom', 'others.that', 'first', 'vision', 'freedom', '.'],\n",
              " ['believe',\n",
              "  'india',\n",
              "  'got',\n",
              "  'first',\n",
              "  'vision',\n",
              "  ',',\n",
              "  'started',\n",
              "  'war',\n",
              "  'independence',\n",
              "  '.'],\n",
              " ['freedom', 'must', 'protect', 'nurture', 'build', '.'],\n",
              " ['free', ',', 'one', 'respect', 'us', '.'],\n",
              " ['second', 'vision', 'india', '’', 'development', '.'],\n",
              " ['fifty', 'years', 'developing', 'nation', '.'],\n",
              " ['time', 'see', 'developed', 'nation', '.'],\n",
              " ['among', 'top', 'nations', 'world', 'terms', 'gdp', '.'],\n",
              " ['percent', 'growth', 'rate', 'areas', '.'],\n",
              " ['poverty', 'levels', 'falling', '.'],\n",
              " ['achievements', 'globally', 'recognised', 'today', '.'],\n",
              " ['yet',\n",
              "  'lack',\n",
              "  'self-confidence',\n",
              "  'see',\n",
              "  'developed',\n",
              "  'nation',\n",
              "  ',',\n",
              "  'self-reliant',\n",
              "  'self-assured',\n",
              "  '.'],\n",
              " ['’', 'incorrect', '?'],\n",
              " ['third', 'vision', '.'],\n",
              " ['india', 'must', 'stand', 'world', '.'],\n",
              " ['believe',\n",
              "  'unless',\n",
              "  'india',\n",
              "  'stands',\n",
              "  'world',\n",
              "  ',',\n",
              "  'one',\n",
              "  'respect',\n",
              "  'us',\n",
              "  '.'],\n",
              " ['strength', 'respects', 'strength', '.'],\n",
              " ['must', 'strong', 'military', 'power', 'also', 'economic', 'power', '.'],\n",
              " ['must', 'go', 'hand-in-hand', '.'],\n",
              " ['good', 'fortune', 'worked', 'three', 'great', 'minds', '.'],\n",
              " ['dr.', 'vikram', 'sarabhai', 'dept', '.'],\n",
              " ['space',\n",
              "  ',',\n",
              "  'professor',\n",
              "  'satish',\n",
              "  'dhawan',\n",
              "  ',',\n",
              "  'succeeded',\n",
              "  'dr.',\n",
              "  'brahm',\n",
              "  'prakash',\n",
              "  ',',\n",
              "  'father',\n",
              "  'nuclear',\n",
              "  'material',\n",
              "  '.'],\n",
              " ['lucky',\n",
              "  'worked',\n",
              "  'three',\n",
              "  'closely',\n",
              "  'consider',\n",
              "  'great',\n",
              "  'opportunity',\n",
              "  'life',\n",
              "  '.'],\n",
              " ['see', 'four', 'milestones', 'career']]"
            ]
          },
          "metadata": {},
          "execution_count": 55
        }
      ]
    },
    {
      "cell_type": "code",
      "metadata": {
        "id": "Q5P3SW01A9U9"
      },
      "source": [
        "#Training the Word2Vec model\n",
        "model= Word2Vec(sentences=sentences, min_count=1)"
      ],
      "execution_count": null,
      "outputs": []
    },
    {
      "cell_type": "code",
      "metadata": {
        "colab": {
          "base_uri": "https://localhost:8080/"
        },
        "id": "AhxMflJDCIt0",
        "outputId": "de27742d-301e-4868-a803-7f87d02db887"
      },
      "source": [
        "model"
      ],
      "execution_count": null,
      "outputs": [
        {
          "output_type": "execute_result",
          "data": {
            "text/plain": [
              "<gensim.models.word2vec.Word2Vec at 0x7f6fbb3c2810>"
            ]
          },
          "metadata": {},
          "execution_count": 57
        }
      ]
    },
    {
      "cell_type": "code",
      "metadata": {
        "id": "DS3Snto0CQfD"
      },
      "source": [
        "#finding out the vocab found by Word2Vec model\n",
        "words= model.wv.vocab "
      ],
      "execution_count": null,
      "outputs": []
    },
    {
      "cell_type": "code",
      "metadata": {
        "colab": {
          "base_uri": "https://localhost:8080/"
        },
        "id": "zagnYEKhChcj",
        "outputId": "17966bc2-f7f9-4d39-bc25-b06dca1b0bea"
      },
      "source": [
        "words"
      ],
      "execution_count": null,
      "outputs": [
        {
          "output_type": "execute_result",
          "data": {
            "text/plain": [
              "{',': <gensim.models.keyedvectors.Vocab at 0x7f6fbb3cda10>,\n",
              " '.': <gensim.models.keyedvectors.Vocab at 0x7f6fbb3c2d10>,\n",
              " '?': <gensim.models.keyedvectors.Vocab at 0x7f6fbb35f510>,\n",
              " 'achievements': <gensim.models.keyedvectors.Vocab at 0x7f6fbb35fe50>,\n",
              " 'alexander': <gensim.models.keyedvectors.Vocab at 0x7f6fbb3cd950>,\n",
              " 'also': <gensim.models.keyedvectors.Vocab at 0x7f6fbb35c310>,\n",
              " 'among': <gensim.models.keyedvectors.Vocab at 0x7f6fbb35fb50>,\n",
              " 'anyone': <gensim.models.keyedvectors.Vocab at 0x7f6fbb35f310>,\n",
              " 'areas': <gensim.models.keyedvectors.Vocab at 0x7f6fbb35fd50>,\n",
              " 'believe': <gensim.models.keyedvectors.Vocab at 0x7f6fbb35f690>,\n",
              " 'brahm': <gensim.models.keyedvectors.Vocab at 0x7f6fbb3cded0>,\n",
              " 'british': <gensim.models.keyedvectors.Vocab at 0x7f6fbb35f0d0>,\n",
              " 'build': <gensim.models.keyedvectors.Vocab at 0x7f6fbb35f890>,\n",
              " 'came': <gensim.models.keyedvectors.Vocab at 0x7f6fbb35f190>,\n",
              " 'captured': <gensim.models.keyedvectors.Vocab at 0x7f6fbb3cdd50>,\n",
              " 'career': <gensim.models.keyedvectors.Vocab at 0x7f6fbb3cdc50>,\n",
              " 'closely': <gensim.models.keyedvectors.Vocab at 0x7f6fbb3cdb90>,\n",
              " 'come': <gensim.models.keyedvectors.Vocab at 0x7f6fbb3c2c10>,\n",
              " 'conquered': <gensim.models.keyedvectors.Vocab at 0x7f6fbb3cdf90>,\n",
              " 'consider': <gensim.models.keyedvectors.Vocab at 0x7f6fbb3cd8d0>,\n",
              " 'culture': <gensim.models.keyedvectors.Vocab at 0x7f6fbb35f3d0>,\n",
              " 'dept': <gensim.models.keyedvectors.Vocab at 0x7f6fbb3cdd90>,\n",
              " 'developed': <gensim.models.keyedvectors.Vocab at 0x7f6fbb35fb10>,\n",
              " 'developing': <gensim.models.keyedvectors.Vocab at 0x7f6fbb35fa50>,\n",
              " 'development': <gensim.models.keyedvectors.Vocab at 0x7f6fbb35f9d0>,\n",
              " 'dhawan': <gensim.models.keyedvectors.Vocab at 0x7f6fbb3cdf10>,\n",
              " 'done': <gensim.models.keyedvectors.Vocab at 0x7f6fbb35f290>,\n",
              " 'dr.': <gensim.models.keyedvectors.Vocab at 0x7f6fbe8b7210>,\n",
              " 'dutch': <gensim.models.keyedvectors.Vocab at 0x7f6fbb35f150>,\n",
              " 'economic': <gensim.models.keyedvectors.Vocab at 0x7f6fbb35c350>,\n",
              " 'enforce': <gensim.models.keyedvectors.Vocab at 0x7f6fbb35f450>,\n",
              " 'falling': <gensim.models.keyedvectors.Vocab at 0x7f6fbb35fe10>,\n",
              " 'father': <gensim.models.keyedvectors.Vocab at 0x7f6fbb3cdfd0>,\n",
              " 'fifty': <gensim.models.keyedvectors.Vocab at 0x7f6fbb35fa10>,\n",
              " 'first': <gensim.models.keyedvectors.Vocab at 0x7f6fbb35f610>,\n",
              " 'fortune': <gensim.models.keyedvectors.Vocab at 0x7f6fbb35c450>,\n",
              " 'four': <gensim.models.keyedvectors.Vocab at 0x7f6fbb3cdc10>,\n",
              " 'free': <gensim.models.keyedvectors.Vocab at 0x7f6fbb35f8d0>,\n",
              " 'freedom': <gensim.models.keyedvectors.Vocab at 0x7f6fbb35f590>,\n",
              " 'french': <gensim.models.keyedvectors.Vocab at 0x7f6fbb35f110>,\n",
              " 'gdp': <gensim.models.keyedvectors.Vocab at 0x7f6fbb35fc50>,\n",
              " 'globally': <gensim.models.keyedvectors.Vocab at 0x7f6fbb35fe90>,\n",
              " 'go': <gensim.models.keyedvectors.Vocab at 0x7f6fbb35c390>,\n",
              " 'good': <gensim.models.keyedvectors.Vocab at 0x7f6fbb35c410>,\n",
              " 'got': <gensim.models.keyedvectors.Vocab at 0x7f6fbb35f6d0>,\n",
              " 'grabbed': <gensim.models.keyedvectors.Vocab at 0x7f6fbb35f350>,\n",
              " 'great': <gensim.models.keyedvectors.Vocab at 0x7f6fbb35c4d0>,\n",
              " 'greeks': <gensim.models.keyedvectors.Vocab at 0x7f6fbb3cdb50>,\n",
              " 'growth': <gensim.models.keyedvectors.Vocab at 0x7f6fbb35fcd0>,\n",
              " 'hand-in-hand': <gensim.models.keyedvectors.Vocab at 0x7f6fbb35c3d0>,\n",
              " 'history': <gensim.models.keyedvectors.Vocab at 0x7f6fbb3c2ed0>,\n",
              " 'incorrect': <gensim.models.keyedvectors.Vocab at 0x7f6fbb35c090>,\n",
              " 'independence': <gensim.models.keyedvectors.Vocab at 0x7f6fbb35f790>,\n",
              " 'india': <gensim.models.keyedvectors.Vocab at 0x7f6fbb3c25d0>,\n",
              " 'invaded': <gensim.models.keyedvectors.Vocab at 0x7f6fbb3cde90>,\n",
              " 'lack': <gensim.models.keyedvectors.Vocab at 0x7f6fbb35ff50>,\n",
              " 'land': <gensim.models.keyedvectors.Vocab at 0x7f6fbb35f390>,\n",
              " 'lands': <gensim.models.keyedvectors.Vocab at 0x7f6fbb3cda50>,\n",
              " 'levels': <gensim.models.keyedvectors.Vocab at 0x7f6fbb35fdd0>,\n",
              " 'life': <gensim.models.keyedvectors.Vocab at 0x7f6fbb35f4d0>,\n",
              " 'looted': <gensim.models.keyedvectors.Vocab at 0x7f6fbb35f1d0>,\n",
              " 'lucky': <gensim.models.keyedvectors.Vocab at 0x7f6fbb3cdbd0>,\n",
              " 'material': <gensim.models.keyedvectors.Vocab at 0x7f6fbb3cdd10>,\n",
              " 'milestones': <gensim.models.keyedvectors.Vocab at 0x7f6fbb3cde50>,\n",
              " 'military': <gensim.models.keyedvectors.Vocab at 0x7f6fbb35c290>,\n",
              " 'minds': <gensim.models.keyedvectors.Vocab at 0x7f6fbb3cd890>,\n",
              " 'moguls': <gensim.models.keyedvectors.Vocab at 0x7f6fbb35f050>,\n",
              " 'must': <gensim.models.keyedvectors.Vocab at 0x7f6fbb35f7d0>,\n",
              " 'nation': <gensim.models.keyedvectors.Vocab at 0x7f6fbb35f2d0>,\n",
              " 'nations': <gensim.models.keyedvectors.Vocab at 0x7f6fbb35fbd0>,\n",
              " 'nuclear': <gensim.models.keyedvectors.Vocab at 0x7f6fbb3cdb10>,\n",
              " 'nurture': <gensim.models.keyedvectors.Vocab at 0x7f6fbb35f850>,\n",
              " 'one': <gensim.models.keyedvectors.Vocab at 0x7f6fbb35f910>,\n",
              " 'onwards': <gensim.models.keyedvectors.Vocab at 0x7f6fbb3cd7d0>,\n",
              " 'opportunity': <gensim.models.keyedvectors.Vocab at 0x7f6fbb3cd910>,\n",
              " 'others.that': <gensim.models.keyedvectors.Vocab at 0x7f6fbb35f5d0>,\n",
              " 'people': <gensim.models.keyedvectors.Vocab at 0x7f6fbb3cd490>,\n",
              " 'percent': <gensim.models.keyedvectors.Vocab at 0x7f6fbb35fc90>,\n",
              " 'portuguese': <gensim.models.keyedvectors.Vocab at 0x7f6fbb35f090>,\n",
              " 'poverty': <gensim.models.keyedvectors.Vocab at 0x7f6fbb35fd90>,\n",
              " 'power': <gensim.models.keyedvectors.Vocab at 0x7f6fbb35c2d0>,\n",
              " 'prakash': <gensim.models.keyedvectors.Vocab at 0x7f6fbb3cdad0>,\n",
              " 'professor': <gensim.models.keyedvectors.Vocab at 0x7f6fbb3cdf50>,\n",
              " 'protect': <gensim.models.keyedvectors.Vocab at 0x7f6fbb35f810>,\n",
              " 'rate': <gensim.models.keyedvectors.Vocab at 0x7f6fbb35fd10>,\n",
              " 'recognised': <gensim.models.keyedvectors.Vocab at 0x7f6fbb35fed0>,\n",
              " 'respect': <gensim.models.keyedvectors.Vocab at 0x7f6fbb35f550>,\n",
              " 'respects': <gensim.models.keyedvectors.Vocab at 0x7f6fbb35c210>,\n",
              " 'sarabhai': <gensim.models.keyedvectors.Vocab at 0x7f6fbb3cda90>,\n",
              " 'satish': <gensim.models.keyedvectors.Vocab at 0x7f6fbb3cd990>,\n",
              " 'second': <gensim.models.keyedvectors.Vocab at 0x7f6fbb35f950>,\n",
              " 'see': <gensim.models.keyedvectors.Vocab at 0x7f6fbb35fad0>,\n",
              " 'self-assured': <gensim.models.keyedvectors.Vocab at 0x7f6fbb35c050>,\n",
              " 'self-confidence': <gensim.models.keyedvectors.Vocab at 0x7f6fbb35ff90>,\n",
              " 'self-reliant': <gensim.models.keyedvectors.Vocab at 0x7f6fbb35ffd0>,\n",
              " 'space': <gensim.models.keyedvectors.Vocab at 0x7f6fbb3cd810>,\n",
              " 'stand': <gensim.models.keyedvectors.Vocab at 0x7f6fbb35c110>,\n",
              " 'stands': <gensim.models.keyedvectors.Vocab at 0x7f6fbb35c190>,\n",
              " 'started': <gensim.models.keyedvectors.Vocab at 0x7f6fbb35f710>,\n",
              " 'strength': <gensim.models.keyedvectors.Vocab at 0x7f6fbb35c1d0>,\n",
              " 'strong': <gensim.models.keyedvectors.Vocab at 0x7f6fbb35c250>,\n",
              " 'succeeded': <gensim.models.keyedvectors.Vocab at 0x7f6fbb3cdc90>,\n",
              " 'terms': <gensim.models.keyedvectors.Vocab at 0x7f6fbb35fc10>,\n",
              " 'third': <gensim.models.keyedvectors.Vocab at 0x7f6fbb35c0d0>,\n",
              " 'three': <gensim.models.keyedvectors.Vocab at 0x7f6fbb3c2910>,\n",
              " 'time': <gensim.models.keyedvectors.Vocab at 0x7f6fbb35fa90>,\n",
              " 'today': <gensim.models.keyedvectors.Vocab at 0x7f6fbb35ff10>,\n",
              " 'took': <gensim.models.keyedvectors.Vocab at 0x7f6fbb35f210>,\n",
              " 'top': <gensim.models.keyedvectors.Vocab at 0x7f6fbb35fb90>,\n",
              " 'tried': <gensim.models.keyedvectors.Vocab at 0x7f6fbb35f410>,\n",
              " 'turks': <gensim.models.keyedvectors.Vocab at 0x7f6fbb3cd9d0>,\n",
              " 'unless': <gensim.models.keyedvectors.Vocab at 0x7f6fbb35c150>,\n",
              " 'us': <gensim.models.keyedvectors.Vocab at 0x7f6fbb3cde10>,\n",
              " 'vikram': <gensim.models.keyedvectors.Vocab at 0x7f6fbb3cddd0>,\n",
              " 'vision': <gensim.models.keyedvectors.Vocab at 0x7f6fbb35f650>,\n",
              " 'visions': <gensim.models.keyedvectors.Vocab at 0x7f6fbb3c26d0>,\n",
              " 'war': <gensim.models.keyedvectors.Vocab at 0x7f6fbb35f750>,\n",
              " 'way': <gensim.models.keyedvectors.Vocab at 0x7f6fbb35f490>,\n",
              " 'worked': <gensim.models.keyedvectors.Vocab at 0x7f6fbb35c490>,\n",
              " 'world': <gensim.models.keyedvectors.Vocab at 0x7f6fbb3c28d0>,\n",
              " 'years': <gensim.models.keyedvectors.Vocab at 0x7f6fbb3c2b50>,\n",
              " 'yet': <gensim.models.keyedvectors.Vocab at 0x7f6fbb35f250>,\n",
              " '’': <gensim.models.keyedvectors.Vocab at 0x7f6fbb35f990>}"
            ]
          },
          "metadata": {},
          "execution_count": 59
        }
      ]
    },
    {
      "cell_type": "code",
      "metadata": {
        "id": "83W4RmSBCiEo"
      },
      "source": [
        "#finding word vector for the word 'war'\n",
        "vector= model.wv['war']"
      ],
      "execution_count": null,
      "outputs": []
    },
    {
      "cell_type": "code",
      "metadata": {
        "colab": {
          "base_uri": "https://localhost:8080/"
        },
        "id": "XzERocZ8C-QL",
        "outputId": "d8e31ba6-4e78-4ee8-deca-00ef15a5f1cf"
      },
      "source": [
        "vector"
      ],
      "execution_count": null,
      "outputs": [
        {
          "output_type": "execute_result",
          "data": {
            "text/plain": [
              "array([ 3.2787779e-04,  6.3026161e-04,  2.3379029e-05,  3.8489783e-03,\n",
              "        2.9168383e-05,  9.8223065e-04, -2.6268412e-03, -2.9820073e-03,\n",
              "        1.8152937e-04,  3.2666735e-03,  2.9089593e-03, -1.2963140e-05,\n",
              "        3.1705068e-03,  1.2581176e-03,  9.3882903e-04,  1.9695235e-03,\n",
              "       -4.7890730e-03, -4.4432241e-03,  3.5420996e-03, -4.6792389e-03,\n",
              "        7.2726543e-04,  4.2796149e-03, -4.4498569e-03,  1.4080933e-03,\n",
              "        1.9406999e-03,  1.9125047e-03, -2.2893841e-03,  4.0473597e-04,\n",
              "        2.7909798e-03, -2.3835481e-03,  4.3761502e-03,  3.7646943e-03,\n",
              "        1.9016172e-03, -1.9529545e-03, -2.7951170e-03,  3.8624066e-04,\n",
              "        4.1549569e-03,  1.5072377e-03,  2.5480392e-03,  3.5332618e-04,\n",
              "       -9.0968999e-04,  2.7186146e-03,  3.1590622e-03,  2.4728556e-04,\n",
              "        1.3930434e-03,  3.1132002e-03, -3.5643757e-03,  4.6091871e-03,\n",
              "       -2.7437794e-03,  1.7289077e-04,  2.9694960e-03,  4.4633797e-03,\n",
              "       -2.2847169e-04, -4.6637445e-03, -4.3635792e-03,  9.9758618e-04,\n",
              "       -9.8938646e-04,  3.9038491e-03, -1.7436980e-03,  2.3089375e-03,\n",
              "        4.2873169e-03,  7.1694382e-04,  1.8149456e-03, -4.0259068e-03,\n",
              "        4.9095959e-03,  3.2587601e-03, -1.2847208e-03,  2.8039439e-04,\n",
              "        4.5711449e-03, -2.7966010e-03, -2.8191842e-03, -6.2061031e-04,\n",
              "       -3.3299185e-04,  2.8128242e-03, -5.1077345e-04,  1.3321036e-03,\n",
              "        4.4853166e-03, -1.0777554e-03, -2.8263079e-03, -2.6779084e-03,\n",
              "       -3.2177358e-03,  9.3285786e-04, -7.6611561e-04, -4.1531646e-03,\n",
              "       -3.7877755e-03,  2.7911896e-03, -3.9401636e-03, -1.5611134e-03,\n",
              "       -2.3916848e-03, -3.5422877e-03,  2.4046295e-03,  3.2302763e-03,\n",
              "        4.3222329e-04, -9.9308789e-04,  4.0721218e-03, -1.5474812e-03,\n",
              "       -4.2127157e-03,  3.2662393e-03, -4.3160063e-03, -4.7865105e-03],\n",
              "      dtype=float32)"
            ]
          },
          "metadata": {},
          "execution_count": 61
        }
      ]
    },
    {
      "cell_type": "code",
      "metadata": {
        "colab": {
          "base_uri": "https://localhost:8080/"
        },
        "id": "qZRWNsVwC-3G",
        "outputId": "e971f907-ee11-41ad-cf88-ae0bcaba02a3"
      },
      "source": [
        "len(vector)  #number of dimensions"
      ],
      "execution_count": null,
      "outputs": [
        {
          "output_type": "execute_result",
          "data": {
            "text/plain": [
              "100"
            ]
          },
          "metadata": {},
          "execution_count": 62
        }
      ]
    },
    {
      "cell_type": "code",
      "metadata": {
        "colab": {
          "base_uri": "https://localhost:8080/"
        },
        "id": "wjjJSxbvDB6H",
        "outputId": "81d565f6-84b1-4e40-9247-7001f775b960"
      },
      "source": [
        "#finding out most similar word for 'war'\n",
        "model.wv.most_similar('war')"
      ],
      "execution_count": null,
      "outputs": [
        {
          "output_type": "execute_result",
          "data": {
            "text/plain": [
              "[('third', 0.2580640912055969),\n",
              " ('culture', 0.2146923989057541),\n",
              " ('years', 0.19764401018619537),\n",
              " ('developed', 0.1954638957977295),\n",
              " ('lucky', 0.181976780295372),\n",
              " ('come', 0.17427177727222443),\n",
              " ('strength', 0.17155906558036804),\n",
              " ('nation', 0.168270543217659),\n",
              " ('dept', 0.16819420456886292),\n",
              " ('satish', 0.16715379059314728)]"
            ]
          },
          "metadata": {},
          "execution_count": 63
        }
      ]
    },
    {
      "cell_type": "code",
      "metadata": {
        "colab": {
          "base_uri": "https://localhost:8080/"
        },
        "id": "TmPIn-rjDdu2",
        "outputId": "8abe04eb-5d4e-498c-885d-07c65ad4d4f5"
      },
      "source": [
        "#finding out most similar word for 'nation'\n",
        "model.wv.most_similar('nation')"
      ],
      "execution_count": null,
      "outputs": [
        {
          "output_type": "execute_result",
          "data": {
            "text/plain": [
              "[('protect', 0.27634936571121216),\n",
              " ('areas', 0.2346513867378235),\n",
              " ('hand-in-hand', 0.21750879287719727),\n",
              " ('material', 0.21712663769721985),\n",
              " ('rate', 0.19983720779418945),\n",
              " ('satish', 0.18758893013000488),\n",
              " ('third', 0.17678549885749817),\n",
              " ('freedom', 0.1684480607509613),\n",
              " ('war', 0.168270543217659),\n",
              " ('go', 0.1650812178850174)]"
            ]
          },
          "metadata": {},
          "execution_count": 64
        }
      ]
    }
  ]
}