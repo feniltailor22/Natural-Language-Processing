{
  "nbformat": 4,
  "nbformat_minor": 0,
  "metadata": {
    "colab": {
      "name": "Basic of Bert Implementation.ipynb",
      "provenance": [],
      "authorship_tag": "ABX9TyOUQAsdRVPDL3/UQxH7lnr6",
      "include_colab_link": true
    },
    "kernelspec": {
      "name": "python3",
      "display_name": "Python 3"
    },
    "language_info": {
      "name": "python"
    }
  },
  "cells": [
    {
      "cell_type": "markdown",
      "metadata": {
        "id": "view-in-github",
        "colab_type": "text"
      },
      "source": [
        "<a href=\"https://colab.research.google.com/github/feniltailor22/Natural-Language-Processing/blob/main/Basic_of_Bert_Implementation.ipynb\" target=\"_parent\"><img src=\"https://colab.research.google.com/assets/colab-badge.svg\" alt=\"Open In Colab\"/></a>"
      ]
    },
    {
      "cell_type": "code",
      "execution_count": null,
      "metadata": {
        "colab": {
          "base_uri": "https://localhost:8080/"
        },
        "id": "EDmgHaZ-qDgV",
        "outputId": "7c239e1d-4eeb-4e58-c02b-2ba23ffb6344"
      },
      "outputs": [
        {
          "output_type": "stream",
          "name": "stdout",
          "text": [
            "Requirement already satisfied: tensorflow_text in /usr/local/lib/python3.7/dist-packages (2.7.3)\n",
            "Requirement already satisfied: tensorflow-hub>=0.8.0 in /usr/local/lib/python3.7/dist-packages (from tensorflow_text) (0.12.0)\n",
            "Requirement already satisfied: tensorflow<2.8,>=2.7.0 in /usr/local/lib/python3.7/dist-packages (from tensorflow_text) (2.7.0)\n",
            "Requirement already satisfied: termcolor>=1.1.0 in /usr/local/lib/python3.7/dist-packages (from tensorflow<2.8,>=2.7.0->tensorflow_text) (1.1.0)\n",
            "Requirement already satisfied: google-pasta>=0.1.1 in /usr/local/lib/python3.7/dist-packages (from tensorflow<2.8,>=2.7.0->tensorflow_text) (0.2.0)\n",
            "Requirement already satisfied: numpy>=1.14.5 in /usr/local/lib/python3.7/dist-packages (from tensorflow<2.8,>=2.7.0->tensorflow_text) (1.19.5)\n",
            "Requirement already satisfied: astunparse>=1.6.0 in /usr/local/lib/python3.7/dist-packages (from tensorflow<2.8,>=2.7.0->tensorflow_text) (1.6.3)\n",
            "Requirement already satisfied: absl-py>=0.4.0 in /usr/local/lib/python3.7/dist-packages (from tensorflow<2.8,>=2.7.0->tensorflow_text) (0.12.0)\n",
            "Requirement already satisfied: tensorflow-io-gcs-filesystem>=0.21.0 in /usr/local/lib/python3.7/dist-packages (from tensorflow<2.8,>=2.7.0->tensorflow_text) (0.22.0)\n",
            "Requirement already satisfied: six>=1.12.0 in /usr/local/lib/python3.7/dist-packages (from tensorflow<2.8,>=2.7.0->tensorflow_text) (1.15.0)\n",
            "Requirement already satisfied: keras-preprocessing>=1.1.1 in /usr/local/lib/python3.7/dist-packages (from tensorflow<2.8,>=2.7.0->tensorflow_text) (1.1.2)\n",
            "Requirement already satisfied: flatbuffers<3.0,>=1.12 in /usr/local/lib/python3.7/dist-packages (from tensorflow<2.8,>=2.7.0->tensorflow_text) (2.0)\n",
            "Requirement already satisfied: opt-einsum>=2.3.2 in /usr/local/lib/python3.7/dist-packages (from tensorflow<2.8,>=2.7.0->tensorflow_text) (3.3.0)\n",
            "Requirement already satisfied: libclang>=9.0.1 in /usr/local/lib/python3.7/dist-packages (from tensorflow<2.8,>=2.7.0->tensorflow_text) (12.0.0)\n",
            "Requirement already satisfied: typing-extensions>=3.6.6 in /usr/local/lib/python3.7/dist-packages (from tensorflow<2.8,>=2.7.0->tensorflow_text) (3.10.0.2)\n",
            "Requirement already satisfied: wheel<1.0,>=0.32.0 in /usr/local/lib/python3.7/dist-packages (from tensorflow<2.8,>=2.7.0->tensorflow_text) (0.37.0)\n",
            "Requirement already satisfied: protobuf>=3.9.2 in /usr/local/lib/python3.7/dist-packages (from tensorflow<2.8,>=2.7.0->tensorflow_text) (3.17.3)\n",
            "Requirement already satisfied: grpcio<2.0,>=1.24.3 in /usr/local/lib/python3.7/dist-packages (from tensorflow<2.8,>=2.7.0->tensorflow_text) (1.42.0)\n",
            "Requirement already satisfied: h5py>=2.9.0 in /usr/local/lib/python3.7/dist-packages (from tensorflow<2.8,>=2.7.0->tensorflow_text) (3.1.0)\n",
            "Requirement already satisfied: gast<0.5.0,>=0.2.1 in /usr/local/lib/python3.7/dist-packages (from tensorflow<2.8,>=2.7.0->tensorflow_text) (0.4.0)\n",
            "Requirement already satisfied: tensorboard~=2.6 in /usr/local/lib/python3.7/dist-packages (from tensorflow<2.8,>=2.7.0->tensorflow_text) (2.7.0)\n",
            "Requirement already satisfied: keras<2.8,>=2.7.0rc0 in /usr/local/lib/python3.7/dist-packages (from tensorflow<2.8,>=2.7.0->tensorflow_text) (2.7.0)\n",
            "Requirement already satisfied: wrapt>=1.11.0 in /usr/local/lib/python3.7/dist-packages (from tensorflow<2.8,>=2.7.0->tensorflow_text) (1.13.3)\n",
            "Requirement already satisfied: tensorflow-estimator<2.8,~=2.7.0rc0 in /usr/local/lib/python3.7/dist-packages (from tensorflow<2.8,>=2.7.0->tensorflow_text) (2.7.0)\n",
            "Requirement already satisfied: cached-property in /usr/local/lib/python3.7/dist-packages (from h5py>=2.9.0->tensorflow<2.8,>=2.7.0->tensorflow_text) (1.5.2)\n",
            "Requirement already satisfied: requests<3,>=2.21.0 in /usr/local/lib/python3.7/dist-packages (from tensorboard~=2.6->tensorflow<2.8,>=2.7.0->tensorflow_text) (2.23.0)\n",
            "Requirement already satisfied: tensorboard-data-server<0.7.0,>=0.6.0 in /usr/local/lib/python3.7/dist-packages (from tensorboard~=2.6->tensorflow<2.8,>=2.7.0->tensorflow_text) (0.6.1)\n",
            "Requirement already satisfied: tensorboard-plugin-wit>=1.6.0 in /usr/local/lib/python3.7/dist-packages (from tensorboard~=2.6->tensorflow<2.8,>=2.7.0->tensorflow_text) (1.8.0)\n",
            "Requirement already satisfied: google-auth<3,>=1.6.3 in /usr/local/lib/python3.7/dist-packages (from tensorboard~=2.6->tensorflow<2.8,>=2.7.0->tensorflow_text) (1.35.0)\n",
            "Requirement already satisfied: google-auth-oauthlib<0.5,>=0.4.1 in /usr/local/lib/python3.7/dist-packages (from tensorboard~=2.6->tensorflow<2.8,>=2.7.0->tensorflow_text) (0.4.6)\n",
            "Requirement already satisfied: setuptools>=41.0.0 in /usr/local/lib/python3.7/dist-packages (from tensorboard~=2.6->tensorflow<2.8,>=2.7.0->tensorflow_text) (57.4.0)\n",
            "Requirement already satisfied: werkzeug>=0.11.15 in /usr/local/lib/python3.7/dist-packages (from tensorboard~=2.6->tensorflow<2.8,>=2.7.0->tensorflow_text) (1.0.1)\n",
            "Requirement already satisfied: markdown>=2.6.8 in /usr/local/lib/python3.7/dist-packages (from tensorboard~=2.6->tensorflow<2.8,>=2.7.0->tensorflow_text) (3.3.6)\n",
            "Requirement already satisfied: rsa<5,>=3.1.4 in /usr/local/lib/python3.7/dist-packages (from google-auth<3,>=1.6.3->tensorboard~=2.6->tensorflow<2.8,>=2.7.0->tensorflow_text) (4.8)\n",
            "Requirement already satisfied: cachetools<5.0,>=2.0.0 in /usr/local/lib/python3.7/dist-packages (from google-auth<3,>=1.6.3->tensorboard~=2.6->tensorflow<2.8,>=2.7.0->tensorflow_text) (4.2.4)\n",
            "Requirement already satisfied: pyasn1-modules>=0.2.1 in /usr/local/lib/python3.7/dist-packages (from google-auth<3,>=1.6.3->tensorboard~=2.6->tensorflow<2.8,>=2.7.0->tensorflow_text) (0.2.8)\n",
            "Requirement already satisfied: requests-oauthlib>=0.7.0 in /usr/local/lib/python3.7/dist-packages (from google-auth-oauthlib<0.5,>=0.4.1->tensorboard~=2.6->tensorflow<2.8,>=2.7.0->tensorflow_text) (1.3.0)\n",
            "Requirement already satisfied: importlib-metadata>=4.4 in /usr/local/lib/python3.7/dist-packages (from markdown>=2.6.8->tensorboard~=2.6->tensorflow<2.8,>=2.7.0->tensorflow_text) (4.8.2)\n",
            "Requirement already satisfied: zipp>=0.5 in /usr/local/lib/python3.7/dist-packages (from importlib-metadata>=4.4->markdown>=2.6.8->tensorboard~=2.6->tensorflow<2.8,>=2.7.0->tensorflow_text) (3.6.0)\n",
            "Requirement already satisfied: pyasn1<0.5.0,>=0.4.6 in /usr/local/lib/python3.7/dist-packages (from pyasn1-modules>=0.2.1->google-auth<3,>=1.6.3->tensorboard~=2.6->tensorflow<2.8,>=2.7.0->tensorflow_text) (0.4.8)\n",
            "Requirement already satisfied: chardet<4,>=3.0.2 in /usr/local/lib/python3.7/dist-packages (from requests<3,>=2.21.0->tensorboard~=2.6->tensorflow<2.8,>=2.7.0->tensorflow_text) (3.0.4)\n",
            "Requirement already satisfied: idna<3,>=2.5 in /usr/local/lib/python3.7/dist-packages (from requests<3,>=2.21.0->tensorboard~=2.6->tensorflow<2.8,>=2.7.0->tensorflow_text) (2.10)\n",
            "Requirement already satisfied: urllib3!=1.25.0,!=1.25.1,<1.26,>=1.21.1 in /usr/local/lib/python3.7/dist-packages (from requests<3,>=2.21.0->tensorboard~=2.6->tensorflow<2.8,>=2.7.0->tensorflow_text) (1.24.3)\n",
            "Requirement already satisfied: certifi>=2017.4.17 in /usr/local/lib/python3.7/dist-packages (from requests<3,>=2.21.0->tensorboard~=2.6->tensorflow<2.8,>=2.7.0->tensorflow_text) (2021.10.8)\n",
            "Requirement already satisfied: oauthlib>=3.0.0 in /usr/local/lib/python3.7/dist-packages (from requests-oauthlib>=0.7.0->google-auth-oauthlib<0.5,>=0.4.1->tensorboard~=2.6->tensorflow<2.8,>=2.7.0->tensorflow_text) (3.1.1)\n"
          ]
        }
      ],
      "source": [
        "import tensorflow_hub as hub\n",
        "import tensorflow as tf\n",
        "\n",
        "!pip install tensorflow_text\n",
        "import tensorflow_text as tf_text"
      ]
    },
    {
      "cell_type": "code",
      "source": [
        "preprocess_url= 'https://tfhub.dev/tensorflow/bert_en_uncased_preprocess/3'\n",
        "encoder_url= 'https://tfhub.dev/tensorflow/bert_en_uncased_L-12_H-768_A-12/4'"
      ],
      "metadata": {
        "id": "lGiKrIMlqcne"
      },
      "execution_count": null,
      "outputs": []
    },
    {
      "cell_type": "code",
      "source": [
        "#creating object for preprocessing the text\n",
        "bert_preprocess_model= hub.KerasLayer(preprocess_url)"
      ],
      "metadata": {
        "id": "jIya53eVr7rj"
      },
      "execution_count": null,
      "outputs": []
    },
    {
      "cell_type": "code",
      "source": [
        "#testing the preprocess_model \n",
        "text_test = ['nice movie indeed','I love python programming']\n",
        "text_preprocessed = bert_preprocess_model(text_test)\n",
        "text_preprocessed.keys()"
      ],
      "metadata": {
        "colab": {
          "base_uri": "https://localhost:8080/"
        },
        "id": "6kd5-l2osfSm",
        "outputId": "e753ae87-8957-4245-8e77-6d971f2a0f56"
      },
      "execution_count": null,
      "outputs": [
        {
          "output_type": "execute_result",
          "data": {
            "text/plain": [
              "dict_keys(['input_word_ids', 'input_mask', 'input_type_ids'])"
            ]
          },
          "metadata": {},
          "execution_count": 8
        }
      ]
    },
    {
      "cell_type": "code",
      "source": [
        "text_preprocessed['input_mask']\n",
        "#CLS nice movie indeed SEP, CLS I love python programming SEP"
      ],
      "metadata": {
        "colab": {
          "base_uri": "https://localhost:8080/"
        },
        "id": "eP8l8GWIsxF3",
        "outputId": "46bf5752-80f1-4f06-f896-f022f9dda6ce"
      },
      "execution_count": null,
      "outputs": [
        {
          "output_type": "execute_result",
          "data": {
            "text/plain": [
              "<tf.Tensor: shape=(2, 128), dtype=int32, numpy=\n",
              "array([[1, 1, 1, 1, 1, 0, 0, 0, 0, 0, 0, 0, 0, 0, 0, 0, 0, 0, 0, 0, 0, 0,\n",
              "        0, 0, 0, 0, 0, 0, 0, 0, 0, 0, 0, 0, 0, 0, 0, 0, 0, 0, 0, 0, 0, 0,\n",
              "        0, 0, 0, 0, 0, 0, 0, 0, 0, 0, 0, 0, 0, 0, 0, 0, 0, 0, 0, 0, 0, 0,\n",
              "        0, 0, 0, 0, 0, 0, 0, 0, 0, 0, 0, 0, 0, 0, 0, 0, 0, 0, 0, 0, 0, 0,\n",
              "        0, 0, 0, 0, 0, 0, 0, 0, 0, 0, 0, 0, 0, 0, 0, 0, 0, 0, 0, 0, 0, 0,\n",
              "        0, 0, 0, 0, 0, 0, 0, 0, 0, 0, 0, 0, 0, 0, 0, 0, 0, 0],\n",
              "       [1, 1, 1, 1, 1, 1, 0, 0, 0, 0, 0, 0, 0, 0, 0, 0, 0, 0, 0, 0, 0, 0,\n",
              "        0, 0, 0, 0, 0, 0, 0, 0, 0, 0, 0, 0, 0, 0, 0, 0, 0, 0, 0, 0, 0, 0,\n",
              "        0, 0, 0, 0, 0, 0, 0, 0, 0, 0, 0, 0, 0, 0, 0, 0, 0, 0, 0, 0, 0, 0,\n",
              "        0, 0, 0, 0, 0, 0, 0, 0, 0, 0, 0, 0, 0, 0, 0, 0, 0, 0, 0, 0, 0, 0,\n",
              "        0, 0, 0, 0, 0, 0, 0, 0, 0, 0, 0, 0, 0, 0, 0, 0, 0, 0, 0, 0, 0, 0,\n",
              "        0, 0, 0, 0, 0, 0, 0, 0, 0, 0, 0, 0, 0, 0, 0, 0, 0, 0]],\n",
              "      dtype=int32)>"
            ]
          },
          "metadata": {},
          "execution_count": 9
        }
      ]
    },
    {
      "cell_type": "code",
      "source": [
        "#one_hot representation for each word\n",
        "text_preprocessed['input_word_ids']\n",
        "#CLS nice movie indeed SEP, CLS I love python programming SEP"
      ],
      "metadata": {
        "colab": {
          "base_uri": "https://localhost:8080/"
        },
        "id": "vvMi7kxfs3Nq",
        "outputId": "6af2aed2-d226-4cf3-9fb7-230c2a0863d8"
      },
      "execution_count": null,
      "outputs": [
        {
          "output_type": "execute_result",
          "data": {
            "text/plain": [
              "<tf.Tensor: shape=(2, 128), dtype=int32, numpy=\n",
              "array([[  101,  3835,  3185,  5262,   102,     0,     0,     0,     0,\n",
              "            0,     0,     0,     0,     0,     0,     0,     0,     0,\n",
              "            0,     0,     0,     0,     0,     0,     0,     0,     0,\n",
              "            0,     0,     0,     0,     0,     0,     0,     0,     0,\n",
              "            0,     0,     0,     0,     0,     0,     0,     0,     0,\n",
              "            0,     0,     0,     0,     0,     0,     0,     0,     0,\n",
              "            0,     0,     0,     0,     0,     0,     0,     0,     0,\n",
              "            0,     0,     0,     0,     0,     0,     0,     0,     0,\n",
              "            0,     0,     0,     0,     0,     0,     0,     0,     0,\n",
              "            0,     0,     0,     0,     0,     0,     0,     0,     0,\n",
              "            0,     0,     0,     0,     0,     0,     0,     0,     0,\n",
              "            0,     0,     0,     0,     0,     0,     0,     0,     0,\n",
              "            0,     0,     0,     0,     0,     0,     0,     0,     0,\n",
              "            0,     0,     0,     0,     0,     0,     0,     0,     0,\n",
              "            0,     0],\n",
              "       [  101,  1045,  2293, 18750,  4730,   102,     0,     0,     0,\n",
              "            0,     0,     0,     0,     0,     0,     0,     0,     0,\n",
              "            0,     0,     0,     0,     0,     0,     0,     0,     0,\n",
              "            0,     0,     0,     0,     0,     0,     0,     0,     0,\n",
              "            0,     0,     0,     0,     0,     0,     0,     0,     0,\n",
              "            0,     0,     0,     0,     0,     0,     0,     0,     0,\n",
              "            0,     0,     0,     0,     0,     0,     0,     0,     0,\n",
              "            0,     0,     0,     0,     0,     0,     0,     0,     0,\n",
              "            0,     0,     0,     0,     0,     0,     0,     0,     0,\n",
              "            0,     0,     0,     0,     0,     0,     0,     0,     0,\n",
              "            0,     0,     0,     0,     0,     0,     0,     0,     0,\n",
              "            0,     0,     0,     0,     0,     0,     0,     0,     0,\n",
              "            0,     0,     0,     0,     0,     0,     0,     0,     0,\n",
              "            0,     0,     0,     0,     0,     0,     0,     0,     0,\n",
              "            0,     0]], dtype=int32)>"
            ]
          },
          "metadata": {},
          "execution_count": 11
        }
      ]
    },
    {
      "cell_type": "code",
      "source": [
        "#creating bert encoder model\n",
        "bert_model= hub.KerasLayer(encoder_url)"
      ],
      "metadata": {
        "id": "4ZvKXYovtzlM"
      },
      "execution_count": null,
      "outputs": []
    },
    {
      "cell_type": "code",
      "source": [
        "bert_results= bert_model(text_preprocessed)\n",
        "bert_results.keys()"
      ],
      "metadata": {
        "colab": {
          "base_uri": "https://localhost:8080/"
        },
        "id": "uhcHxAT4uld5",
        "outputId": "d4accf0c-0c01-437d-fa11-e0312a34850d"
      },
      "execution_count": null,
      "outputs": [
        {
          "output_type": "execute_result",
          "data": {
            "text/plain": [
              "dict_keys(['sequence_output', 'encoder_outputs', 'pooled_output', 'default'])"
            ]
          },
          "metadata": {},
          "execution_count": 14
        }
      ]
    },
    {
      "cell_type": "code",
      "source": [
        "#word embedding for entire sentence \n",
        "bert_results['pooled_output']\n",
        "\n",
        "#768 total hidden units "
      ],
      "metadata": {
        "colab": {
          "base_uri": "https://localhost:8080/"
        },
        "id": "TSgT-hmvuxFb",
        "outputId": "aec55ecc-3710-4ce5-af78-4e9d9a186e16"
      },
      "execution_count": null,
      "outputs": [
        {
          "output_type": "execute_result",
          "data": {
            "text/plain": [
              "<tf.Tensor: shape=(2, 768), dtype=float32, numpy=\n",
              "array([[-0.7917739 , -0.214119  ,  0.4976958 , ...,  0.24465244,\n",
              "        -0.4733446 ,  0.81758684],\n",
              "       [-0.9171231 , -0.47935176, -0.7865694 , ..., -0.6175171 ,\n",
              "        -0.7102687 ,  0.921843  ]], dtype=float32)>"
            ]
          },
          "metadata": {},
          "execution_count": 15
        }
      ]
    },
    {
      "cell_type": "code",
      "source": [
        "#individual word embedding vectors\n",
        "bert_results['sequence_output']\n",
        "\n",
        "#nice movie indeed 0 0 0 0 0 <---- 128 total words with padding\n",
        "#768 hidden units in each encoder (total 12 encoders in BERT base model)"
      ],
      "metadata": {
        "colab": {
          "base_uri": "https://localhost:8080/"
        },
        "id": "rcDP6Ny7vTOd",
        "outputId": "f850d86c-2a9d-4d78-9ae4-6485d4c8ee36"
      },
      "execution_count": null,
      "outputs": [
        {
          "output_type": "execute_result",
          "data": {
            "text/plain": [
              "<tf.Tensor: shape=(2, 128, 768), dtype=float32, numpy=\n",
              "array([[[ 0.07292052,  0.08567816,  0.14476845, ..., -0.09677083,\n",
              "          0.08722137,  0.07711115],\n",
              "        [ 0.17839417, -0.19006072,  0.50349414, ..., -0.05869839,\n",
              "          0.32717133, -0.1557851 ],\n",
              "        [ 0.18701468, -0.4338877 , -0.4887512 , ..., -0.15502769,\n",
              "          0.00145123, -0.24470976],\n",
              "        ...,\n",
              "        [ 0.12083095,  0.12884252,  0.46453527, ...,  0.07375526,\n",
              "          0.17441928,  0.16522127],\n",
              "        [ 0.07967874, -0.01190651,  0.50225425, ...,  0.13777722,\n",
              "          0.210022  ,  0.00624609],\n",
              "        [-0.07212679, -0.28303468,  0.59033394, ...,  0.47551876,\n",
              "          0.16668491, -0.08920345]],\n",
              "\n",
              "       [[-0.07900596,  0.3633513 , -0.21101598, ..., -0.17183745,\n",
              "          0.16299766,  0.672427  ],\n",
              "        [ 0.27883482,  0.43716294, -0.35764748, ..., -0.04463664,\n",
              "          0.38315204,  0.5887989 ],\n",
              "        [ 1.2037666 ,  1.072702  ,  0.48408726, ...,  0.24920994,\n",
              "          0.40730894,  0.40481845],\n",
              "        ...,\n",
              "        [ 0.08630016,  0.19353852,  0.47540087, ...,  0.18880205,\n",
              "         -0.06474119,  0.3131861 ],\n",
              "        [ 0.15887055,  0.28572714,  0.37340796, ...,  0.09309132,\n",
              "         -0.04969551,  0.38761175],\n",
              "        [-0.08079863, -0.09572858,  0.2680977 , ...,  0.13979623,\n",
              "         -0.06315842,  0.27288345]]], dtype=float32)>"
            ]
          },
          "metadata": {},
          "execution_count": 16
        }
      ]
    },
    {
      "cell_type": "code",
      "source": [
        "len(bert_results['encoder_outputs'])\n",
        "\n",
        "#total 12 encoders in BERT base model"
      ],
      "metadata": {
        "id": "rdNjn8Zmvlmo",
        "colab": {
          "base_uri": "https://localhost:8080/"
        },
        "outputId": "7fc0d8f8-b122-4b0f-8cc7-b149bfd0c893"
      },
      "execution_count": 17,
      "outputs": [
        {
          "output_type": "execute_result",
          "data": {
            "text/plain": [
              "12"
            ]
          },
          "metadata": {},
          "execution_count": 17
        }
      ]
    },
    {
      "cell_type": "code",
      "source": [
        "bert_results['encoder_outputs']"
      ],
      "metadata": {
        "colab": {
          "base_uri": "https://localhost:8080/"
        },
        "id": "CPoSvGjn0jel",
        "outputId": "05c59645-97c5-4256-fb2a-6d49ed92b364"
      },
      "execution_count": 18,
      "outputs": [
        {
          "output_type": "execute_result",
          "data": {
            "text/plain": [
              "[<tf.Tensor: shape=(2, 128, 768), dtype=float32, numpy=\n",
              " array([[[ 0.12901427,  0.00644745, -0.03614968, ...,  0.04999623,\n",
              "           0.06149194, -0.02657534],\n",
              "         [ 1.1753385 ,  1.2140785 ,  1.1569982 , ...,  0.11634395,\n",
              "          -0.35855356, -0.40490136],\n",
              "         [ 0.03859074,  0.53869957, -0.21089771, ...,  0.21858224,\n",
              "           0.7260165 , -1.1158606 ],\n",
              "         ...,\n",
              "         [-0.07587027, -0.2542189 ,  0.707551  , ...,  0.5054198 ,\n",
              "          -0.18878667,  0.15028352],\n",
              "         [-0.16066618, -0.2808967 ,  0.5759707 , ...,  0.5275855 ,\n",
              "          -0.1114136 ,  0.02887535],\n",
              "         [-0.04428161, -0.20279597,  0.59093547, ...,  0.8133835 ,\n",
              "          -0.390758  , -0.02601749]],\n",
              " \n",
              "        [[ 0.18903582,  0.02752533, -0.06513733, ..., -0.00620214,\n",
              "           0.15053886,  0.03165438],\n",
              "         [ 0.59161484,  0.75891393, -0.07240666, ...,  0.6190399 ,\n",
              "           0.829289  ,  0.16161944],\n",
              "         [ 1.4460827 ,  0.44602653,  0.40990263, ...,  0.48255908,\n",
              "           0.6269115 ,  0.13463423],\n",
              "         ...,\n",
              "         [ 0.15147908, -0.21573836,  0.7032909 , ..., -0.12537202,\n",
              "          -0.13787258,  0.27722055],\n",
              "         [ 0.05143798, -0.24052721,  0.5356913 , ..., -0.07915048,\n",
              "          -0.03307917,  0.1738092 ],\n",
              "         [ 0.2093471 , -0.15645288,  0.6039543 , ...,  0.3290353 ,\n",
              "          -0.3582716 ,  0.08100404]]], dtype=float32)>,\n",
              " <tf.Tensor: shape=(2, 128, 768), dtype=float32, numpy=\n",
              " array([[[ 0.01418151, -0.22088242, -0.1502817 , ...,  0.11415613,\n",
              "           0.12618099,  0.04843371],\n",
              "         [ 1.2033902 ,  1.3469863 ,  1.7064526 , ...,  0.30610558,\n",
              "          -0.50742537, -0.5514736 ],\n",
              "         [ 0.42169142,  0.81102425, -0.25631583, ..., -0.0772249 ,\n",
              "           0.89372313, -1.4472058 ],\n",
              "         ...,\n",
              "         [-0.19047497, -0.23860818,  0.81412035, ...,  0.97493607,\n",
              "          -0.34774214, -0.08733562],\n",
              "         [-0.27151003, -0.31984937,  0.7659389 , ...,  0.9676167 ,\n",
              "          -0.295119  , -0.15731783],\n",
              "         [-0.21302731, -0.1922968 ,  0.73387754, ...,  1.1040436 ,\n",
              "          -0.4510288 , -0.20683073]],\n",
              " \n",
              "        [[ 0.08973343, -0.18419695, -0.1664506 , ...,  0.02761327,\n",
              "           0.11187716,  0.08041702],\n",
              "         [ 0.58311355,  0.5957031 ,  0.3601954 , ...,  0.41270086,\n",
              "           0.2680916 ,  0.2840054 ],\n",
              "         [ 2.116668  ,  0.5176941 ,  0.8637749 , ...,  0.71787333,\n",
              "           0.32405084,  0.09740013],\n",
              "         ...,\n",
              "         [ 0.24372892, -0.05775554,  0.68428785, ...,  0.43483597,\n",
              "          -0.5766093 , -0.11131059],\n",
              "         [ 0.16803882, -0.03091847,  0.58638453, ...,  0.4962584 ,\n",
              "          -0.5056795 , -0.20782201],\n",
              "         [ 0.24831773,  0.00315464,  0.5159252 , ...,  0.8050241 ,\n",
              "          -0.6989961 , -0.24186413]]], dtype=float32)>,\n",
              " <tf.Tensor: shape=(2, 128, 768), dtype=float32, numpy=\n",
              " array([[[ 0.02275404, -0.2798023 ,  0.02345721, ...,  0.2786702 ,\n",
              "           0.11714812,  0.18175076],\n",
              "         [ 1.257484  ,  0.8725079 ,  1.6266011 , ...,  0.4521091 ,\n",
              "          -0.8090258 , -0.5448975 ],\n",
              "         [ 0.7521988 ,  0.63573635, -0.20566145, ..., -0.32381755,\n",
              "           0.7574953 , -1.4587921 ],\n",
              "         ...,\n",
              "         [-0.15107474, -0.21129028,  0.9689463 , ...,  1.1261965 ,\n",
              "          -0.03214078, -0.2234026 ],\n",
              "         [-0.28125656, -0.3114001 ,  0.8432896 , ...,  1.1342677 ,\n",
              "          -0.08336583, -0.25161245],\n",
              "         [-0.24449047, -0.21537858,  0.9480984 , ...,  1.2419423 ,\n",
              "          -0.19873486, -0.33752576]],\n",
              " \n",
              "        [[ 0.10617058, -0.2799073 , -0.01731779, ...,  0.20060426,\n",
              "           0.08148403,  0.21859053],\n",
              "         [ 0.6892587 ,  0.31591517,  0.5558665 , ...,  0.6903949 ,\n",
              "          -0.07141586,  0.41407207],\n",
              "         [ 2.5758886 ,  0.6252092 ,  1.250372  , ...,  0.4395778 ,\n",
              "          -0.18525635, -0.05004812],\n",
              "         ...,\n",
              "         [ 0.20464312, -0.01561953,  0.83431447, ...,  0.80149615,\n",
              "          -0.1285384 , -0.35842043],\n",
              "         [-0.02875684,  0.05097858,  0.6815927 , ...,  0.9003154 ,\n",
              "          -0.12434857, -0.42256376],\n",
              "         [ 0.13327725,  0.02257308,  0.77221715, ...,  1.0211188 ,\n",
              "          -0.30834654, -0.45623162]]], dtype=float32)>,\n",
              " <tf.Tensor: shape=(2, 128, 768), dtype=float32, numpy=\n",
              " array([[[ 0.11484901, -0.6444111 , -0.14245068, ...,  0.2547419 ,\n",
              "           0.00378439,  0.6110512 ],\n",
              "         [ 1.3035429 ,  0.7706048 ,  1.3184996 , ...,  0.3582248 ,\n",
              "          -0.6412162 , -0.32795346],\n",
              "         [ 1.1896743 ,  0.62794447, -0.67501634, ..., -0.2887061 ,\n",
              "           0.47791892, -1.2806    ],\n",
              "         ...,\n",
              "         [-0.22614825, -0.627629  ,  1.0227485 , ...,  0.82923156,\n",
              "          -0.40314674,  0.04389289],\n",
              "         [-0.39901507, -0.75618964,  0.7489384 , ...,  0.7492267 ,\n",
              "          -0.45077682, -0.00367957],\n",
              "         [-0.37728748, -0.7831038 ,  0.9057246 , ...,  0.9736227 ,\n",
              "          -0.4828572 , -0.07389832]],\n",
              " \n",
              "        [[ 0.15151383, -0.70752275, -0.27520436, ...,  0.44345927,\n",
              "          -0.20920384,  0.49860168],\n",
              "         [ 0.88647926, -0.24838184,  0.7353745 , ...,  0.7417941 ,\n",
              "          -0.13177219,  0.10158544],\n",
              "         [ 2.5865812 ,  0.61882883,  0.5279888 , ...,  0.8487317 ,\n",
              "          -0.59150195,  0.02349914],\n",
              "         ...,\n",
              "         [-0.05526896, -0.43394676,  1.1783335 , ...,  0.917917  ,\n",
              "          -0.4571812 , -0.25014627],\n",
              "         [-0.29328674, -0.2309117 ,  0.9938018 , ...,  1.0353798 ,\n",
              "          -0.42435715, -0.3494761 ],\n",
              "         [-0.15899087, -0.5009817 ,  0.98142076, ...,  1.137308  ,\n",
              "          -0.61888325, -0.44457743]]], dtype=float32)>,\n",
              " <tf.Tensor: shape=(2, 128, 768), dtype=float32, numpy=\n",
              " array([[[-0.22174837, -0.42225346, -0.04923996, ..., -0.26284212,\n",
              "           0.06099974,  0.63794917],\n",
              "         [ 1.1627895 ,  0.67705363,  1.3072386 , ...,  0.22794679,\n",
              "          -0.5432957 , -0.2738327 ],\n",
              "         [ 1.5308233 ,  0.722255  , -0.4360867 , ...,  0.2743585 ,\n",
              "           0.24980246, -0.98753744],\n",
              "         ...,\n",
              "         [-0.17669815, -0.31260526,  1.0875318 , ...,  0.59242177,\n",
              "           0.01275324, -0.28171897],\n",
              "         [-0.34473827, -0.42429978,  0.8798024 , ...,  0.5482619 ,\n",
              "          -0.08151912, -0.34001407],\n",
              "         [-0.48139843, -0.31324264,  1.170234  , ...,  0.8730994 ,\n",
              "          -0.07970186, -0.45325485]],\n",
              " \n",
              "        [[-0.21608141, -0.8986418 , -0.44991544, ..., -0.08286193,\n",
              "          -0.17226838,  0.6619986 ],\n",
              "         [ 0.6661449 , -0.5491694 ,  0.46460527, ...,  0.17649376,\n",
              "           0.22822538,  0.34962255],\n",
              "         [ 2.0629625 ,  0.69919854,  0.3560451 , ...,  0.52953434,\n",
              "          -0.34809306,  0.00831419],\n",
              "         ...,\n",
              "         [-0.11594051, -0.171493  ,  0.8994405 , ...,  0.62990195,\n",
              "          -0.33990198, -0.20049235],\n",
              "         [-0.13007458, -0.02739063,  0.7079982 , ...,  0.80594695,\n",
              "          -0.30724096, -0.19956377],\n",
              "         [-0.26314855, -0.261371  ,  0.6338565 , ...,  0.81501836,\n",
              "          -0.4540032 , -0.35120624]]], dtype=float32)>,\n",
              " <tf.Tensor: shape=(2, 128, 768), dtype=float32, numpy=\n",
              " array([[[-0.03392711, -0.3943147 ,  0.0422377 , ..., -0.07905589,\n",
              "           0.01993891,  0.76920694],\n",
              "         [ 1.4294356 , -0.08699012,  1.5299486 , ...,  0.22512172,\n",
              "          -1.0060076 , -0.23702234],\n",
              "         [ 1.5031744 ,  0.6725796 , -0.52590185, ...,  0.10906923,\n",
              "           0.27042383, -1.2567506 ],\n",
              "         ...,\n",
              "         [-0.30033612, -0.02261893,  1.3187411 , ...,  0.6928883 ,\n",
              "          -0.09798431, -0.17419672],\n",
              "         [-0.43754214, -0.21149203,  1.1094574 , ...,  0.5006612 ,\n",
              "          -0.17692395, -0.18529113],\n",
              "         [-0.6592047 , -0.19607912,  1.3134061 , ...,  0.73200876,\n",
              "          -0.19967379, -0.32469177]],\n",
              " \n",
              "        [[-0.27334648, -0.95268416, -0.7869659 , ..., -0.12205259,\n",
              "          -0.08783767,  0.7581165 ],\n",
              "         [ 0.4675699 , -0.16237576, -0.01155942, ...,  0.18781328,\n",
              "           0.62164766,  0.03009948],\n",
              "         [ 1.7947402 ,  0.9051078 ,  0.08580984, ...,  0.7709364 ,\n",
              "          -0.6682785 , -0.06755453],\n",
              "         ...,\n",
              "         [-0.18337503, -0.158066  ,  1.182695  , ...,  0.8304757 ,\n",
              "          -0.39406475, -0.23047723],\n",
              "         [-0.22270109,  0.00976013,  0.93408424, ...,  1.1286682 ,\n",
              "          -0.3488431 , -0.1949152 ],\n",
              "         [-0.30386132, -0.2968314 ,  0.82471585, ...,  1.0090811 ,\n",
              "          -0.4640764 , -0.3146556 ]]], dtype=float32)>,\n",
              " <tf.Tensor: shape=(2, 128, 768), dtype=float32, numpy=\n",
              " array([[[-0.23803467, -0.66554093,  0.29917204, ...,  0.0341513 ,\n",
              "           0.2936286 ,  0.96536356],\n",
              "         [ 1.5040759 ,  0.00695115,  1.4314132 , ...,  0.24628744,\n",
              "          -0.5521957 , -0.32215476],\n",
              "         [ 1.362903  ,  0.4774179 , -0.6152991 , ...,  0.08586956,\n",
              "           0.43922484, -1.5594156 ],\n",
              "         ...,\n",
              "         [-0.16864003,  0.00209747,  1.320177  , ...,  0.94280434,\n",
              "          -0.04737307,  0.2149046 ],\n",
              "         [-0.26666445, -0.24881198,  1.2213265 , ...,  0.6352808 ,\n",
              "          -0.0444246 ,  0.04466254],\n",
              "         [-0.5336611 , -0.3579607 ,  1.3447866 , ...,  0.60384536,\n",
              "          -0.08427183, -0.1571205 ]],\n",
              " \n",
              "        [[-0.05967449, -0.844821  , -0.89390224, ..., -0.1086386 ,\n",
              "           0.40932435,  0.7940859 ],\n",
              "         [ 0.5440508 , -0.31962916, -0.45491588, ...,  0.4806872 ,\n",
              "           0.77862597,  0.22774304],\n",
              "         [ 1.4479868 ,  1.1230619 ,  0.09568013, ...,  1.3554298 ,\n",
              "           0.06143576, -0.00836801],\n",
              "         ...,\n",
              "         [ 0.2565222 , -0.14106531,  1.1854349 , ...,  0.95683765,\n",
              "          -0.21603945, -0.0694638 ],\n",
              "         [ 0.2581917 ,  0.07949255,  0.9851638 , ...,  1.0518224 ,\n",
              "          -0.0789085 , -0.12841544],\n",
              "         [-0.05268894, -0.33431345,  0.96373326, ...,  0.8960694 ,\n",
              "          -0.10082369, -0.2812956 ]]], dtype=float32)>,\n",
              " <tf.Tensor: shape=(2, 128, 768), dtype=float32, numpy=\n",
              " array([[[-7.0827246e-02, -2.5689918e-01, -3.5962489e-02, ...,\n",
              "          -3.5881275e-01,  1.3524820e-01,  1.0136117e+00],\n",
              "         [ 9.7471929e-01, -1.9712897e-01,  1.4318075e+00, ...,\n",
              "          -1.4052090e-01, -5.0431706e-02, -2.7141539e-02],\n",
              "         [ 1.1273402e+00,  2.7122769e-01, -2.8622949e-01, ...,\n",
              "           9.3385980e-02,  2.9908264e-01, -1.3764443e+00],\n",
              "         ...,\n",
              "         [-9.5786832e-02,  2.9180825e-01,  1.5879147e+00, ...,\n",
              "           8.5004282e-01, -5.1284559e-02,  2.0340140e-01],\n",
              "         [-2.2268856e-01, -8.3895341e-02,  1.7256014e+00, ...,\n",
              "           6.1222285e-01,  1.0976583e-01,  7.0046723e-02],\n",
              "         [-5.7829976e-01, -3.5915661e-01,  1.6035966e+00, ...,\n",
              "           3.4189942e-01,  5.2881107e-02, -1.5400931e-01]],\n",
              " \n",
              "        [[ 6.1017610e-02, -3.5161567e-01, -8.4891444e-01, ...,\n",
              "          -4.8554918e-01,  4.2703086e-01,  6.3828987e-01],\n",
              "         [ 6.6376513e-01,  1.8312689e-04, -7.9078859e-01, ...,\n",
              "           3.0687028e-01,  7.5843722e-01,  7.3240185e-01],\n",
              "         [ 1.4494703e+00,  1.1265047e+00,  1.7709248e-01, ...,\n",
              "           2.3471606e-01,  3.4929517e-01,  4.3709868e-01],\n",
              "         ...,\n",
              "         [ 3.2339486e-01,  1.7575882e-01,  8.7672418e-01, ...,\n",
              "           9.8904151e-01, -2.7050835e-01, -3.0809417e-01],\n",
              "         [ 4.0404332e-01,  5.1365006e-01,  7.2748059e-01, ...,\n",
              "           9.4942117e-01, -1.0214949e-02, -3.4644309e-01],\n",
              "         [-9.1299927e-03, -8.7016851e-02,  7.3031795e-01, ...,\n",
              "           8.5439670e-01, -1.3661250e-01, -4.7493500e-01]]], dtype=float32)>,\n",
              " <tf.Tensor: shape=(2, 128, 768), dtype=float32, numpy=\n",
              " array([[[-0.09403522, -0.05987614, -0.01171696, ..., -0.2216756 ,\n",
              "          -0.07650103,  0.5765817 ],\n",
              "         [ 0.7748066 ,  0.15188232,  1.0920006 , ..., -0.19562468,\n",
              "           0.15173191, -0.01071383],\n",
              "         [ 0.85191333,  0.25842714, -0.7703559 , ...,  0.03356712,\n",
              "           0.34010428, -1.3918686 ],\n",
              "         ...,\n",
              "         [-0.19780338,  0.5281978 ,  0.9023534 , ...,  0.27919757,\n",
              "          -0.28764063,  0.7510941 ],\n",
              "         [-0.35067362,  0.09292021,  1.3383349 , ...,  0.22619678,\n",
              "          -0.03588957,  0.27343938],\n",
              "         [-0.9044506 , -0.20991246,  1.1977353 , ...,  0.3511857 ,\n",
              "          -0.21743575,  0.01482281]],\n",
              " \n",
              "        [[-0.07011082, -0.02392448, -0.6192432 , ..., -0.14542018,\n",
              "           0.34049365,  0.4122476 ],\n",
              "         [ 0.59261584,  0.19016004, -0.37399554, ...,  0.37239653,\n",
              "           0.3915292 ,  0.42580467],\n",
              "         [ 1.1394777 ,  0.8439862 ,  0.3889401 , ...,  0.20898333,\n",
              "           0.25176388,  0.2640011 ],\n",
              "         ...,\n",
              "         [ 0.43305933,  0.42012215,  1.0965112 , ...,  1.1872371 ,\n",
              "          -0.16672136,  0.0085623 ],\n",
              "         [ 0.5754236 ,  0.86609495,  1.1184684 , ...,  1.0475059 ,\n",
              "           0.04264406, -0.01540327],\n",
              "         [-0.0548791 , -0.07306917,  0.90122074, ...,  0.800453  ,\n",
              "          -0.16820656, -0.3550734 ]]], dtype=float32)>,\n",
              " <tf.Tensor: shape=(2, 128, 768), dtype=float32, numpy=\n",
              " array([[[-0.22671384,  0.03110877,  0.32186103, ..., -0.28090212,\n",
              "          -0.7505079 ,  0.44557995],\n",
              "         [ 0.77125543,  0.11217895,  0.66033137, ..., -0.09223837,\n",
              "           0.34821117, -0.36905083],\n",
              "         [ 0.5122405 , -0.19929034, -0.8477507 , ..., -0.28812057,\n",
              "           0.22383726, -1.212461  ],\n",
              "         ...,\n",
              "         [ 0.1250075 ,  0.6663397 ,  0.985221  , ..., -0.08709396,\n",
              "          -0.5805462 ,  0.612724  ],\n",
              "         [ 0.01400377,  0.10471275,  1.2684815 , ..., -0.0183314 ,\n",
              "          -0.3593313 ,  0.15463224],\n",
              "         [-0.8093836 , -0.3606814 ,  1.3501275 , ...,  0.58936065,\n",
              "          -0.5093227 , -0.09766936]],\n",
              " \n",
              "        [[-0.21534969, -0.23962198, -0.30932397, ..., -0.25964946,\n",
              "           0.09695254,  0.41826668],\n",
              "         [ 0.5070062 , -0.01544832, -0.10519624, ...,  0.38675347,\n",
              "           0.22041239, -0.1029321 ],\n",
              "         [ 1.0366052 ,  0.9171314 ,  0.2616424 , ...,  0.33182174,\n",
              "           0.4559703 ,  0.12697971],\n",
              "         ...,\n",
              "         [ 0.16190517,  0.76270175,  1.2737684 , ...,  0.5726004 ,\n",
              "          -0.05929564,  0.26224124],\n",
              "         [ 0.46124506,  1.1673881 ,  0.95947754, ...,  0.46033028,\n",
              "           0.13521466,  0.45136118],\n",
              "         [-0.24183999,  0.17352724,  0.84156376, ...,  0.24766804,\n",
              "          -0.14810231,  0.0655747 ]]], dtype=float32)>,\n",
              " <tf.Tensor: shape=(2, 128, 768), dtype=float32, numpy=\n",
              " array([[[-2.1951508e-02,  2.1303606e-01,  3.1135911e-01, ...,\n",
              "          -2.3917933e-01, -2.7870834e-01,  2.0408469e-01],\n",
              "         [ 8.3098483e-01,  1.9078137e-01,  7.1134555e-01, ...,\n",
              "          -3.0024493e-01,  3.1152412e-01, -2.5933996e-01],\n",
              "         [ 3.7308919e-01, -4.2212635e-01, -6.6690946e-01, ...,\n",
              "          -4.5297638e-01,  3.2045168e-01, -2.9988661e-01],\n",
              "         ...,\n",
              "         [ 3.3166602e-01,  7.1835840e-01,  8.9961052e-01, ...,\n",
              "          -3.4914511e-01, -2.9987001e-01,  5.2388847e-01],\n",
              "         [ 2.3853293e-01,  2.0484461e-01,  1.1306422e+00, ...,\n",
              "          -1.5113044e-01, -1.3781145e-01,  7.6999672e-02],\n",
              "         [-3.8412035e-01, -3.8158774e-01,  1.3397288e+00, ...,\n",
              "           5.7755488e-01, -1.5539947e-01, -2.9294536e-01]],\n",
              " \n",
              "        [[ 1.4363039e-01,  1.6980210e-01,  4.5119975e-02, ...,\n",
              "          -6.2167689e-02, -1.5752904e-02,  2.8787038e-01],\n",
              "         [ 5.8476025e-01,  2.6993287e-01, -2.8520679e-01, ...,\n",
              "           3.3893096e-01,  1.1777362e-01,  3.6987063e-02],\n",
              "         [ 1.2525783e+00,  1.2556447e+00,  3.8754451e-01, ...,\n",
              "           1.7275780e-01,  4.9666202e-01,  6.1378187e-01],\n",
              "         ...,\n",
              "         [ 1.9548570e-01,  4.4082016e-01,  1.0389380e+00, ...,\n",
              "           1.4527108e-01, -2.7743930e-01,  1.9032207e-01],\n",
              "         [ 4.4816542e-01,  7.6447845e-01,  6.9800621e-01, ...,\n",
              "          -8.3548017e-04, -7.9644263e-02,  4.9335974e-01],\n",
              "         [-2.3398054e-01, -2.0333591e-01,  3.4824753e-01, ...,\n",
              "          -6.4342245e-02, -3.2087615e-01,  2.2334535e-02]]], dtype=float32)>,\n",
              " <tf.Tensor: shape=(2, 128, 768), dtype=float32, numpy=\n",
              " array([[[ 0.07292052,  0.08567816,  0.14476845, ..., -0.09677083,\n",
              "           0.08722137,  0.07711115],\n",
              "         [ 0.17839417, -0.19006072,  0.50349414, ..., -0.05869839,\n",
              "           0.32717133, -0.1557851 ],\n",
              "         [ 0.18701468, -0.4338877 , -0.4887512 , ..., -0.15502769,\n",
              "           0.00145123, -0.24470976],\n",
              "         ...,\n",
              "         [ 0.12083095,  0.12884252,  0.46453527, ...,  0.07375526,\n",
              "           0.17441928,  0.16522127],\n",
              "         [ 0.07967874, -0.01190651,  0.50225425, ...,  0.13777722,\n",
              "           0.210022  ,  0.00624609],\n",
              "         [-0.07212679, -0.28303468,  0.59033394, ...,  0.47551876,\n",
              "           0.16668491, -0.08920345]],\n",
              " \n",
              "        [[-0.07900596,  0.3633513 , -0.21101598, ..., -0.17183745,\n",
              "           0.16299766,  0.672427  ],\n",
              "         [ 0.27883482,  0.43716294, -0.35764748, ..., -0.04463664,\n",
              "           0.38315204,  0.5887989 ],\n",
              "         [ 1.2037666 ,  1.072702  ,  0.48408726, ...,  0.24920994,\n",
              "           0.40730894,  0.40481845],\n",
              "         ...,\n",
              "         [ 0.08630016,  0.19353852,  0.47540087, ...,  0.18880205,\n",
              "          -0.06474119,  0.3131861 ],\n",
              "         [ 0.15887055,  0.28572714,  0.37340796, ...,  0.09309132,\n",
              "          -0.04969551,  0.38761175],\n",
              "         [-0.08079863, -0.09572858,  0.2680977 , ...,  0.13979623,\n",
              "          -0.06315842,  0.27288345]]], dtype=float32)>]"
            ]
          },
          "metadata": {},
          "execution_count": 18
        }
      ]
    },
    {
      "cell_type": "code",
      "source": [
        "#Last layer of encoder_output is same as sequence output.\n",
        "bert_results['sequence_output'] == bert_results['encoder_outputs'][-1]"
      ],
      "metadata": {
        "colab": {
          "base_uri": "https://localhost:8080/"
        },
        "id": "8SflyCz7yJ_8",
        "outputId": "c42cb2ed-e8d7-4088-c7e9-19d6e34d7200"
      },
      "execution_count": 19,
      "outputs": [
        {
          "output_type": "execute_result",
          "data": {
            "text/plain": [
              "<tf.Tensor: shape=(2, 128, 768), dtype=bool, numpy=\n",
              "array([[[ True,  True,  True, ...,  True,  True,  True],\n",
              "        [ True,  True,  True, ...,  True,  True,  True],\n",
              "        [ True,  True,  True, ...,  True,  True,  True],\n",
              "        ...,\n",
              "        [ True,  True,  True, ...,  True,  True,  True],\n",
              "        [ True,  True,  True, ...,  True,  True,  True],\n",
              "        [ True,  True,  True, ...,  True,  True,  True]],\n",
              "\n",
              "       [[ True,  True,  True, ...,  True,  True,  True],\n",
              "        [ True,  True,  True, ...,  True,  True,  True],\n",
              "        [ True,  True,  True, ...,  True,  True,  True],\n",
              "        ...,\n",
              "        [ True,  True,  True, ...,  True,  True,  True],\n",
              "        [ True,  True,  True, ...,  True,  True,  True],\n",
              "        [ True,  True,  True, ...,  True,  True,  True]]])>"
            ]
          },
          "metadata": {},
          "execution_count": 19
        }
      ]
    }
  ]
}